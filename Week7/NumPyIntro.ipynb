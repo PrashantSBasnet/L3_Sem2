{
  "nbformat": 4,
  "nbformat_minor": 0,
  "metadata": {
    "colab": {
      "provenance": [],
      "authorship_tag": "ABX9TyMcho8Cs3Znt54gDb3/pIiv",
      "include_colab_link": true
    },
    "kernelspec": {
      "name": "python3",
      "display_name": "Python 3"
    },
    "language_info": {
      "name": "python"
    }
  },
  "cells": [
    {
      "cell_type": "markdown",
      "metadata": {
        "id": "view-in-github",
        "colab_type": "text"
      },
      "source": [
        "<a href=\"https://colab.research.google.com/github/PrashantSBasnet/L3_Sem2/blob/master/Week7/NumPyIntro.ipynb\" target=\"_parent\"><img src=\"https://colab.research.google.com/assets/colab-badge.svg\" alt=\"Open In Colab\"/></a>"
      ]
    },
    {
      "cell_type": "markdown",
      "source": [
        " - pip install numpy\n",
        "\n",
        "import numpy as np\n",
        "\n",
        "print(np.__version__)\n",
        "\n"
      ],
      "metadata": {
        "id": "7SfOhFzi9CQQ"
      }
    },
    {
      "cell_type": "markdown",
      "source": [
        "**Why are Lists slower?**\n",
        "*   Lists are slower than Numpy.\n",
        "*   Lists uses built in int type that consists of: Size, Reference Count, Object Type, Object Value\n",
        "*   Type checking is necessary when iterating though the objects stored in a list.\n",
        "*   List doesn't use contiguous memeory.\n",
        "\n",
        "**Why is NumPy faster?**\n",
        "*   It uses fixed type. NumPy uses less bytes of memory which is faster to read.\n",
        "*   No type checking when iterating throught the objects\n",
        "*   NumPy uses contiguous memory.\n",
        "\n",
        "\n",
        "\n",
        "\n",
        "\n",
        "\n",
        "\n"
      ],
      "metadata": {
        "id": "aZvyudjj_gDx"
      }
    },
    {
      "cell_type": "markdown",
      "source": [
        "**Applications of NumPy**\n",
        "\n",
        "\n",
        "*   Mathematics (MATLAB Replacement)\n",
        "*   Plotting (Matplotlib)\n",
        "*   Backend of the libraries: Pandas, Connect 4, Digital Photography\n",
        "*   Machine Learning\n",
        "\n",
        "\n"
      ],
      "metadata": {
        "id": "YfoF99_TBc3w"
      }
    },
    {
      "cell_type": "markdown",
      "source": [
        "Array is a container that holds multiple values of the same type."
      ],
      "metadata": {
        "id": "xG1uaDxxqXD1"
      }
    },
    {
      "cell_type": "code",
      "execution_count": 3,
      "metadata": {
        "id": "JB57iCjz7dkC"
      },
      "outputs": [],
      "source": [
        "import numpy as np"
      ]
    },
    {
      "cell_type": "code",
      "source": [
        "a= np.array([1,2,3]) #1D Array\n",
        "print (a)"
      ],
      "metadata": {
        "colab": {
          "base_uri": "https://localhost:8080/"
        },
        "id": "i9DG7DNuB8a8",
        "outputId": "48075fe5-efbd-415b-b91e-46346eeec7a0"
      },
      "execution_count": 4,
      "outputs": [
        {
          "output_type": "stream",
          "name": "stdout",
          "text": [
            "[1 2 3]\n"
          ]
        }
      ]
    },
    {
      "cell_type": "code",
      "source": [
        "b = np.array([[1,2,3],[3.0,4.0,8.6]]) #2D Array\n",
        "b1 = np.array([[1,2,3,4,6]]) #2d Array\n",
        "print (b)"
      ],
      "metadata": {
        "colab": {
          "base_uri": "https://localhost:8080/"
        },
        "id": "hbXwyZ4bCAso",
        "outputId": "9138ae10-c517-4b23-a583-bbe2dd3c4ada"
      },
      "execution_count": 6,
      "outputs": [
        {
          "output_type": "stream",
          "name": "stdout",
          "text": [
            "[[1.  2.  3. ]\n",
            " [3.  4.  8.6]]\n"
          ]
        }
      ]
    },
    {
      "cell_type": "code",
      "source": [
        "c = np.array([[[1, 2, 3], [4, 5, 6]], [[7, 8, 9], [10, 11, 12]]]) # 3D Array\n",
        "c1 = np.array([[[1,2,3,4,5]]]) #3D Array\n",
        "print (c)"
      ],
      "metadata": {
        "colab": {
          "base_uri": "https://localhost:8080/"
        },
        "id": "Qu6wXKwWDNEr",
        "outputId": "d26ec9ac-aba2-4fa2-f7c3-70fb749b8aa3"
      },
      "execution_count": 13,
      "outputs": [
        {
          "output_type": "stream",
          "name": "stdout",
          "text": [
            "[[[ 1  2  3]\n",
            "  [ 4  5  6]]\n",
            "\n",
            " [[ 7  8  9]\n",
            "  [10 11 12]]]\n"
          ]
        }
      ]
    },
    {
      "cell_type": "code",
      "source": [
        "#Get Dimension\n",
        "a.ndim"
      ],
      "metadata": {
        "colab": {
          "base_uri": "https://localhost:8080/"
        },
        "id": "81pJNggxCKet",
        "outputId": "d92f0a5b-ad3b-4f45-8355-5cf7ad68564b"
      },
      "execution_count": 8,
      "outputs": [
        {
          "output_type": "execute_result",
          "data": {
            "text/plain": [
              "1"
            ]
          },
          "metadata": {},
          "execution_count": 8
        }
      ]
    },
    {
      "cell_type": "code",
      "source": [
        "b.ndim\n"
      ],
      "metadata": {
        "colab": {
          "base_uri": "https://localhost:8080/"
        },
        "id": "O2bITQodCRvi",
        "outputId": "f1b00371-fa24-4735-c3c3-2925e7568c64"
      },
      "execution_count": 9,
      "outputs": [
        {
          "output_type": "execute_result",
          "data": {
            "text/plain": [
              "2"
            ]
          },
          "metadata": {},
          "execution_count": 9
        }
      ]
    },
    {
      "cell_type": "code",
      "source": [
        "b1.ndim"
      ],
      "metadata": {
        "colab": {
          "base_uri": "https://localhost:8080/"
        },
        "id": "zRegwZmprbYq",
        "outputId": "10058009-c7ac-468e-9188-8b98860b964c"
      },
      "execution_count": 10,
      "outputs": [
        {
          "output_type": "execute_result",
          "data": {
            "text/plain": [
              "2"
            ]
          },
          "metadata": {},
          "execution_count": 10
        }
      ]
    },
    {
      "cell_type": "code",
      "source": [
        "c.ndim"
      ],
      "metadata": {
        "colab": {
          "base_uri": "https://localhost:8080/"
        },
        "id": "dufzaeHODUSy",
        "outputId": "66d706f9-3c06-4988-dc3c-d75b32606ed7"
      },
      "execution_count": 18,
      "outputs": [
        {
          "output_type": "execute_result",
          "data": {
            "text/plain": [
              "3"
            ]
          },
          "metadata": {},
          "execution_count": 18
        }
      ]
    },
    {
      "cell_type": "code",
      "source": [
        "c1.ndim"
      ],
      "metadata": {
        "colab": {
          "base_uri": "https://localhost:8080/"
        },
        "id": "UMZOWj0fsmAS",
        "outputId": "5c93643f-8546-4f8c-d1a6-c8170024994e"
      },
      "execution_count": 17,
      "outputs": [
        {
          "output_type": "execute_result",
          "data": {
            "text/plain": [
              "3"
            ]
          },
          "metadata": {},
          "execution_count": 17
        }
      ]
    },
    {
      "cell_type": "code",
      "source": [
        "#GetShape\n",
        "a.shape"
      ],
      "metadata": {
        "colab": {
          "base_uri": "https://localhost:8080/"
        },
        "id": "4DcG3R6ICT0G",
        "outputId": "e8e61b96-007c-4aec-fb60-e0b918e6ff78"
      },
      "execution_count": 19,
      "outputs": [
        {
          "output_type": "execute_result",
          "data": {
            "text/plain": [
              "(3,)"
            ]
          },
          "metadata": {},
          "execution_count": 19
        }
      ]
    },
    {
      "cell_type": "code",
      "source": [
        "b.shape"
      ],
      "metadata": {
        "colab": {
          "base_uri": "https://localhost:8080/"
        },
        "id": "6vb-VMMmCYZW",
        "outputId": "2d87521a-0462-4e74-a2de-fdaa3f7a4642"
      },
      "execution_count": 20,
      "outputs": [
        {
          "output_type": "execute_result",
          "data": {
            "text/plain": [
              "(2, 3)"
            ]
          },
          "metadata": {},
          "execution_count": 20
        }
      ]
    },
    {
      "cell_type": "code",
      "source": [
        "b1.shape"
      ],
      "metadata": {
        "colab": {
          "base_uri": "https://localhost:8080/"
        },
        "id": "w2ua0VjUrfiB",
        "outputId": "ebb6a682-316f-47b2-cd9d-23448458a574"
      },
      "execution_count": 11,
      "outputs": [
        {
          "output_type": "execute_result",
          "data": {
            "text/plain": [
              "(1, 5)"
            ]
          },
          "metadata": {},
          "execution_count": 11
        }
      ]
    },
    {
      "cell_type": "code",
      "source": [
        "c.shape"
      ],
      "metadata": {
        "colab": {
          "base_uri": "https://localhost:8080/"
        },
        "id": "ykdOI-HYE1oc",
        "outputId": "d5565e2c-8e38-4627-d2ed-514db2973469"
      },
      "execution_count": 15,
      "outputs": [
        {
          "output_type": "execute_result",
          "data": {
            "text/plain": [
              "(2, 2, 3)"
            ]
          },
          "metadata": {},
          "execution_count": 15
        }
      ]
    },
    {
      "cell_type": "code",
      "source": [
        "c1.shape"
      ],
      "metadata": {
        "colab": {
          "base_uri": "https://localhost:8080/"
        },
        "id": "mlBUAcOPrsAU",
        "outputId": "2524744d-689e-49f7-b949-912a97ddc481"
      },
      "execution_count": 14,
      "outputs": [
        {
          "output_type": "execute_result",
          "data": {
            "text/plain": [
              "(1, 1, 5)"
            ]
          },
          "metadata": {},
          "execution_count": 14
        }
      ]
    },
    {
      "cell_type": "code",
      "source": [
        "# Get type\n",
        "a.dtype"
      ],
      "metadata": {
        "colab": {
          "base_uri": "https://localhost:8080/"
        },
        "id": "EnjAAF2wCl5w",
        "outputId": "1c6d7ed0-f0e5-4f9f-843f-5abd0d9de538"
      },
      "execution_count": 13,
      "outputs": [
        {
          "output_type": "execute_result",
          "data": {
            "text/plain": [
              "dtype('int64')"
            ]
          },
          "metadata": {},
          "execution_count": 13
        }
      ]
    },
    {
      "cell_type": "code",
      "source": [
        "x = np.array([1,2,3], dtype= 'int64')\n",
        "x.dtype"
      ],
      "metadata": {
        "colab": {
          "base_uri": "https://localhost:8080/"
        },
        "id": "po1bNBRcCrJj",
        "outputId": "46dbb26f-1faa-463f-d482-98efb72b4862"
      },
      "execution_count": 21,
      "outputs": [
        {
          "output_type": "execute_result",
          "data": {
            "text/plain": [
              "dtype('int64')"
            ]
          },
          "metadata": {},
          "execution_count": 21
        }
      ]
    },
    {
      "cell_type": "code",
      "source": [
        "x.itemsize #memory consumed by datatype"
      ],
      "metadata": {
        "colab": {
          "base_uri": "https://localhost:8080/"
        },
        "id": "Nh9kxl7CC022",
        "outputId": "ac9522e3-70db-4f35-c404-508d04c65f1c"
      },
      "execution_count": 22,
      "outputs": [
        {
          "output_type": "execute_result",
          "data": {
            "text/plain": [
              "8"
            ]
          },
          "metadata": {},
          "execution_count": 22
        }
      ]
    },
    {
      "cell_type": "code",
      "source": [
        "#no. of elements\n",
        "x.size"
      ],
      "metadata": {
        "colab": {
          "base_uri": "https://localhost:8080/"
        },
        "id": "NlFaYNQ3C5TK",
        "outputId": "03649398-7656-443f-ba03-6af23a743803"
      },
      "execution_count": 18,
      "outputs": [
        {
          "output_type": "execute_result",
          "data": {
            "text/plain": [
              "3"
            ]
          },
          "metadata": {},
          "execution_count": 18
        }
      ]
    },
    {
      "cell_type": "code",
      "source": [
        "print(c)\n",
        "print(\"Shape:\", c.shape)\n",
        "print(\"Number of dimensions:\", c.ndim)"
      ],
      "metadata": {
        "colab": {
          "base_uri": "https://localhost:8080/"
        },
        "id": "V41F5wvxD86p",
        "outputId": "fb82efa9-3e27-4898-9f19-8692ed665127"
      },
      "execution_count": 24,
      "outputs": [
        {
          "output_type": "stream",
          "name": "stdout",
          "text": [
            "[[[ 1  2  3]\n",
            "  [ 4  5  6]]\n",
            "\n",
            " [[ 7  8  9]\n",
            "  [10 11 12]]]\n",
            "Shape: (2, 2, 3)\n",
            "Number of dimensions: 3\n"
          ]
        }
      ]
    },
    {
      "cell_type": "code",
      "source": [
        "print(c1)\n",
        "print(\"Shape:\", c1.shape)\n",
        "print(\"Number of dimensions:\", c1.ndim)"
      ],
      "metadata": {
        "colab": {
          "base_uri": "https://localhost:8080/"
        },
        "outputId": "d0853232-ebb5-4a6a-cba6-17d16cb11489",
        "id": "ao0o-n-lr6qw"
      },
      "execution_count": 16,
      "outputs": [
        {
          "output_type": "stream",
          "name": "stdout",
          "text": [
            "[[[1 2 3 4 5]]]\n",
            "Shape: (1, 1, 5)\n",
            "Number of dimensions: 3\n"
          ]
        }
      ]
    },
    {
      "cell_type": "markdown",
      "source": [
        "**Functions to create Array**"
      ],
      "metadata": {
        "id": "gYYx5GwXufwR"
      }
    },
    {
      "cell_type": "markdown",
      "source": [],
      "metadata": {
        "id": "INnTMIzgv3_6"
      }
    },
    {
      "cell_type": "markdown",
      "source": [
        "**using linspace()**\n",
        "\n",
        "\n",
        "*   Return evenly spaced numbers over a specified interval.\n",
        "*   Returns num evenly spaced samples, calculated over the interval [start, stop]. In other words, the samples are uniformly distributed in linear space\n",
        "*   The endpoint of the interval can optionally be excluded.\n",
        "\n",
        "**numpy.linspace(start, stop, num=50, endpoint=True, retstep=False, dtype=None, axis=0)**\n",
        "\n",
        "\n",
        "\n",
        "\n",
        "\n",
        "\n",
        "\n"
      ],
      "metadata": {
        "id": "PdLJ0KLru-vm"
      }
    },
    {
      "cell_type": "code",
      "source": [
        "from numpy import *"
      ],
      "metadata": {
        "id": "MtSOW-DhvRYZ"
      },
      "execution_count": 25,
      "outputs": []
    },
    {
      "cell_type": "code",
      "source": [
        "arr = linspace(2,3,num=5)\n",
        "print (arr)"
      ],
      "metadata": {
        "colab": {
          "base_uri": "https://localhost:8080/"
        },
        "id": "G9dfnyhIuiu7",
        "outputId": "a422e8f8-b686-4a53-ef72-709d81f8297f"
      },
      "execution_count": 33,
      "outputs": [
        {
          "output_type": "stream",
          "name": "stdout",
          "text": [
            "[2.   2.25 2.5  2.75 3.  ]\n"
          ]
        }
      ]
    },
    {
      "cell_type": "code",
      "source": [
        "arr = linspace(2,3,7)\n",
        "print (arr)"
      ],
      "metadata": {
        "colab": {
          "base_uri": "https://localhost:8080/"
        },
        "id": "L8VzCKb-wQCc",
        "outputId": "58cca238-b8fd-45ec-fd10-31a0cc67daf2"
      },
      "execution_count": 34,
      "outputs": [
        {
          "output_type": "stream",
          "name": "stdout",
          "text": [
            "[2.         2.16666667 2.33333333 2.5        2.66666667 2.83333333\n",
            " 3.        ]\n"
          ]
        }
      ]
    },
    {
      "cell_type": "markdown",
      "source": [
        "**Using arange()**\n",
        "*   Similar to linspace, with the step size specified instead of the number of samples.\n",
        "\n",
        "\n"
      ],
      "metadata": {
        "id": "Nwcy3Pjmwixt"
      }
    },
    {
      "cell_type": "code",
      "source": [
        "arr = arange(1,10,3)   #arange(start,stop,step)\n",
        "print(arr)"
      ],
      "metadata": {
        "colab": {
          "base_uri": "https://localhost:8080/"
        },
        "id": "mIKIeawfwt3y",
        "outputId": "5d5f4818-8d97-4e71-c8ed-69b9106163fc"
      },
      "execution_count": 40,
      "outputs": [
        {
          "output_type": "stream",
          "name": "stdout",
          "text": [
            "[1 4 7]\n"
          ]
        }
      ]
    },
    {
      "cell_type": "markdown",
      "source": [
        "**Using logspace()**\n",
        "*   Return numbers spaced evenly on a log scale.\n",
        "*   In linear space, the sequence starts at base ** start (base to the power of start) and ends with base ** stop"
      ],
      "metadata": {
        "id": "VbTN2k6cw8nY"
      }
    },
    {
      "cell_type": "code",
      "source": [
        "arr = logspace(4, 10, 5)\n",
        "print (arr)"
      ],
      "metadata": {
        "colab": {
          "base_uri": "https://localhost:8080/"
        },
        "id": "VOUpLh0iw-I6",
        "outputId": "b7ea174a-56ba-4976-df57-dd6fe7de1c3e"
      },
      "execution_count": 48,
      "outputs": [
        {
          "output_type": "stream",
          "name": "stdout",
          "text": [
            "[1.00000000e+04 3.16227766e+05 1.00000000e+07 3.16227766e+08\n",
            " 1.00000000e+10]\n"
          ]
        }
      ]
    },
    {
      "cell_type": "code",
      "source": [
        "print ('%.2f' %arr[3])"
      ],
      "metadata": {
        "colab": {
          "base_uri": "https://localhost:8080/"
        },
        "id": "kHVSLlrbxlpT",
        "outputId": "247280de-e675-462b-974f-4d50f2205b72"
      },
      "execution_count": 49,
      "outputs": [
        {
          "output_type": "stream",
          "name": "stdout",
          "text": [
            "316227766.02\n"
          ]
        }
      ]
    },
    {
      "cell_type": "markdown",
      "source": [
        "**Using zeros()**"
      ],
      "metadata": {
        "id": "u4ndoTcCymlf"
      }
    },
    {
      "cell_type": "code",
      "source": [
        "arr = zeros(2) #size is specified\n",
        "print (arr)"
      ],
      "metadata": {
        "colab": {
          "base_uri": "https://localhost:8080/"
        },
        "id": "YfmnJsWIyVkh",
        "outputId": "a075707a-ff7e-4c1f-c235-2b2fe3c88146"
      },
      "execution_count": 53,
      "outputs": [
        {
          "output_type": "stream",
          "name": "stdout",
          "text": [
            "[0. 0.]\n"
          ]
        }
      ]
    },
    {
      "cell_type": "markdown",
      "source": [
        "**Using ones()**"
      ],
      "metadata": {
        "id": "8as-7rNny364"
      }
    },
    {
      "cell_type": "code",
      "source": [
        "arr = ones(5) #size is specified\n",
        "print (arr)"
      ],
      "metadata": {
        "colab": {
          "base_uri": "https://localhost:8080/"
        },
        "id": "4JlSVUFey7B4",
        "outputId": "d455ef1f-8538-4e32-fe7e-fa62f10bfd19"
      },
      "execution_count": 54,
      "outputs": [
        {
          "output_type": "stream",
          "name": "stdout",
          "text": [
            "[1. 1. 1. 1. 1.]\n"
          ]
        }
      ]
    }
  ]
}