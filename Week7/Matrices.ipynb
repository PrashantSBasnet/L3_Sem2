{
  "nbformat": 4,
  "nbformat_minor": 0,
  "metadata": {
    "colab": {
      "provenance": [],
      "include_colab_link": true
    },
    "kernelspec": {
      "name": "python3",
      "display_name": "Python 3"
    },
    "language_info": {
      "name": "python"
    }
  },
  "cells": [
    {
      "cell_type": "markdown",
      "metadata": {
        "id": "view-in-github",
        "colab_type": "text"
      },
      "source": [
        "<a href=\"https://colab.research.google.com/github/PrashantSBasnet/L3_Sem2/blob/master/Week7/Matrices.ipynb\" target=\"_parent\"><img src=\"https://colab.research.google.com/assets/colab-badge.svg\" alt=\"Open In Colab\"/></a>"
      ]
    },
    {
      "cell_type": "code",
      "execution_count": 2,
      "metadata": {
        "id": "X5ogPOY0eudK"
      },
      "outputs": [],
      "source": [
        "import numpy as np"
      ]
    },
    {
      "cell_type": "code",
      "source": [
        "arr1 = np.array([\n",
        "\n",
        "                 [1,2,3,4,5,6],\n",
        "                 [4,5,6,7,8,9]\n",
        "\n",
        "        ])"
      ],
      "metadata": {
        "id": "vjNC4w7ffEX_"
      },
      "execution_count": 3,
      "outputs": []
    },
    {
      "cell_type": "code",
      "source": [
        "print (arr1)"
      ],
      "metadata": {
        "colab": {
          "base_uri": "https://localhost:8080/"
        },
        "id": "xgAWjkaZfRdh",
        "outputId": "1ca6f142-b488-45a4-bac7-5035546e42db"
      },
      "execution_count": 4,
      "outputs": [
        {
          "output_type": "stream",
          "name": "stdout",
          "text": [
            "[[1 2 3 4 5 6]\n",
            " [4 5 6 7 8 9]]\n"
          ]
        }
      ]
    },
    {
      "cell_type": "code",
      "source": [
        "print (arr1.shape)"
      ],
      "metadata": {
        "colab": {
          "base_uri": "https://localhost:8080/"
        },
        "id": "3pVICph8fXa5",
        "outputId": "bcf3b445-10af-4698-d688-8c2951349895"
      },
      "execution_count": 5,
      "outputs": [
        {
          "output_type": "stream",
          "name": "stdout",
          "text": [
            "(2, 6)\n"
          ]
        }
      ]
    },
    {
      "cell_type": "code",
      "source": [
        "arr2 = arr1.flatten() #converting into 1D array\n",
        "print(arr2)"
      ],
      "metadata": {
        "colab": {
          "base_uri": "https://localhost:8080/"
        },
        "id": "rcC79scEfbxa",
        "outputId": "0ed706f3-fc2a-4fdc-b6ad-fdef481e807e"
      },
      "execution_count": 6,
      "outputs": [
        {
          "output_type": "stream",
          "name": "stdout",
          "text": [
            "[1 2 3 4 5 6 4 5 6 7 8 9]\n"
          ]
        }
      ]
    },
    {
      "cell_type": "code",
      "source": [
        "arr3 = arr1.reshape(3,4) #3 Rows and 4 Columns\n",
        "print (arr3)  #2d array created"
      ],
      "metadata": {
        "colab": {
          "base_uri": "https://localhost:8080/"
        },
        "id": "cvfzQlH5fiP6",
        "outputId": "f40db9be-9bab-4b9e-fc01-c0dff771ed33"
      },
      "execution_count": 7,
      "outputs": [
        {
          "output_type": "stream",
          "name": "stdout",
          "text": [
            "[[1 2 3 4]\n",
            " [5 6 4 5]\n",
            " [6 7 8 9]]\n"
          ]
        }
      ]
    },
    {
      "cell_type": "code",
      "source": [
        "print (arr1.size)"
      ],
      "metadata": {
        "colab": {
          "base_uri": "https://localhost:8080/"
        },
        "id": "jj36QTd2gfeE",
        "outputId": "2bffb7c5-09e1-49e6-bcea-2b62ffe700b9"
      },
      "execution_count": 8,
      "outputs": [
        {
          "output_type": "stream",
          "name": "stdout",
          "text": [
            "12\n"
          ]
        }
      ]
    },
    {
      "cell_type": "code",
      "source": [
        "#3D array with dimensions 2x2x3, denoting a shape where the array consists of 2 matrices, each matrix containing 2 rows and 3 columns.\n",
        "arr4 = arr1.reshape(2,2,3) #creating 3D array. since 12 elements the product = 12\n",
        "print (arr4)"
      ],
      "metadata": {
        "colab": {
          "base_uri": "https://localhost:8080/"
        },
        "id": "3bR-F-vvf0vf",
        "outputId": "1b6a927d-a047-4006-cc3e-95bf162c87b4"
      },
      "execution_count": 9,
      "outputs": [
        {
          "output_type": "stream",
          "name": "stdout",
          "text": [
            "[[[1 2 3]\n",
            "  [4 5 6]]\n",
            "\n",
            " [[4 5 6]\n",
            "  [7 8 9]]]\n"
          ]
        }
      ]
    },
    {
      "cell_type": "code",
      "source": [],
      "metadata": {
        "id": "Ae_-AS1xiy5Z"
      },
      "execution_count": null,
      "outputs": []
    },
    {
      "cell_type": "markdown",
      "source": [
        "**Matrices**\n",
        "\n",
        " A matrix is a specialized 2-D array that retains its 2-D nature through operations. It has certain special operators, such as * (matrix multiplication) and ** (matrix power)."
      ],
      "metadata": {
        "id": "aNSojXYOidFF"
      }
    },
    {
      "cell_type": "markdown",
      "source": [
        "Suppose x is  a 2 dimensional array."
      ],
      "metadata": {
        "id": "Yr5-yoVSi2O3"
      }
    },
    {
      "cell_type": "code",
      "source": [
        "x = np.array ([\n",
        "              [2,3,4,5,6],\n",
        "              [7,8,9,10,11]\n",
        "])"
      ],
      "metadata": {
        "id": "E3Qpf6u6io6g"
      },
      "execution_count": 10,
      "outputs": []
    },
    {
      "cell_type": "code",
      "source": [
        "m = np.matrix(x)\n",
        "print (m)"
      ],
      "metadata": {
        "colab": {
          "base_uri": "https://localhost:8080/"
        },
        "id": "KvQHi8uZi7TK",
        "outputId": "ecd30433-9f0b-40b7-fae3-d5c535ffd7b1"
      },
      "execution_count": 11,
      "outputs": [
        {
          "output_type": "stream",
          "name": "stdout",
          "text": [
            "[[ 2  3  4  5  6]\n",
            " [ 7  8  9 10 11]]\n"
          ]
        }
      ]
    },
    {
      "cell_type": "code",
      "source": [
        "m = np.matrix('1 2 3 4; 5,6,7,8')\n",
        "print (m)"
      ],
      "metadata": {
        "colab": {
          "base_uri": "https://localhost:8080/"
        },
        "id": "d_rFaCbwjEC2",
        "outputId": "9dc14713-0d70-40e9-a12d-5abb6f300577"
      },
      "execution_count": 12,
      "outputs": [
        {
          "output_type": "stream",
          "name": "stdout",
          "text": [
            "[[1 2 3 4]\n",
            " [5 6 7 8]]\n"
          ]
        }
      ]
    },
    {
      "cell_type": "code",
      "source": [
        "m2 = np.matrix('1 2 3; 5,6,7; 8,9,10')\n",
        "print (m2)"
      ],
      "metadata": {
        "colab": {
          "base_uri": "https://localhost:8080/"
        },
        "id": "CJmR01xpjMTv",
        "outputId": "b2a9eb19-1de1-42e3-8a34-6c4b638b0f83"
      },
      "execution_count": 13,
      "outputs": [
        {
          "output_type": "stream",
          "name": "stdout",
          "text": [
            "[[ 1  2  3]\n",
            " [ 5  6  7]\n",
            " [ 8  9 10]]\n"
          ]
        }
      ]
    },
    {
      "cell_type": "code",
      "source": [
        "print (np.diagonal(m2))"
      ],
      "metadata": {
        "colab": {
          "base_uri": "https://localhost:8080/"
        },
        "id": "Rp_0_CrsjR0f",
        "outputId": "64af526e-f84c-412a-ea66-83220a6fa49a"
      },
      "execution_count": 14,
      "outputs": [
        {
          "output_type": "stream",
          "name": "stdout",
          "text": [
            "[ 1  6 10]\n"
          ]
        }
      ]
    },
    {
      "cell_type": "code",
      "source": [
        "print (m.min())"
      ],
      "metadata": {
        "colab": {
          "base_uri": "https://localhost:8080/"
        },
        "id": "H76GiQtPjXET",
        "outputId": "74967ca7-744c-481a-9292-0c724dbc6777"
      },
      "execution_count": 15,
      "outputs": [
        {
          "output_type": "stream",
          "name": "stdout",
          "text": [
            "1\n"
          ]
        }
      ]
    },
    {
      "cell_type": "markdown",
      "source": [
        "**Matrix Addition and Subtraction**"
      ],
      "metadata": {
        "id": "BxdL7wvhjpXu"
      }
    },
    {
      "cell_type": "code",
      "source": [
        "k = np.matrix('1 2 3 4; 5 6 7 8')\n",
        "j = np.matrix('4 5 9 10; 3 5 2 7')\n",
        "\n",
        "sum = k+j\n",
        "diff = k-j\n"
      ],
      "metadata": {
        "id": "vKIgpEoyjo6c"
      },
      "execution_count": 16,
      "outputs": []
    },
    {
      "cell_type": "code",
      "source": [
        "print (sum)"
      ],
      "metadata": {
        "colab": {
          "base_uri": "https://localhost:8080/"
        },
        "id": "OVYqOx_Gj_jJ",
        "outputId": "0be408a3-0c64-430c-b26e-4cc2bfa446a1"
      },
      "execution_count": 17,
      "outputs": [
        {
          "output_type": "stream",
          "name": "stdout",
          "text": [
            "[[ 5  7 12 14]\n",
            " [ 8 11  9 15]]\n"
          ]
        }
      ]
    },
    {
      "cell_type": "code",
      "source": [
        "print (diff)"
      ],
      "metadata": {
        "colab": {
          "base_uri": "https://localhost:8080/"
        },
        "id": "VLO3ZPMEkJqs",
        "outputId": "cb81ac19-746b-411d-a5a7-cf385255eeb9"
      },
      "execution_count": 18,
      "outputs": [
        {
          "output_type": "stream",
          "name": "stdout",
          "text": [
            "[[-3 -3 -6 -6]\n",
            " [ 2  1  5  1]]\n"
          ]
        }
      ]
    },
    {
      "cell_type": "markdown",
      "source": [
        "**Matrix Multiplication**\n",
        "\n",
        "In order to multiply two matrices, *no. of columns in the first matrix = no. of rows in the second matrix*"
      ],
      "metadata": {
        "id": "kjq0b6tSmZZH"
      }
    },
    {
      "cell_type": "code",
      "source": [
        "s1 = np.matrix('2 3; 4 2') #2x2 order\n",
        "s2 = np.matrix('1 5; 2 8') #2X2 order\n"
      ],
      "metadata": {
        "id": "hXZ3SCYiBAHf"
      },
      "execution_count": 23,
      "outputs": []
    },
    {
      "cell_type": "code",
      "source": [
        "print (np.dot(s1,s2)) #matrix multiplication"
      ],
      "metadata": {
        "colab": {
          "base_uri": "https://localhost:8080/"
        },
        "id": "00WWVEdemG44",
        "outputId": "6fd924be-37ba-4398-9663-8c9a60413b39"
      },
      "execution_count": 24,
      "outputs": [
        {
          "output_type": "stream",
          "name": "stdout",
          "text": [
            "[[ 8 34]\n",
            " [ 8 36]]\n"
          ]
        }
      ]
    },
    {
      "cell_type": "code",
      "source": [
        "#Element wise multiplication. This is not matrix Multiplication\n",
        "print (s1*s2)\n",
        "\n"
      ],
      "metadata": {
        "colab": {
          "base_uri": "https://localhost:8080/"
        },
        "id": "9FWRtxJrBbxc",
        "outputId": "2a3d58a9-a333-4750-b55d-3e76ad2ac411"
      },
      "execution_count": 28,
      "outputs": [
        {
          "output_type": "stream",
          "name": "stdout",
          "text": [
            "[[ 8 34]\n",
            " [ 8 36]]\n"
          ]
        }
      ]
    },
    {
      "cell_type": "code",
      "source": [
        "#each element is multiplied by 2\n",
        "print (2 * s1)"
      ],
      "metadata": {
        "colab": {
          "base_uri": "https://localhost:8080/"
        },
        "id": "mmV61k6wBu0K",
        "outputId": "c7af8487-1b12-4999-d89a-7bc968c25eea"
      },
      "execution_count": 29,
      "outputs": [
        {
          "output_type": "stream",
          "name": "stdout",
          "text": [
            "[[4 6]\n",
            " [8 4]]\n"
          ]
        }
      ]
    },
    {
      "cell_type": "markdown",
      "source": [
        "**Array multiplication is not matrix multiplication:**"
      ],
      "metadata": {
        "id": "tez0ZEhGB7Rm"
      }
    },
    {
      "cell_type": "code",
      "source": [
        "c = np.ones((3, 3))\n",
        "print(c * c) # NOT matrix multiplication!"
      ],
      "metadata": {
        "colab": {
          "base_uri": "https://localhost:8080/"
        },
        "id": "IyLxZIY0B5v_",
        "outputId": "2f73da05-3860-44e4-e757-3c1806850b48"
      },
      "execution_count": 30,
      "outputs": [
        {
          "output_type": "stream",
          "name": "stdout",
          "text": [
            "[[1. 1. 1.]\n",
            " [1. 1. 1.]\n",
            " [1. 1. 1.]]\n"
          ]
        }
      ]
    },
    {
      "cell_type": "markdown",
      "source": [
        "**Inverse of a Matrix**"
      ],
      "metadata": {
        "id": "VgJJUIoOnAX2"
      }
    },
    {
      "cell_type": "code",
      "source": [
        "inverse1= np.linalg.inv(s1)\n",
        "print (inverse1)"
      ],
      "metadata": {
        "colab": {
          "base_uri": "https://localhost:8080/"
        },
        "id": "Hz_VhTHCnCwp",
        "outputId": "9b1b49be-b073-4de1-ff41-5668098a03b4"
      },
      "execution_count": null,
      "outputs": [
        {
          "output_type": "stream",
          "name": "stdout",
          "text": [
            "[[-0.25   0.375]\n",
            " [ 0.5   -0.25 ]]\n"
          ]
        }
      ]
    },
    {
      "cell_type": "markdown",
      "source": [
        "**Determinant of a Matrix**"
      ],
      "metadata": {
        "id": "dhTLlhtNni7a"
      }
    },
    {
      "cell_type": "code",
      "source": [
        "determinants1 = np.linalg.det(s1)\n",
        "print (determinants1)"
      ],
      "metadata": {
        "colab": {
          "base_uri": "https://localhost:8080/"
        },
        "id": "AKl8Z9nbnRRZ",
        "outputId": "3ac6b4cc-5374-4b26-c122-6571214f5931"
      },
      "execution_count": null,
      "outputs": [
        {
          "output_type": "stream",
          "name": "stdout",
          "text": [
            "-7.999999999999998\n"
          ]
        }
      ]
    },
    {
      "cell_type": "markdown",
      "source": [
        "**Creating Matrices**"
      ],
      "metadata": {
        "id": "JJjDXS9ECcLh"
      }
    },
    {
      "cell_type": "code",
      "source": [
        "#Zero Matrix\n",
        "b = np.zeros((3, 3)) #zero matrix\n",
        "print(b)"
      ],
      "metadata": {
        "colab": {
          "base_uri": "https://localhost:8080/"
        },
        "id": "yaboFG25CZZx",
        "outputId": "13630c7f-454b-4549-9573-0f09450146a7"
      },
      "execution_count": 31,
      "outputs": [
        {
          "output_type": "stream",
          "name": "stdout",
          "text": [
            "[[0. 0. 0.]\n",
            " [0. 0. 0.]\n",
            " [0. 0. 0.]]\n"
          ]
        }
      ]
    },
    {
      "cell_type": "code",
      "source": [
        "\n",
        "a = np.ones((3, 3)) # reminder: (3, 3) is a tuple\n",
        "print(a)\n"
      ],
      "metadata": {
        "colab": {
          "base_uri": "https://localhost:8080/"
        },
        "id": "nSG3pmtxCg0Q",
        "outputId": "2283b6de-bb7a-47e1-9e8e-991d7668e3b3"
      },
      "execution_count": 34,
      "outputs": [
        {
          "output_type": "stream",
          "name": "stdout",
          "text": [
            "[[1. 1. 1.]\n",
            " [1. 1. 1.]\n",
            " [1. 1. 1.]]\n"
          ]
        }
      ]
    },
    {
      "cell_type": "code",
      "source": [
        "#Unit Matrix (Identity Matrix)\n",
        "c = np.eye(3)\n",
        "print(c)"
      ],
      "metadata": {
        "colab": {
          "base_uri": "https://localhost:8080/"
        },
        "id": "HUKtR2piCj8H",
        "outputId": "699ce1ad-2511-45dd-f7aa-f0e9636888e0"
      },
      "execution_count": 37,
      "outputs": [
        {
          "output_type": "stream",
          "name": "stdout",
          "text": [
            "[[1. 0. 0.]\n",
            " [0. 1. 0.]\n",
            " [0. 0. 1.]]\n"
          ]
        }
      ]
    },
    {
      "cell_type": "code",
      "source": [
        "#Diagonal Matrix\n",
        "d = np.diag(np.array([11, 27, 34, 4]))\n",
        "print(d)"
      ],
      "metadata": {
        "colab": {
          "base_uri": "https://localhost:8080/"
        },
        "id": "P8jBiVuDC2b5",
        "outputId": "c45c22f9-0433-4aee-f8bd-79380b5df023"
      },
      "execution_count": 36,
      "outputs": [
        {
          "output_type": "stream",
          "name": "stdout",
          "text": [
            "[[11  0  0  0]\n",
            " [ 0 27  0  0]\n",
            " [ 0  0 34  0]\n",
            " [ 0  0  0  4]]\n"
          ]
        }
      ]
    },
    {
      "cell_type": "markdown",
      "source": [
        "**Random Numbers**"
      ],
      "metadata": {
        "id": "8fsqZnkKC9oV"
      }
    },
    {
      "cell_type": "code",
      "source": [
        "a = np.random.rand(70) # uniform in [0, 1]\n",
        "print(a)"
      ],
      "metadata": {
        "colab": {
          "base_uri": "https://localhost:8080/"
        },
        "id": "PitrxZ7EDCVT",
        "outputId": "a13d604f-9866-4049-f546-7daebb738f80"
      },
      "execution_count": 42,
      "outputs": [
        {
          "output_type": "stream",
          "name": "stdout",
          "text": [
            "[0.81546143 0.70685734 0.72900717 0.77127035 0.07404465 0.35846573\n",
            " 0.11586906 0.86310343 0.62329813 0.33089802 0.06355835 0.31098232\n",
            " 0.32518332 0.72960618 0.63755747 0.88721274 0.47221493 0.11959425\n",
            " 0.71324479 0.76078505 0.5612772  0.77096718 0.4937956  0.52273283\n",
            " 0.42754102 0.02541913 0.10789143 0.03142919 0.63641041 0.31435598\n",
            " 0.50857069 0.90756647 0.24929223 0.41038292 0.75555114 0.22879817\n",
            " 0.07697991 0.28975145 0.16122129 0.92969765 0.80812038 0.63340376\n",
            " 0.87146059 0.80367208 0.18657006 0.892559   0.53934224 0.80744016\n",
            " 0.8960913  0.31800347 0.11005192 0.22793516 0.42710779 0.81801477\n",
            " 0.86073058 0.00695213 0.5107473  0.417411   0.22210781 0.11986537\n",
            " 0.33761517 0.9429097  0.32320293 0.51879062 0.70301896 0.3636296\n",
            " 0.97178208 0.96244729 0.2517823  0.49724851]\n"
          ]
        }
      ]
    },
    {
      "cell_type": "code",
      "source": [
        "b = np.random.randn(70) # Gaussian\n",
        "print(b)"
      ],
      "metadata": {
        "colab": {
          "base_uri": "https://localhost:8080/"
        },
        "id": "Zo_mOhiDDFpp",
        "outputId": "eea90a6b-6d56-43cb-a400-ece1a19802d8"
      },
      "execution_count": 39,
      "outputs": [
        {
          "output_type": "stream",
          "name": "stdout",
          "text": [
            "[ 2.43050037 -0.34504869 -0.57872236  0.19791503 -1.47417097 -0.16820076\n",
            "  1.04519277 -0.81242629 -0.42488617 -0.24551712  1.32339927  1.00155345\n",
            " -0.56152418  0.56452009  0.68608127 -0.3566382   0.13402371  1.37333789\n",
            "  0.57446388 -0.47799766 -0.2894187   0.57711924 -0.43314138 -1.01341292\n",
            " -0.47086056 -0.80418848 -1.29715181  1.20290956  0.24942786 -1.26248195\n",
            "  0.54004535  1.20795776  1.10340822  1.50647027 -0.15640565 -0.58020303\n",
            " -0.10015221 -0.02190008  2.04128692 -1.93375832  0.73970055  0.7044686\n",
            " -0.60766771 -1.06630845 -0.22243767  0.80872165 -0.59177045 -1.03969272\n",
            " -0.89835458  0.25617361  1.71307599 -0.52600076  0.73000533  1.8721468\n",
            " -0.5182681  -0.19374509 -0.88172809  1.1649057  -1.14920249 -0.39015215\n",
            "  0.39975072 -0.62050586  0.38664775  0.19140014 -0.14046973 -1.9185332\n",
            "  0.30057689  0.223999   -2.03175575 -0.2641715 ]\n"
          ]
        }
      ]
    },
    {
      "cell_type": "code",
      "source": [
        "#useful in situations where you want to debug or share your code with others, ensuring they obtain the same results\n",
        "np.random.seed(42) # Setting the random seed\n",
        "b = np.random.rand(3)\n",
        "print(b)"
      ],
      "metadata": {
        "colab": {
          "base_uri": "https://localhost:8080/"
        },
        "id": "Gqa2Z80mDPl1",
        "outputId": "a85bcacb-d805-4ce7-9b71-9508e150d969"
      },
      "execution_count": 47,
      "outputs": [
        {
          "output_type": "stream",
          "name": "stdout",
          "text": [
            "[0.37454012 0.95071431 0.73199394]\n"
          ]
        }
      ]
    },
    {
      "cell_type": "code",
      "source": [],
      "metadata": {
        "id": "FkANZO1fDjw0"
      },
      "execution_count": null,
      "outputs": []
    },
    {
      "cell_type": "markdown",
      "source": [],
      "metadata": {
        "id": "RcD5GvhjCEhj"
      }
    }
  ]
}