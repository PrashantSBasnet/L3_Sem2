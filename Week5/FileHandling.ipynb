{
  "nbformat": 4,
  "nbformat_minor": 0,
  "metadata": {
    "colab": {
      "provenance": [],
      "authorship_tag": "ABX9TyPselRpakRPaJsdYiqgZcv7",
      "include_colab_link": true
    },
    "kernelspec": {
      "name": "python3",
      "display_name": "Python 3"
    },
    "language_info": {
      "name": "python"
    }
  },
  "cells": [
    {
      "cell_type": "markdown",
      "metadata": {
        "id": "view-in-github",
        "colab_type": "text"
      },
      "source": [
        "<a href=\"https://colab.research.google.com/github/PrashantSBasnet/L3_Sem2/blob/master/Week5/FileHandling.ipynb\" target=\"_parent\"><img src=\"https://colab.research.google.com/assets/colab-badge.svg\" alt=\"Open In Colab\"/></a>"
      ]
    },
    {
      "cell_type": "markdown",
      "source": [
        "**User Input**"
      ],
      "metadata": {
        "id": "6T62XVeXh5vg"
      }
    },
    {
      "cell_type": "code",
      "execution_count": 2,
      "metadata": {
        "colab": {
          "base_uri": "https://localhost:8080/"
        },
        "id": "RI63OVU0fvdM",
        "outputId": "64e4bd0c-e348-4d30-b272-43dba95cee0d"
      },
      "outputs": [
        {
          "output_type": "stream",
          "name": "stdout",
          "text": [
            "Enter name:Nischal\n",
            "The entered name is: Nischal\n"
          ]
        }
      ],
      "source": [
        "name = input (\"Enter name:\")\n",
        "print (\"The entered name is: \" + name)"
      ]
    },
    {
      "cell_type": "markdown",
      "source": [
        "**File Handling**\n",
        "\n",
        "**Reading a File**\n"
      ],
      "metadata": {
        "id": "Fhajp8cSkvCW"
      }
    },
    {
      "cell_type": "code",
      "source": [
        "f = open('quizAnswer.txt', 'r') #since i'm working in the cloud. for local drive you have to give the path as 'D:/folder/subfolder/file.txt'\n",
        "file_data = f.read() #assiging string returned by read() into a variable named file_data\n",
        "f.close()"
      ],
      "metadata": {
        "id": "Wy_btEYDibOo"
      },
      "execution_count": 9,
      "outputs": []
    },
    {
      "cell_type": "markdown",
      "source": [
        "\n",
        "\n",
        "\n",
        "1.   First open the file using the built-in function, **open**. This requires a string that shows the path to the file. The **open()** function takes two parameters; filename, and mode. There are four different methods (modes) for opening a file:\n",
        "\n",
        "*   \"r\" - Read - Default value. Opens a file for reading, error if the file does not exist\n",
        "*   \"a\" - Append - Opens a file for appending, creates the file if it does not exist\n",
        "*   \"w\" - Write - Opens a file for writing, creates the file if it does not exist\n",
        "*   \"x\" - Create - Creates the specified file, returns an error if the file exists\n",
        "\n",
        "      The open function returns a file object, which is a Python object through which Python interacts with the file itself. Here, we assign this object to the variable f.\n",
        "\n",
        "2.   There are optional parameters you can specify in the open function. One is the mode in which we open the file. Here, we use **r** or read only. This is actually the default value for the mode argument.\n",
        "3.   Use the **read()** method to access the contents from the file object. This read method takes the text contained in a file and puts it into a string. Here, we assign the string returned from this method into the variable file_data.\n",
        "4.   When finished with the file, use the close method to free up any system resources taken up by the file.\n",
        "\n",
        "\n",
        "\n",
        "\n"
      ],
      "metadata": {
        "id": "TPYZauw_mbCj"
      }
    },
    {
      "cell_type": "markdown",
      "source": [
        "In addition you can specify if the file should be handled as binary or text mode\n",
        "*   \"t\" - Text - Default value. Text mode\n",
        "*   \"b\" - Binary - Binary mode (e.g. images)\n",
        "\n",
        "Syntax <br>\n",
        "f = open(\"demofile.txt\") <br>\n",
        "f = open(\"demofile.txt\", \"rt\")\n",
        "\n",
        "\n",
        "\n"
      ],
      "metadata": {
        "id": "xUqfRee8oFvF"
      }
    },
    {
      "cell_type": "markdown",
      "source": [
        "**Open a file**"
      ],
      "metadata": {
        "id": "0lrmHJIDorks"
      }
    },
    {
      "cell_type": "code",
      "source": [
        "f = open('quizAnswer.txt', 'r') #since i'm working in the cloud. for local drive you have to give the path as 'D:/folder/subfolder/file.txt'\n",
        "file_data = f.read() #assiging string returned by read() into a variable named file_data\n",
        "print (file_data)\n",
        "f.close()"
      ],
      "metadata": {
        "colab": {
          "base_uri": "https://localhost:8080/"
        },
        "id": "oU1R21QiovN3",
        "outputId": "9e03c674-ec45-498f-b5f8-6af11dcf7618"
      },
      "execution_count": 12,
      "outputs": [
        {
          "output_type": "stream",
          "name": "stdout",
          "text": [
            "Which of the following activities occurs during the Inspect and Adapt workshop?\n",
            "-A demo of the integrated system\n",
            "\n",
            "What is one Story component to consider when estimating size?\n",
            "-Knowledge\n",
            "\n",
            "Which of the following activities occurs during the Inspect and Adapt workshop?\n",
            "-A demo of the integrated system\n",
            "\t\n",
            "What is one element teams present during the draft plan review?\n",
            "-Milestones\n",
            "1\n",
            "\n",
            "\n",
            "\t\n"
          ]
        }
      ]
    },
    {
      "cell_type": "markdown",
      "source": [
        "**Read Only Parts of the File**\n",
        "\n",
        "By default the read() method returns the whole text, but you can also specify how many characters you want to return. In the code you saw earlier, the call to **f.read()** had no arguments passed to it. This defaults to reading all the remainder of the file from its current position - the whole file. If you pass the read method an integer argument, it will read up to that number of characters, output all of them, and keep the 'window' at that position ready to read on.\n",
        "\n"
      ],
      "metadata": {
        "id": "e0w3iC7eprnj"
      }
    },
    {
      "cell_type": "code",
      "source": [
        "f = open('quizAnswer.txt', 'r') #since i'm working in the cloud. for local drive you have to give the path as 'D:/folder/subfolder/file.txt'\n",
        "print (f.read(7))\n",
        "f.close()"
      ],
      "metadata": {
        "colab": {
          "base_uri": "https://localhost:8080/"
        },
        "id": "QXvmcgn4qJyT",
        "outputId": "45d1c0ee-f71d-49bf-91b6-c4511be1eb38"
      },
      "execution_count": 15,
      "outputs": [
        {
          "output_type": "stream",
          "name": "stdout",
          "text": [
            "Which o\n"
          ]
        }
      ]
    },
    {
      "cell_type": "markdown",
      "source": [
        "**Read Lines**\n",
        "\n",
        "You can return one line by using the readline() method:"
      ],
      "metadata": {
        "id": "6L03AUe3vNwl"
      }
    },
    {
      "cell_type": "code",
      "source": [
        "f = open('quizAnswer.txt', 'r')\n",
        "print(f.readline()) #you will get one line\n",
        "print (f.readline()) #you will get next line"
      ],
      "metadata": {
        "colab": {
          "base_uri": "https://localhost:8080/"
        },
        "id": "WIBsnA-NvQ_U",
        "outputId": "dfa33c70-032b-4087-e06a-b34d69106fea"
      },
      "execution_count": 17,
      "outputs": [
        {
          "output_type": "stream",
          "name": "stdout",
          "text": [
            "Which of the following activities occurs during the Inspect and Adapt workshop?\n",
            "\n",
            "-A demo of the integrated system\n",
            "\n"
          ]
        }
      ]
    },
    {
      "cell_type": "markdown",
      "source": [
        "By looping through the lines of the file, you can read the whole file, line by line:"
      ],
      "metadata": {
        "id": "2UK0B2r4vi9i"
      }
    },
    {
      "cell_type": "code",
      "source": [
        "f = open('quizAnswer.txt', \"r\")\n",
        "for x in f:\n",
        "  print(x)"
      ],
      "metadata": {
        "colab": {
          "base_uri": "https://localhost:8080/"
        },
        "id": "uN4omCcivgNZ",
        "outputId": "556bc0a4-4f9e-48cd-8bfa-3733b55a1218"
      },
      "execution_count": 18,
      "outputs": [
        {
          "output_type": "stream",
          "name": "stdout",
          "text": [
            "Which of the following activities occurs during the Inspect and Adapt workshop?\n",
            "\n",
            "-A demo of the integrated system\n",
            "\n",
            "\n",
            "\n",
            "What is one Story component to consider when estimating size?\n",
            "\n",
            "-Knowledge\n",
            "\n",
            "\n",
            "\n",
            "Which of the following activities occurs during the Inspect and Adapt workshop?\n",
            "\n",
            "-A demo of the integrated system\n",
            "\n",
            "\t\n",
            "\n",
            "What is one element teams present during the draft plan review?\n",
            "\n",
            "-Milestones\n",
            "\n",
            "1\n",
            "\n",
            "\n",
            "\n",
            "\n",
            "\n",
            "\t\n"
          ]
        }
      ]
    },
    {
      "cell_type": "markdown",
      "source": [
        "**Write to an Existing File**\n",
        "\n",
        "To write to an existing file, you must add a parameter to the open() function:\n",
        "\n",
        "\n",
        "*  \"a\" - Append - will append to the end of the file\n",
        "*  \"w\" - Write - will overwrite any existing content\n",
        "\n"
      ],
      "metadata": {
        "id": "b5TR85dYv5Sp"
      }
    },
    {
      "cell_type": "code",
      "source": [
        "f = open(\"quizAnswer.txt\", \"a\")\n",
        "f.write(\"Adding more contents in the file!\")\n",
        "f.close()\n",
        "\n",
        "#open and read the file after the appending:\n",
        "f = open(\"quizAnswer.txt\", \"r\")\n",
        "print(f.read())"
      ],
      "metadata": {
        "colab": {
          "base_uri": "https://localhost:8080/"
        },
        "id": "up9zpFxlwI5I",
        "outputId": "f86ad2a4-cf53-48d4-c710-a553dba688d7"
      },
      "execution_count": 20,
      "outputs": [
        {
          "output_type": "stream",
          "name": "stdout",
          "text": [
            "Which of the following activities occurs during the Inspect and Adapt workshop?\n",
            "-A demo of the integrated system\n",
            "\n",
            "What is one Story component to consider when estimating size?\n",
            "-Knowledge\n",
            "\n",
            "Which of the following activities occurs during the Inspect and Adapt workshop?\n",
            "-A demo of the integrated system\n",
            "\t\n",
            "What is one element teams present during the draft plan review?\n",
            "-Milestones\n",
            "1\n",
            "\n",
            "\n",
            "\tAdding more contents in the file!\n"
          ]
        }
      ]
    },
    {
      "cell_type": "code",
      "source": [
        "f = open(\"file.txt\", \"r\")\n",
        "print(f.read())"
      ],
      "metadata": {
        "colab": {
          "base_uri": "https://localhost:8080/"
        },
        "id": "xwCT7jMaxKhO",
        "outputId": "db82e04d-e7d1-4b64-f678-961435a021ed"
      },
      "execution_count": 21,
      "outputs": [
        {
          "output_type": "stream",
          "name": "stdout",
          "text": [
            "New file is this.\n",
            "There are contents in this file \n",
            "You can use default methods in python to open this file\n"
          ]
        }
      ]
    },
    {
      "cell_type": "code",
      "source": [
        "f = open(\"file.txt\", \"w\")\n",
        "f.write(\"This will replace the entire content\")\n",
        "f.close()\n",
        "\n",
        "#open and read the file after the appending:\n",
        "f = open(\"file.txt\", \"r\")\n",
        "print(f.read())"
      ],
      "metadata": {
        "colab": {
          "base_uri": "https://localhost:8080/"
        },
        "id": "jkLkGfZ1x6OK",
        "outputId": "80fb52e1-8881-4834-a819-c520d634649c"
      },
      "execution_count": 22,
      "outputs": [
        {
          "output_type": "stream",
          "name": "stdout",
          "text": [
            "This will replace the entire content\n"
          ]
        }
      ]
    },
    {
      "cell_type": "markdown",
      "source": [
        "**Creating a New File**\n",
        "\n",
        "To create a new file in Python, use the open() method, with one of the following parameters:\n",
        "\n",
        "*   \"x\" - Create - will create a file, returns an error if the file exist\n",
        "*   \"a\" - Append - will create a file if the specified file does not exist\n",
        "*   \"w\" - Write - will create a file if the specified file does not exist\n",
        "\n",
        "\n",
        "\n"
      ],
      "metadata": {
        "id": "3KH_xfR7yEuk"
      }
    },
    {
      "cell_type": "code",
      "source": [
        "f = open('newFile.txt', 'x')"
      ],
      "metadata": {
        "id": "U4tGfPrHyGcZ"
      },
      "execution_count": 25,
      "outputs": []
    },
    {
      "cell_type": "code",
      "source": [
        "f = open('newFile.txt', 'w')\n",
        "f.write('Writing some contents')\n",
        "f.close()"
      ],
      "metadata": {
        "id": "kUA9o9fPys2g"
      },
      "execution_count": 30,
      "outputs": []
    },
    {
      "cell_type": "code",
      "source": [
        "f = open(\"newFile.txt\", \"r\")\n",
        "print(f.read())"
      ],
      "metadata": {
        "colab": {
          "base_uri": "https://localhost:8080/"
        },
        "id": "S7c44mlqyotZ",
        "outputId": "82c7321a-4be7-4510-e2a4-ec5337eab3a1"
      },
      "execution_count": 31,
      "outputs": [
        {
          "output_type": "stream",
          "name": "stdout",
          "text": [
            "Writing some contents\n"
          ]
        }
      ]
    },
    {
      "cell_type": "markdown",
      "source": [
        "**Delete a File**\n",
        "\n",
        "To delete a file, you must import the OS module, and run its os.remove() function:\n",
        "\n"
      ],
      "metadata": {
        "id": "5bme4bAhzNmr"
      }
    },
    {
      "cell_type": "code",
      "source": [
        "import os\n",
        "os.remove(\"newFile.txt\")"
      ],
      "metadata": {
        "id": "hR_QKeHlzQlE"
      },
      "execution_count": 33,
      "outputs": []
    },
    {
      "cell_type": "code",
      "source": [
        "import os\n",
        "if os.path.exists(\"newFile.txt\"):\n",
        "  os.remove(\"newFile.txt\")\n",
        "else:\n",
        "  print(\"The file does not exist\")"
      ],
      "metadata": {
        "colab": {
          "base_uri": "https://localhost:8080/"
        },
        "id": "P-ZrZG9yzdtx",
        "outputId": "c892d5d5-7f34-47d8-e1da-eef2575793dd"
      },
      "execution_count": 34,
      "outputs": [
        {
          "output_type": "stream",
          "name": "stdout",
          "text": [
            "The file does not exist\n"
          ]
        }
      ]
    },
    {
      "cell_type": "markdown",
      "source": [
        "**Delete a Folder**\n",
        "To delete an entire folder, use the os.rmdir() method:"
      ],
      "metadata": {
        "id": "rIBlvUMtzpPr"
      }
    },
    {
      "cell_type": "code",
      "source": [
        "import os\n",
        "os.rmdir(\"myfolder\")"
      ],
      "metadata": {
        "colab": {
          "base_uri": "https://localhost:8080/",
          "height": 200
        },
        "id": "WTU_y-PVzrIw",
        "outputId": "c5426e3e-2a9c-4858-f19d-bb3c3df5a412"
      },
      "execution_count": 36,
      "outputs": [
        {
          "output_type": "error",
          "ename": "FileNotFoundError",
          "evalue": "[Errno 2] No such file or directory: 'myfolder'",
          "traceback": [
            "\u001b[0;31m---------------------------------------------------------------------------\u001b[0m",
            "\u001b[0;31mFileNotFoundError\u001b[0m                         Traceback (most recent call last)",
            "\u001b[0;32m<ipython-input-36-35d2d6158629>\u001b[0m in \u001b[0;36m<cell line: 2>\u001b[0;34m()\u001b[0m\n\u001b[1;32m      1\u001b[0m \u001b[0;32mimport\u001b[0m \u001b[0mos\u001b[0m\u001b[0;34m\u001b[0m\u001b[0;34m\u001b[0m\u001b[0m\n\u001b[0;32m----> 2\u001b[0;31m \u001b[0mos\u001b[0m\u001b[0;34m.\u001b[0m\u001b[0mrmdir\u001b[0m\u001b[0;34m(\u001b[0m\u001b[0;34m\"myfolder\"\u001b[0m\u001b[0;34m)\u001b[0m\u001b[0;34m\u001b[0m\u001b[0;34m\u001b[0m\u001b[0m\n\u001b[0m",
            "\u001b[0;31mFileNotFoundError\u001b[0m: [Errno 2] No such file or directory: 'myfolder'"
          ]
        }
      ]
    },
    {
      "cell_type": "markdown",
      "source": [
        "**Handling** **Exception**"
      ],
      "metadata": {
        "id": "o5sgyemLzWlG"
      }
    },
    {
      "cell_type": "code",
      "source": [
        "import os\n",
        "try:\n",
        "  os.rmdir(\"myfolder\")\n",
        "except Exception as e:\n",
        "  print (\"Folder not found\")\n"
      ],
      "metadata": {
        "colab": {
          "base_uri": "https://localhost:8080/"
        },
        "id": "uOwdvo04zZ9O",
        "outputId": "9c9ead88-17c1-4c5e-f2ab-f3dc27003b5a"
      },
      "execution_count": 40,
      "outputs": [
        {
          "output_type": "stream",
          "name": "stdout",
          "text": [
            "Folder not found\n"
          ]
        }
      ]
    },
    {
      "cell_type": "code",
      "source": [
        "path = 'D://abc.txt'\n",
        "try:\n",
        "  f = open(path, 'r')\n",
        "  print (f.readLine())\n",
        "except FileNotFoundError:\n",
        "  print (\"File doesn't exist\")\n"
      ],
      "metadata": {
        "colab": {
          "base_uri": "https://localhost:8080/"
        },
        "id": "XnK32YOh0RIs",
        "outputId": "cdda8a1d-05f8-452e-d8f3-250d6fbc4c47"
      },
      "execution_count": 41,
      "outputs": [
        {
          "output_type": "stream",
          "name": "stdout",
          "text": [
            "File doesn't exist\n"
          ]
        }
      ]
    },
    {
      "cell_type": "code",
      "source": [
        "  path = 'somewhere.txt'\n",
        "  try:\n",
        "    f = open(path, 'r')\n",
        "    print (f.readLine())\n",
        "  except FileNotFoundError:\n",
        "    print ('The given path doesn\\'t have a file')"
      ],
      "metadata": {
        "colab": {
          "base_uri": "https://localhost:8080/"
        },
        "id": "hVOyZTJe0mfL",
        "outputId": "c245ae55-4af5-453b-a17b-92b3e373e35c"
      },
      "execution_count": 46,
      "outputs": [
        {
          "output_type": "stream",
          "name": "stdout",
          "text": [
            "The given path doesn't have a file\n"
          ]
        }
      ]
    }
  ]
}