{
  "nbformat": 4,
  "nbformat_minor": 0,
  "metadata": {
    "colab": {
      "provenance": [],
      "authorship_tag": "ABX9TyNITbyT+gqKZGK/iW57uRId",
      "include_colab_link": true
    },
    "kernelspec": {
      "name": "python3",
      "display_name": "Python 3"
    },
    "language_info": {
      "name": "python"
    }
  },
  "cells": [
    {
      "cell_type": "markdown",
      "metadata": {
        "id": "view-in-github",
        "colab_type": "text"
      },
      "source": [
        "<a href=\"https://colab.research.google.com/github/PrashantSBasnet/L3_Sem2/blob/master/Week5/Formatting.ipynb\" target=\"_parent\"><img src=\"https://colab.research.google.com/assets/colab-badge.svg\" alt=\"Open In Colab\"/></a>"
      ]
    },
    {
      "cell_type": "markdown",
      "source": [
        "Often you will want more control over the formatting of your output than simply printing space-separated values. There are several ways to format output.\n",
        "\n",
        "\n",
        "*   To use formatted string literals, begin a string with f or F before the opening quotation mark or triple quotation mark. Inside this string, you can write a Python expression between { and } characters that can refer to variables or literal values.\n",
        "\n",
        "\n"
      ],
      "metadata": {
        "id": "y6lkqWQk990x"
      }
    },
    {
      "cell_type": "code",
      "source": [
        "year = 2016\n",
        "event = 'Referendum'\n",
        "f'Results of the {year} {event}'"
      ],
      "metadata": {
        "colab": {
          "base_uri": "https://localhost:8080/",
          "height": 36
        },
        "id": "vcyt_F-t-Kyz",
        "outputId": "1b1881f8-08ba-4d47-fcbc-5bb0c51ad2ba"
      },
      "execution_count": null,
      "outputs": [
        {
          "output_type": "execute_result",
          "data": {
            "text/plain": [
              "'Results of the 2016 Referendum'"
            ],
            "application/vnd.google.colaboratory.intrinsic+json": {
              "type": "string"
            }
          },
          "metadata": {},
          "execution_count": 1
        }
      ]
    },
    {
      "cell_type": "code",
      "source": [
        "import math\n",
        "print(f'The value of pi is approximately {math.pi:.3f}.')"
      ],
      "metadata": {
        "colab": {
          "base_uri": "https://localhost:8080/"
        },
        "id": "0_f9et-HDMud",
        "outputId": "3fb4ee4b-b522-4507-8fcc-387001be1283"
      },
      "execution_count": null,
      "outputs": [
        {
          "output_type": "stream",
          "name": "stdout",
          "text": [
            "The value of pi is approximately 3.142.\n"
          ]
        }
      ]
    },
    {
      "cell_type": "code",
      "source": [
        "table = {'Sjoerd': 4127, 'Jack': 4098, 'Dcab': 7678}\n",
        "for name, phone in table.items():\n",
        "    print(f'{name:10} ==> {phone:10d}')"
      ],
      "metadata": {
        "colab": {
          "base_uri": "https://localhost:8080/"
        },
        "id": "-ORnXLqGDLaM",
        "outputId": "b41ef51c-72af-465f-9bb7-07df17cb7845"
      },
      "execution_count": null,
      "outputs": [
        {
          "output_type": "stream",
          "name": "stdout",
          "text": [
            "Sjoerd     ==>       4127\n",
            "Jack       ==>       4098\n",
            "Dcab       ==>       7678\n"
          ]
        }
      ]
    },
    {
      "cell_type": "markdown",
      "source": [
        "\n",
        "\n",
        "*  The str.format() method of strings requires more manual effort. You’ll still use { and } to mark where a variable will be substituted and can provide detailed formatting directives, but you’ll also need to provide the information to be formatted.\n",
        "\n"
      ],
      "metadata": {
        "id": "Kw4F8nV1-Uxe"
      }
    },
    {
      "cell_type": "code",
      "source": [
        "price = 49\n",
        "txt = \"The price is {:.2f} dollars\"\n",
        "print(txt.format(price))"
      ],
      "metadata": {
        "colab": {
          "base_uri": "https://localhost:8080/"
        },
        "id": "EaJv7f34_vQ-",
        "outputId": "0fbc9bf4-332d-43a8-c89e-c5380ce34b71"
      },
      "execution_count": null,
      "outputs": [
        {
          "output_type": "stream",
          "name": "stdout",
          "text": [
            "The price is 49.00 dollars\n"
          ]
        }
      ]
    },
    {
      "cell_type": "code",
      "source": [
        "yes_votes = 42_572_654\n",
        "no_votes = 43_132_495\n",
        "percentage = yes_votes / (yes_votes + no_votes)\n",
        "'{:-10} YES votes  {:2.2%}'.format(yes_votes, percentage) #The :-10 placeholder is used for yes_votes, indicating that it should be right-aligned in a 10-character wide field.\n",
        "\n",
        "                                                          #The 2.2% format specifier indicates that percentage should be formatted as a percentage with two digits after the decimal point.\n",
        "                                                          #The first 2 indicates the minimum width of the field. If the formatted percentage has fewer than 2 characters before the decimal point, it will be padded with spaces to the left.\n",
        "                                                          #The second 2 specifies the number of digits after the decimal point.\n",
        "                                                          #The % indicates that the value should be displayed as a percentage."
      ],
      "metadata": {
        "colab": {
          "base_uri": "https://localhost:8080/",
          "height": 36
        },
        "id": "vRWSLhV6-X8T",
        "outputId": "eec6c8f2-2bf4-40b9-f53d-4192e205fcd5"
      },
      "execution_count": null,
      "outputs": [
        {
          "output_type": "execute_result",
          "data": {
            "text/plain": [
              "'  42572654 YES votes  49.67%'"
            ],
            "application/vnd.google.colaboratory.intrinsic+json": {
              "type": "string"
            }
          },
          "metadata": {},
          "execution_count": 31
        }
      ]
    },
    {
      "cell_type": "markdown",
      "source": [
        "**{.:2f}**\n",
        "\n",
        "\n",
        "*   **.2f** specifies the format:\n",
        "*   **.** denotes the decimal precision, and 2 specifies that two decimal places should be displayed.\n",
        "*  **f** indicates that the value should be formatted as a floating-point\n",
        "\n",
        "**{:2.2%}**\n",
        "\n",
        "\n",
        "*  The **2.2%** format specifier indicates that percentage should be formatted as a percentage with two digits after the decimal point.\n",
        "*  The first **2** indicates the minimum width of the field. If the formatted percentage has fewer than **2** characters before the decimal point, it will be padded with spaces to the left.\n",
        "*  The second 2 specifies the number of digits after the decimal point.\n",
        "*  The **%** indicates that the value should be displayed as a percentage.\n",
        "\n",
        "\n",
        "\n",
        "\n",
        "\n",
        "\n"
      ],
      "metadata": {
        "id": "grziTq7JB6xL"
      }
    },
    {
      "cell_type": "code",
      "source": [
        "price = 497677.233422\n",
        "txt = \"The price is {:.2f} dollars\"\n",
        "print(txt.format(price))"
      ],
      "metadata": {
        "colab": {
          "base_uri": "https://localhost:8080/"
        },
        "id": "MrrYi3YcAzNv",
        "outputId": "c169d572-a186-4ebf-d549-0f31c6d6bdd3"
      },
      "execution_count": null,
      "outputs": [
        {
          "output_type": "stream",
          "name": "stdout",
          "text": [
            "The price is 497677.23 dollars\n"
          ]
        }
      ]
    },
    {
      "cell_type": "markdown",
      "source": [
        "**Named Indexes**<br>\n",
        "You can also use named indexes by entering a name inside the curly brackets {carname}, but then you must use names when you pass the parameter values txt.format(carname = \"Ford\"):"
      ],
      "metadata": {
        "id": "-xMeTA0JCvy3"
      }
    },
    {
      "cell_type": "code",
      "source": [
        "myorder = \"I have a {carname}, it is a {model}.\"\n",
        "print(myorder.format(carname = \"Ford\", model = \"Mustang\"))\n"
      ],
      "metadata": {
        "colab": {
          "base_uri": "https://localhost:8080/"
        },
        "id": "PV-yL13FDATJ",
        "outputId": "b2119756-8078-40d8-9dbb-57b09adb9ec8"
      },
      "execution_count": null,
      "outputs": [
        {
          "output_type": "stream",
          "name": "stdout",
          "text": [
            "I have a Ford, it is a Mustang.\n"
          ]
        }
      ]
    }
  ]
}