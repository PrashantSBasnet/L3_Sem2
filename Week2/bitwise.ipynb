{
 "cells": [
  {
   "cell_type": "markdown",
   "metadata": {},
   "source": [
    "Operator\tName\tDescription\n",
    "<li>& \tAND\tSets each bit to 1 if both bits are 1</li>\n",
    "<li>|\tOR\tSets each bit to 1 if one of two bits is 1</li>\n",
    "<li> ^\tXOR\tSets each bit to 1 if only one of two bits is 1</li>\n",
    "<li>~ \tNOT\tInverts all the bits</li>\n",
    "<li><<\tZero fill left shift\tShift left by pushing zeros in from the right and let the leftmost bits fall off</li>\n",
    "<li>>>\tSigned right shift\tShift right by pushing copies of the leftmost bit in from the left, and let the rightmost bits fall off</li>"
   ]
  },
  {
   "cell_type": "markdown",
   "metadata": {},
   "source": [
    "Bitwise AND ('&')\n",
    "<li>The bitwise AND operator compares each bit of the two input numbers.</li>\n",
    "<li>It returns 1 if both corresponding bits are 1, otherwise, it returns 0.</li>"
   ]
  },
  {
   "cell_type": "markdown",
   "metadata": {},
   "source": [
    "The bitwise AND operator compares each bit of the two input numbers.\n",
    "It returns 1 if both corresponding bits are 1, otherwise, it returns 0."
   ]
  },
  {
   "cell_type": "code",
   "execution_count": 13,
   "metadata": {},
   "outputs": [
    {
     "name": "stdout",
     "output_type": "stream",
     "text": [
      "0\n"
     ]
    }
   ],
   "source": [
    "a = 5  # 0101 in binary\n",
    "b = 2  # 0011 in binary\n",
    "result = a & b\n",
    "print(result)\n"
   ]
  },
  {
   "cell_type": "code",
   "execution_count": 14,
   "metadata": {},
   "outputs": [
    {
     "name": "stdout",
     "output_type": "stream",
     "text": [
      "5\n"
     ]
    }
   ],
   "source": [
    "a = 5  # 0101 in binary\n",
    "b = 5  # 0101 in binary\n",
    "result = a & b\n",
    "print(result) #Since both a and b have the same bit pattern (0101), the result of the bitwise AND operation will be 0101, which is 5 in decimal. "
   ]
  },
  {
   "cell_type": "markdown",
   "metadata": {},
   "source": [
    "Bitwise OR ('|)\n",
    "<li>The bitwise OR operator compares each bit of the two input numbers.</li>\n",
    "<li>returns 1 if either of the corresponding bits is 1, otherwise, it returns 0.</li>\n"
   ]
  },
  {
   "cell_type": "code",
   "execution_count": 15,
   "metadata": {},
   "outputs": [
    {
     "name": "stdout",
     "output_type": "stream",
     "text": [
      "7\n"
     ]
    }
   ],
   "source": [
    "a = 5   # 0101 in binary\n",
    "b = 3   # 0011 in binary\n",
    "\n",
    "result = a | b  # 0101 | 0011 = 0111\n",
    "print(result)   # Output: 7\n"
   ]
  },
  {
   "cell_type": "markdown",
   "metadata": {},
   "source": [
    "Bitwise XOR ('^')\n",
    "<li>The bitwise XOR (exclusive OR) operator compares each bit of the two input numbers.</li>\n",
    "<li>It returns 1 if the corresponding bits are different, otherwise, it returns 0.</li>"
   ]
  },
  {
   "cell_type": "code",
   "execution_count": 1,
   "metadata": {},
   "outputs": [
    {
     "name": "stdout",
     "output_type": "stream",
     "text": [
      "6\n"
     ]
    }
   ],
   "source": [
    "a = 5   # 0101 in binary\n",
    "b = 3   # 0011 in binary\n",
    "\n",
    "result = a ^ b  # 0101 ^ 0011 = 0110\n",
    "print(result)   # Output: 6\n"
   ]
  },
  {
   "cell_type": "markdown",
   "metadata": {},
   "source": [
    "Bitwise NOT ('~')\n",
    "<li>The bitwise NOT operator negates each bit of the input number.</li>\n",
    "<li>It returns the one's complement of the number, which means it flips all the bits.</li>"
   ]
  },
  {
   "cell_type": "code",
   "execution_count": 2,
   "metadata": {},
   "outputs": [
    {
     "name": "stdout",
     "output_type": "stream",
     "text": [
      "-6\n"
     ]
    }
   ],
   "source": [
    "a = 5   # 0101 in binary\n",
    "\n",
    "result = ~a  # ~0101 = 1010\n",
    "print(result)   # Output: -6\n"
   ]
  },
  {
   "cell_type": "markdown",
   "metadata": {},
   "source": [
    "Left Shift ('<<')\n",
    "<li>The left shift operator shifts the bits of the number to the left by a specified number of positions.</li>\n",
    "<li>It effectively multiplies the number by 2 raised to the power of the shift amount.</li>\n"
   ]
  },
  {
   "cell_type": "code",
   "execution_count": 4,
   "metadata": {},
   "outputs": [
    {
     "name": "stdout",
     "output_type": "stream",
     "text": [
      "10\n"
     ]
    }
   ],
   "source": [
    "a = 5   # 0101 in binary\n",
    "\n",
    "result = a << 1  # 0101 << 1 = 1010\n",
    "print(result)    # Output: 10"
   ]
  },
  {
   "cell_type": "markdown",
   "metadata": {},
   "source": [
    "Right Shift (>>):\n",
    "<li>The right shift operator shifts the bits of the number to the right by a specified number of positions.</li>\n",
    "<li>It effectively divides the number by 2 raised to the power of the shift amount.</li>"
   ]
  },
  {
   "cell_type": "code",
   "execution_count": 5,
   "metadata": {},
   "outputs": [
    {
     "name": "stdout",
     "output_type": "stream",
     "text": [
      "2\n"
     ]
    }
   ],
   "source": [
    "a = 5   # 0101 in binary\n",
    "\n",
    "result = a >> 1  # 0101 >> 1 = 0010\n",
    "print(result)    # Output: 2\n"
   ]
  },
  {
   "cell_type": "code",
   "execution_count": null,
   "metadata": {},
   "outputs": [],
   "source": []
  }
 ],
 "metadata": {
  "kernelspec": {
   "display_name": "Python 3",
   "language": "python",
   "name": "python3"
  },
  "language_info": {
   "codemirror_mode": {
    "name": "ipython",
    "version": 3
   },
   "file_extension": ".py",
   "mimetype": "text/x-python",
   "name": "python",
   "nbconvert_exporter": "python",
   "pygments_lexer": "ipython3",
   "version": "3.12.2"
  }
 },
 "nbformat": 4,
 "nbformat_minor": 2
}
