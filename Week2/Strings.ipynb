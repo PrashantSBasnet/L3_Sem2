{
  "nbformat": 4,
  "nbformat_minor": 0,
  "metadata": {
    "colab": {
      "provenance": [],
      "authorship_tag": "ABX9TyMZbulkpezWkll2MPJRs/JO",
      "include_colab_link": true
    },
    "kernelspec": {
      "name": "python3",
      "display_name": "Python 3"
    },
    "language_info": {
      "name": "python"
    }
  },
  "cells": [
    {
      "cell_type": "markdown",
      "metadata": {
        "id": "view-in-github",
        "colab_type": "text"
      },
      "source": [
        "<a href=\"https://colab.research.google.com/github/PrashantSBasnet/L3_Sem2/blob/master/Week2/Strings.ipynb\" target=\"_parent\"><img src=\"https://colab.research.google.com/assets/colab-badge.svg\" alt=\"Open In Colab\"/></a>"
      ]
    },
    {
      "cell_type": "markdown",
      "source": [
        "**Strings**\n",
        "Strings in Python are shown as the variable type str. You can define a string with either double quotes \" or single quotes '. If the string you are creating actually has one of these two values in it, then you need to be careful to assure your code doesn't give an error."
      ],
      "metadata": {
        "id": "5ShwVu18S7MP"
      }
    },
    {
      "cell_type": "code",
      "source": [
        "my_string = 'this is a string!'\n",
        "my_string2 = \"this is also a string!!!\""
      ],
      "metadata": {
        "id": "_OrqovzKTKsw"
      },
      "execution_count": 20,
      "outputs": []
    },
    {
      "cell_type": "code",
      "source": [
        "print (my_string)\n",
        "print (my_string2)"
      ],
      "metadata": {
        "colab": {
          "base_uri": "https://localhost:8080/"
        },
        "id": "9q_yz5bXTUbJ",
        "outputId": "795cdcaa-925e-44db-e2c3-acd8ecd0bcdb"
      },
      "execution_count": 21,
      "outputs": [
        {
          "output_type": "stream",
          "name": "stdout",
          "text": [
            "this is a string!\n",
            "this is also a string!!!\n"
          ]
        }
      ]
    },
    {
      "cell_type": "markdown",
      "source": [
        "You can also include a \\ in your string to be able to include one of these quotes:"
      ],
      "metadata": {
        "id": "5AskCofGTP5s"
      }
    },
    {
      "cell_type": "code",
      "source": [
        "this_string = 'Simon\\'s skateboard is in the garage.'\n",
        "print(this_string)"
      ],
      "metadata": {
        "colab": {
          "base_uri": "https://localhost:8080/"
        },
        "id": "5QOyUY_DTQ8r",
        "outputId": "c8140ef0-9369-410d-fcf7-6bf1fd6997b3"
      },
      "execution_count": 22,
      "outputs": [
        {
          "output_type": "stream",
          "name": "stdout",
          "text": [
            "Simon's skateboard is in the garage.\n"
          ]
        }
      ]
    },
    {
      "cell_type": "markdown",
      "source": [
        "There are a number of other operations you can use with strings as well"
      ],
      "metadata": {
        "id": "p_KV4hYwTaLV"
      }
    },
    {
      "cell_type": "markdown",
      "source": [
        "**String concatenation**"
      ],
      "metadata": {
        "id": "8T5mozXpU-6V"
      }
    },
    {
      "cell_type": "code",
      "source": [
        "first_word = 'Hello'\n",
        "second_word = 'There'\n",
        "print(first_word + second_word)"
      ],
      "metadata": {
        "colab": {
          "base_uri": "https://localhost:8080/"
        },
        "id": "hqedeeyxTXz7",
        "outputId": "92b1095b-ece4-45e2-85bc-6022a6a3cce9"
      },
      "execution_count": 23,
      "outputs": [
        {
          "output_type": "stream",
          "name": "stdout",
          "text": [
            "HelloThere\n"
          ]
        }
      ]
    },
    {
      "cell_type": "markdown",
      "source": [],
      "metadata": {
        "id": "OfWnnZ8LUvbD"
      }
    },
    {
      "cell_type": "code",
      "source": [
        "print(first_word + ' ' + second_word)"
      ],
      "metadata": {
        "colab": {
          "base_uri": "https://localhost:8080/"
        },
        "id": "Gs3_e6n0TgfB",
        "outputId": "5f52b3ed-cafe-4e5f-c3a4-d66574943fd4"
      },
      "execution_count": 24,
      "outputs": [
        {
          "output_type": "stream",
          "name": "stdout",
          "text": [
            "Hello There\n"
          ]
        }
      ]
    },
    {
      "cell_type": "code",
      "source": [
        "print(first_word + \" \" + second_word)"
      ],
      "metadata": {
        "colab": {
          "base_uri": "https://localhost:8080/"
        },
        "id": "pfltGckdVD5v",
        "outputId": "7c72066c-0759-4eda-9ca7-709b855645a1"
      },
      "execution_count": 25,
      "outputs": [
        {
          "output_type": "stream",
          "name": "stdout",
          "text": [
            "Hello There\n"
          ]
        }
      ]
    },
    {
      "cell_type": "code",
      "source": [
        "print(first_word * 5)"
      ],
      "metadata": {
        "colab": {
          "base_uri": "https://localhost:8080/"
        },
        "id": "Bm7tvxw7TiGR",
        "outputId": "66b6e7d4-98af-4e18-abe0-da789a8e1b16"
      },
      "execution_count": 26,
      "outputs": [
        {
          "output_type": "stream",
          "name": "stdout",
          "text": [
            "HelloHelloHelloHelloHello\n"
          ]
        }
      ]
    },
    {
      "cell_type": "markdown",
      "source": [
        "**len()** is a built-in Python function that returns the length of an object, like a string. The length of a string is the number of characters in the string. This will always be an integer."
      ],
      "metadata": {
        "id": "TL9K6n2TTj-y"
      }
    },
    {
      "cell_type": "code",
      "source": [
        "college = \"TheBritishCollege\"\n",
        "count = len(college)\n",
        "print (count)"
      ],
      "metadata": {
        "colab": {
          "base_uri": "https://localhost:8080/"
        },
        "id": "xJ_HYTVtTl1k",
        "outputId": "875e1fde-c42b-4901-ff57-72978dc92497"
      },
      "execution_count": 27,
      "outputs": [
        {
          "output_type": "stream",
          "name": "stdout",
          "text": [
            "17\n"
          ]
        }
      ]
    },
    {
      "cell_type": "markdown",
      "source": [
        "**Modifying String**"
      ],
      "metadata": {
        "id": "67StEmTRUU8v"
      }
    },
    {
      "cell_type": "code",
      "source": [
        "#modify string\n",
        "str2 = \"Hello\"\n",
        "print (str2.upper())  #Uppercase\n",
        "print (str2.lower())  #Lowercase"
      ],
      "metadata": {
        "colab": {
          "base_uri": "https://localhost:8080/"
        },
        "id": "e0zs8R59UZa0",
        "outputId": "2083371f-88a7-4880-b5df-c1d7b6f8d934"
      },
      "execution_count": 28,
      "outputs": [
        {
          "output_type": "stream",
          "name": "stdout",
          "text": [
            "HELLO\n",
            "hello\n"
          ]
        }
      ]
    },
    {
      "cell_type": "code",
      "source": [
        "str3 = \" Hi There  \"\n",
        "print (str3.strip())  #returns \"Hi There\" removes spaces\n",
        "print (str3.replace(\"T\", \"t\"))  #replacing"
      ],
      "metadata": {
        "colab": {
          "base_uri": "https://localhost:8080/"
        },
        "id": "WzPM38n5Uict",
        "outputId": "db56aa9f-c5c2-4a10-a91a-7344532f0870"
      },
      "execution_count": 29,
      "outputs": [
        {
          "output_type": "stream",
          "name": "stdout",
          "text": [
            "Hi There\n",
            " Hi there  \n"
          ]
        }
      ]
    },
    {
      "cell_type": "markdown",
      "source": [
        "**Slicing a String**"
      ],
      "metadata": {
        "id": "3BCG9hcET4vK"
      }
    },
    {
      "cell_type": "code",
      "source": [
        "str1 = \"MyNameisName\"\n",
        "print (str1[0:3])\n",
        "print (str1[1:3])\n",
        "print (str1[:3]) #staring from the start\n",
        "print (str1[1:]) #all the way to the end"
      ],
      "metadata": {
        "colab": {
          "base_uri": "https://localhost:8080/"
        },
        "id": "v0clomoPTvd3",
        "outputId": "7aa9e6e9-139f-4d26-898e-7b9d8073a140"
      },
      "execution_count": 30,
      "outputs": [
        {
          "output_type": "stream",
          "name": "stdout",
          "text": [
            "MyN\n",
            "yN\n",
            "MyN\n",
            "yNameisName\n"
          ]
        }
      ]
    },
    {
      "cell_type": "code",
      "source": [
        "str2 = \"Hello\"\n",
        "print (str2[-4:-2])   #gives substring from the 3rd character from the end and ending at the 2nd character from the end (excluding character at the end index)"
      ],
      "metadata": {
        "colab": {
          "base_uri": "https://localhost:8080/"
        },
        "id": "h-YcQtFIUSYV",
        "outputId": "a5ba20a1-20c0-4174-f595-0a4d7e4285dc"
      },
      "execution_count": 31,
      "outputs": [
        {
          "output_type": "stream",
          "name": "stdout",
          "text": [
            "el\n"
          ]
        }
      ]
    },
    {
      "cell_type": "markdown",
      "source": [
        "**format()**"
      ],
      "metadata": {
        "id": "oOJpW8GWUyyU"
      }
    },
    {
      "cell_type": "code",
      "source": [
        "id = 1\n",
        "name = \"Name\"\n",
        "toBePrinted= \"The id of Name is {}\"\n",
        "print (toBePrinted.format(id))"
      ],
      "metadata": {
        "colab": {
          "base_uri": "https://localhost:8080/"
        },
        "id": "qV4wxLuFU0ZC",
        "outputId": "64b97955-0de9-4f76-c862-e0513567633d"
      },
      "execution_count": 32,
      "outputs": [
        {
          "output_type": "stream",
          "name": "stdout",
          "text": [
            "The id of Name is 1\n"
          ]
        }
      ]
    },
    {
      "cell_type": "code",
      "source": [
        "address =\"Thapatali\"\n",
        "rollNo= 23\n",
        "output= \"The id of {} is {}, rollNo is {}, and address is {}\"\n",
        "print (output.format(name,id,rollNo,address))"
      ],
      "metadata": {
        "colab": {
          "base_uri": "https://localhost:8080/"
        },
        "id": "ZOnSjWNDU20R",
        "outputId": "3980b039-29ca-4451-aca2-ae201078073a"
      },
      "execution_count": 33,
      "outputs": [
        {
          "output_type": "stream",
          "name": "stdout",
          "text": [
            "The id of Name is 1, rollNo is 23, and address is Thapatali\n"
          ]
        }
      ]
    },
    {
      "cell_type": "markdown",
      "source": [
        "**Escape Characters**"
      ],
      "metadata": {
        "id": "vmbtkHzNVIkh"
      }
    },
    {
      "cell_type": "code",
      "source": [
        "print (\"She said,\\\"I can understand, but..\\\" He stood there listening..\")"
      ],
      "metadata": {
        "colab": {
          "base_uri": "https://localhost:8080/"
        },
        "id": "nwryvn4HVN1D",
        "outputId": "afc84d64-fb51-4837-e113-ab55ba32f10e"
      },
      "execution_count": 34,
      "outputs": [
        {
          "output_type": "stream",
          "name": "stdout",
          "text": [
            "She said,\"I can understand, but..\" He stood there listening..\n"
          ]
        }
      ]
    },
    {
      "cell_type": "markdown",
      "source": [
        "*   \\'    Single Quote\n",
        "*   \\\\    Backslash\n",
        "*   \\n    new Line\n",
        "*   \\r    Carriage Return\n",
        "*   \\t    tAB\n",
        "*   \\b    Backspace\n",
        "*   \\f    FormFeed\n",
        "*   \\ooo  Octal value\n",
        "*   \\xhh  Hex value\n",
        "\n",
        "\n",
        "\n",
        "\n",
        "\n",
        "\n",
        "\n",
        "\n",
        "\n",
        "\n",
        "\n",
        "\n",
        "\n"
      ],
      "metadata": {
        "id": "lGM65HhvVhM9"
      }
    },
    {
      "cell_type": "markdown",
      "source": [
        "**String methods**\n",
        "\n",
        "*  capitalize()\t    Converts the first character to upper case\n",
        "*  casefold()\t        Converts string into lower case\n",
        "*  center()\t        Returns a centered string\n",
        "*  count()\t            Returns the number of times a specified value occurs in a string\n",
        "*  encode()\t        Returns an encoded version of the string\n",
        "*  endswith()    \t    Returns true if the string ends with the specified value\n",
        "*  lower()\t            Converts a string into lower case\n",
        "*  replace()\t        Returns a string where a specified value is replaced with a specified value\n",
        "*  split()\t        Splits the string at the specified separator, and returns a list\n",
        "*  startswith()\t    Returns true if the string starts with the specified value\n",
        "*  strip()\t            Returns a trimmed version of the string\n",
        "*  swapcase()\t        Swaps cases, lower case becomes upper case and vice vers\n",
        "*  translate()\t        Returns a translated string\n",
        "*  upper()\t            Converts a string into upper case\n",
        "\n",
        "\n"
      ],
      "metadata": {
        "id": "o4TU-MpwV5ob"
      }
    }
  ]
}