{
  "nbformat": 4,
  "nbformat_minor": 0,
  "metadata": {
    "colab": {
      "provenance": [],
      "authorship_tag": "ABX9TyMKxgBLn+ybi7XKWL5G6uuo",
      "include_colab_link": true
    },
    "kernelspec": {
      "name": "python3",
      "display_name": "Python 3"
    },
    "language_info": {
      "name": "python"
    }
  },
  "cells": [
    {
      "cell_type": "markdown",
      "metadata": {
        "id": "view-in-github",
        "colab_type": "text"
      },
      "source": [
        "<a href=\"https://colab.research.google.com/github/PrashantSBasnet/L3_Sem2/blob/master/Week2/Variables.ipynb\" target=\"_parent\"><img src=\"https://colab.research.google.com/assets/colab-badge.svg\" alt=\"Open In Colab\"/></a>"
      ]
    },
    {
      "cell_type": "markdown",
      "source": [
        "**Variables**\n",
        "\n",
        "\n",
        "*   Placeholder to store value\n",
        "*   A variable is a symbolic name or identifier that represents a storage location (often in the computer's memory) and is associated with a value or data!\n",
        "*   Variables are used to store and manipulate data within a program.\n",
        "\n",
        "\n",
        "\n"
      ],
      "metadata": {
        "id": "f8bIFFEFD94_"
      }
    },
    {
      "cell_type": "code",
      "source": [
        "print (x)\n",
        "print (y)\n",
        "print (z)"
      ],
      "metadata": {
        "colab": {
          "base_uri": "https://localhost:8080/"
        },
        "id": "-zVPw-fdB0PB",
        "outputId": "40f092dd-181b-40b8-a951-4ee3c2e00120"
      },
      "execution_count": 2,
      "outputs": [
        {
          "output_type": "stream",
          "name": "stdout",
          "text": [
            "1\n",
            "Apple\n",
            "1.234\n"
          ]
        }
      ]
    },
    {
      "cell_type": "code",
      "source": [
        "x = 3\n",
        "y = 4\n",
        "z = 5"
      ],
      "metadata": {
        "id": "mdQaXma6B8P3"
      },
      "execution_count": 3,
      "outputs": []
    },
    {
      "cell_type": "code",
      "source": [
        "print (x,y,z)"
      ],
      "metadata": {
        "colab": {
          "base_uri": "https://localhost:8080/"
        },
        "id": "aO0oOCxOCJA7",
        "outputId": "c0b97762-78b1-4591-cc49-8ecc8d86bf1d"
      },
      "execution_count": 4,
      "outputs": [
        {
          "output_type": "stream",
          "name": "stdout",
          "text": [
            "3 4 5\n"
          ]
        }
      ]
    },
    {
      "cell_type": "markdown",
      "source": [
        "is same as"
      ],
      "metadata": {
        "id": "wA338mJYCBBd"
      }
    },
    {
      "cell_type": "code",
      "source": [
        "x, y, z = 3, 4, 5"
      ],
      "metadata": {
        "id": "STSGZPXvCCMN"
      },
      "execution_count": 5,
      "outputs": []
    },
    {
      "cell_type": "markdown",
      "source": [],
      "metadata": {
        "id": "Lww8uKp1CsdS"
      }
    },
    {
      "cell_type": "code",
      "source": [
        "print (x,y,z)"
      ],
      "metadata": {
        "colab": {
          "base_uri": "https://localhost:8080/"
        },
        "id": "FVrgqLJbCGHv",
        "outputId": "2902cab6-04ae-4b97-9b78-49475486fe54"
      },
      "execution_count": 6,
      "outputs": [
        {
          "output_type": "stream",
          "name": "stdout",
          "text": [
            "3 4 5\n"
          ]
        }
      ]
    },
    {
      "cell_type": "markdown",
      "source": [
        "However, the above isn't a great way to assign variables in most cases, because our variable names should be descriptive of the values they hold.Besides writing variable names that are descriptive, there are a few things to watch out for when naming variables in Python.\n",
        "\n",
        "\n",
        "1.   Only use ordinary letters, numbers and underscores in your variable names. They can’t have spaces, and need to start with a letter or underscore.\n",
        "2.   You can’t use reserved words or built-in identifiers that have important purposes in Python, which you’ll learn about throughout this course.  Creating names that are descriptive of the values often will help you avoid using any of these words. A quick table of these words is also available below. https://docs.python.org/3.8/reference/lexical_analysis.html#keywords\n",
        "3. The pythonic way to name variables is to use all lowercase letters and underscores to separate words.\n",
        "**YES** <br>\n",
        "\n",
        "> my_height = 58 <br>\n",
        "  my_lat = 40 <br>\n",
        "  my_long = 105 <br>\n",
        "\n",
        "\n",
        "\n",
        "**NO** <br>\n",
        "\n",
        "\n",
        "> my height = 58 <br>\n",
        "MYLONG = 40 <br>\n",
        "MyLat = 105<br>\n",
        "\n",
        "\n",
        "\n",
        "\n",
        "\n",
        "\n"
      ],
      "metadata": {
        "id": "c9BrM6O1COtY"
      }
    },
    {
      "cell_type": "markdown",
      "source": [
        "You can create a value that follows the data type by using the following syntax.There are two Python data types that could be used for numeric values:\n",
        "\n",
        "\n",
        "*   int - for integer values\n",
        "*   float - for decimal or floating point values\n",
        "\n",
        "\n"
      ],
      "metadata": {
        "id": "tmZky7JBFKsg"
      }
    },
    {
      "cell_type": "code",
      "source": [
        "i = int(4.7)   # x is now an integer 4\n",
        "j = float(4)   # y is now a float of 4.0"
      ],
      "metadata": {
        "id": "hFr3yQWYFVbz"
      },
      "execution_count": 12,
      "outputs": []
    },
    {
      "cell_type": "code",
      "source": [
        "print (i)\n",
        "print (j)"
      ],
      "metadata": {
        "colab": {
          "base_uri": "https://localhost:8080/"
        },
        "id": "p5zcqDLHFXJo",
        "outputId": "174143d4-98fc-45b8-c635-7f012efbd491"
      },
      "execution_count": 13,
      "outputs": [
        {
          "output_type": "stream",
          "name": "stdout",
          "text": [
            "4\n",
            "4.0\n"
          ]
        }
      ]
    },
    {
      "cell_type": "code",
      "source": [
        "#You can check the type by using the type function:\n",
        "print (type(i))\n",
        "print (type(j))"
      ],
      "metadata": {
        "colab": {
          "base_uri": "https://localhost:8080/"
        },
        "id": "wONgxxoNFZ-D",
        "outputId": "426b4ce6-0443-4be8-e6f0-b6a8f1d277df"
      },
      "execution_count": 14,
      "outputs": [
        {
          "output_type": "stream",
          "name": "stdout",
          "text": [
            "<class 'int'>\n",
            "<class 'float'>\n"
          ]
        }
      ]
    },
    {
      "cell_type": "code",
      "source": [
        "str = \"Apple\"\n",
        "bol = True\n"
      ],
      "metadata": {
        "id": "dpkOnSvLFu8p"
      },
      "execution_count": 15,
      "outputs": []
    },
    {
      "cell_type": "code",
      "source": [
        "print (type(str))\n",
        "print (type(bol))"
      ],
      "metadata": {
        "colab": {
          "base_uri": "https://localhost:8080/"
        },
        "id": "5-fifeuzF2qJ",
        "outputId": "97bce787-018d-4cfe-b45c-f72cac865856"
      },
      "execution_count": 16,
      "outputs": [
        {
          "output_type": "stream",
          "name": "stdout",
          "text": [
            "<class 'str'>\n",
            "<class 'bool'>\n"
          ]
        }
      ]
    },
    {
      "cell_type": "markdown",
      "source": [
        "Python Best Practices\n",
        "For all the best practices, see the [PEP8 Guidelines](https://peps.python.org/pep-0008/).\n",
        "\n",
        "Follow these guidelines to make other programmers and future you happy!\n",
        "\n",
        "Good\n",
        "\n",
        "print(4 + 5)\n",
        "Bad\n",
        "\n",
        "print(                       4 + 5)"
      ],
      "metadata": {
        "id": "WddchZeWF7bH"
      }
    },
    {
      "cell_type": "markdown",
      "source": [],
      "metadata": {
        "id": "dvRtj__4CyEr"
      }
    },
    {
      "cell_type": "markdown",
      "source": [],
      "metadata": {
        "id": "SzSK56pEBLaO"
      }
    }
  ]
}