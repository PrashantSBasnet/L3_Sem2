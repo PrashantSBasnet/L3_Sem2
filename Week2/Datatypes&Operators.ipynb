{
  "nbformat": 4,
  "nbformat_minor": 0,
  "metadata": {
    "colab": {
      "provenance": [],
      "authorship_tag": "ABX9TyM/yPTTrUr7FcGiQapcFZBG",
      "include_colab_link": true
    },
    "kernelspec": {
      "name": "python3",
      "display_name": "Python 3"
    },
    "language_info": {
      "name": "python"
    }
  },
  "cells": [
    {
      "cell_type": "markdown",
      "metadata": {
        "id": "view-in-github",
        "colab_type": "text"
      },
      "source": [
        "<a href=\"https://colab.research.google.com/github/PrashantSBasnet/L3_Sem2/blob/master/Week2/Datatypes%26Operators.ipynb\" target=\"_parent\"><img src=\"https://colab.research.google.com/assets/colab-badge.svg\" alt=\"Open In Colab\"/></a>"
      ]
    },
    {
      "cell_type": "markdown",
      "source": [
        "**Data types and operators**\n",
        "\n",
        "\n",
        "*   Data Types: Integers, Floats, Booleans, Strings\n",
        "*   Operators: Arithmetic, Assignment, Comparison, Logical\n",
        "\n",
        "\n"
      ],
      "metadata": {
        "id": "ufAUIdmhGX8p"
      }
    },
    {
      "cell_type": "markdown",
      "source": [
        "**Data types**\n",
        "\n",
        "\n",
        "*   The type of value a variable has\n",
        "*   Way of classifying and categorizing different types of data\n",
        "*   Each data types has specific characteristics and operations that can be performed on it\n",
        "\n",
        "\n",
        "\n",
        "\n"
      ],
      "metadata": {
        "id": "wMobSyjeOym4"
      }
    },
    {
      "cell_type": "markdown",
      "source": [
        "**Built-in Python data types**\n",
        "\n",
        "\n",
        "*   Text Type: str\n",
        "*   Numeric Types: int, float, complex\n",
        "*   Sequence Types: list, type, range\n",
        "*   Mapping Type: dict\n",
        "*   Set Types: set, frozenset\n",
        "*   Boolean Type: bool\n",
        "*   Binary Types: bytes, bytearray, memoryview\n",
        "*   None Type: NoneType\n",
        "\n",
        "\n",
        "\n"
      ],
      "metadata": {
        "id": "t9APhVIgPCmG"
      }
    },
    {
      "cell_type": "markdown",
      "source": [
        "**print()** - built in function that displays input value as text in the output"
      ],
      "metadata": {
        "id": "0qwGTe3MGuNr"
      }
    },
    {
      "cell_type": "code",
      "execution_count": 25,
      "metadata": {
        "colab": {
          "base_uri": "https://localhost:8080/"
        },
        "id": "uaIYyIr9GXh_",
        "outputId": "df0584e6-3df0-4812-91d4-09075974cba2"
      },
      "outputs": [
        {
          "output_type": "stream",
          "name": "stdout",
          "text": [
            "8\n",
            "hello world\n"
          ]
        }
      ],
      "source": [
        "print(3+5)\n",
        "print(\"hello world\")"
      ]
    },
    {
      "cell_type": "markdown",
      "source": [
        "**bold text**"
      ],
      "metadata": {
        "id": "6CuZEeSbOsA6"
      }
    },
    {
      "cell_type": "code",
      "source": [
        "k= 12\n",
        "l = \"Apple\"\n",
        "m =3.53\n",
        "b = True\n",
        "\n",
        "print (type(k))\n",
        "print (type(l))\n",
        "print (type(m))\n",
        "print (type(b))\n"
      ],
      "metadata": {
        "colab": {
          "base_uri": "https://localhost:8080/"
        },
        "id": "KOEqxCwGOXda",
        "outputId": "a79ba806-5d36-4884-c69a-d9225fe4b365"
      },
      "execution_count": 34,
      "outputs": [
        {
          "output_type": "stream",
          "name": "stdout",
          "text": [
            "<class 'int'>\n",
            "<class 'str'>\n",
            "<class 'float'>\n",
            "<class 'bool'>\n"
          ]
        }
      ]
    },
    {
      "cell_type": "markdown",
      "source": [
        "**Arithmetic Operators**\n",
        "\n",
        "*   [ + ] Addition\n",
        "*   [ - ] Subtraction\n",
        "*   [ * ] Multiplication\n",
        "*   [ / ] Division\n",
        "*   [ % ] Mod(the remainder after dividing)\n",
        "*   [ ** ] Exponentiation\n",
        "*   [ // ] Divides and round to the nearest integer\n",
        "\n",
        "\n",
        "\n",
        "\n",
        "\n",
        "\n",
        "\n",
        "\n"
      ],
      "metadata": {
        "id": "OGAsPEDpGy0w"
      }
    },
    {
      "cell_type": "code",
      "source": [
        "print( 1 + 2 + 3 * 3)\n",
        "print( (1+ 2 +3) * 3)\n",
        "print ( 3 ** 2)\n",
        "print ( 9 % 2)\n",
        "print(7/2)\n",
        "print( 7 //  2)"
      ],
      "metadata": {
        "colab": {
          "base_uri": "https://localhost:8080/"
        },
        "id": "V-P4Mf5gHGWm",
        "outputId": "0bd23fac-50dd-4a01-c628-e17adbbbaab9"
      },
      "execution_count": 26,
      "outputs": [
        {
          "output_type": "stream",
          "name": "stdout",
          "text": [
            "12\n",
            "18\n",
            "9\n",
            "1\n",
            "3.5\n",
            "3\n"
          ]
        }
      ]
    },
    {
      "cell_type": "markdown",
      "source": [
        "**Assignment operators**: Assigns values to a variable\n",
        "\n",
        "\n",
        "*   [=] **Assignment Operator** Assigns the value on the right-hand side to the variable on the left-hand side. **x=10**\n",
        "*   [+=] **Addition Assignment** Adds the value on the right-hand side to the variable on the left-hand side and assigns the result to the variable. **x += 5**\n",
        "*  [-=] **Subtraction Assignment** Subtracts the value on the right-hand side from the variable on the left-hand side and assigns the result to the variable. **y -= 3**\n",
        "*  [\\*=] **Multiplication Assignment** Multiplies the variable on the left-hand side by the value on the right-hand side and assigns the result to the variable **z *= 2**\n",
        "*   [/=] **Division Assignment** Divides the variable on the left-hand side by the value on the right-hand side and assigns the result to the variable. **w /= 4**\n",
        "*   [%=] **Modulus Assignment** Calculates the modulus of the variable on the left-hand side with the value on the right-hand side and assigns the result to the variable **a %= 3**\n",
        "*   ** **Exponentiation Assignment** Raises the variable on the left-hand side to the power of the value on the right-hand side and assigns the result to the variable **b **= 2**\n",
        "\n",
        "\n",
        "\n",
        "\n",
        "\n",
        "\n",
        "\n",
        "\n",
        "\n",
        "\n",
        "\n",
        "\n",
        "\n",
        "\n"
      ],
      "metadata": {
        "id": "fLyS61hpHY_4"
      }
    },
    {
      "cell_type": "code",
      "source": [
        "x=5\n",
        "print (x)\n",
        "x += 5         #x = x+5\n",
        "print (x)"
      ],
      "metadata": {
        "colab": {
          "base_uri": "https://localhost:8080/"
        },
        "id": "DI_m_qWGMvHH",
        "outputId": "1efae627-a1b7-4d65-e24e-a7538b27fe72"
      },
      "execution_count": 27,
      "outputs": [
        {
          "output_type": "stream",
          "name": "stdout",
          "text": [
            "5\n",
            "10\n"
          ]
        }
      ]
    },
    {
      "cell_type": "code",
      "source": [
        "z = 100\n",
        "print (z)\n",
        "z %= 23         #z = z%23\n",
        "print (z)"
      ],
      "metadata": {
        "colab": {
          "base_uri": "https://localhost:8080/"
        },
        "id": "ks3oBfQ4NIgt",
        "outputId": "c38771ab-53a2-4846-cd8c-d2243a25a86e"
      },
      "execution_count": 28,
      "outputs": [
        {
          "output_type": "stream",
          "name": "stdout",
          "text": [
            "100\n",
            "8\n"
          ]
        }
      ]
    },
    {
      "cell_type": "markdown",
      "source": [
        "**Comparison Operators**\n",
        "\n",
        "*   [ == ]   Equal\n",
        "*   [ != ]  Not equal\n",
        "*   [ > ]    Greater than\n",
        "*   [ < ]   Less than\n",
        "*   [ >= ]   Greater than or equal to\n",
        "*   [ <= ]  Less than or equal to\n",
        "\n",
        "\n",
        "\n"
      ],
      "metadata": {
        "id": "93Knr6cRKgEK"
      }
    },
    {
      "cell_type": "code",
      "source": [
        "print (5==5)\n",
        "print (3<=56)\n",
        "print (6!=0)"
      ],
      "metadata": {
        "colab": {
          "base_uri": "https://localhost:8080/"
        },
        "id": "_7HjBEs-NbOj",
        "outputId": "5d649c2f-e70b-4d90-c11f-c3c0dc3efbfc"
      },
      "execution_count": 29,
      "outputs": [
        {
          "output_type": "stream",
          "name": "stdout",
          "text": [
            "True\n",
            "True\n",
            "True\n"
          ]
        }
      ]
    },
    {
      "cell_type": "markdown",
      "source": [
        "**Logical Operators**\n",
        "\n",
        "\n",
        "*   and\n",
        "*   or\n",
        "*   not\n",
        "\n",
        "\n",
        "\n"
      ],
      "metadata": {
        "id": "IyBqroYkK-jw"
      }
    },
    {
      "cell_type": "code",
      "source": [
        "print (5 < 3 and 5 == 5) #and - Evaluates if all provided statements are True\n",
        "print (5 < 3 or 5 == 5) #or - Evaluates if at least one of many statements is True\n",
        "print (not 5 < 3) #not - Flips the Bool Value"
      ],
      "metadata": {
        "colab": {
          "base_uri": "https://localhost:8080/"
        },
        "id": "ayYoTpWxMIp3",
        "outputId": "0ba996d3-9087-49c1-907a-a69a14553587"
      },
      "execution_count": 30,
      "outputs": [
        {
          "output_type": "stream",
          "name": "stdout",
          "text": [
            "False\n",
            "True\n",
            "True\n"
          ]
        }
      ]
    },
    {
      "cell_type": "code",
      "source": [
        "x1 = 10\n",
        "y1 = 3\n",
        "print (x1 <12 and x1<15)\n",
        "print (not(x1 <12 or x1<9))"
      ],
      "metadata": {
        "colab": {
          "base_uri": "https://localhost:8080/"
        },
        "id": "MbJjb_aKMh8O",
        "outputId": "816da86f-7de7-470e-88ae-57df0b1bbf25"
      },
      "execution_count": 31,
      "outputs": [
        {
          "output_type": "stream",
          "name": "stdout",
          "text": [
            "True\n",
            "False\n"
          ]
        }
      ]
    },
    {
      "cell_type": "markdown",
      "source": [
        "**Identity operators**\n",
        "\n",
        "\n",
        "*   is\n",
        "*   not\n",
        "\n"
      ],
      "metadata": {
        "id": "5np944rHLOlu"
      }
    },
    {
      "cell_type": "code",
      "source": [
        "x = \"Apple\"\n",
        "y = \"Applee\""
      ],
      "metadata": {
        "id": "sm8Cpo5tLmgm"
      },
      "execution_count": 32,
      "outputs": []
    },
    {
      "cell_type": "code",
      "source": [
        "print (y is x)\n",
        "print (x is y)\n",
        "print (x is not y)"
      ],
      "metadata": {
        "colab": {
          "base_uri": "https://localhost:8080/"
        },
        "id": "_dt2Y3wULkd2",
        "outputId": "d589b70a-acc9-4e9a-ab20-ba3dabdb8d18"
      },
      "execution_count": 33,
      "outputs": [
        {
          "output_type": "stream",
          "name": "stdout",
          "text": [
            "False\n",
            "False\n",
            "True\n"
          ]
        }
      ]
    },
    {
      "cell_type": "markdown",
      "source": [
        " **Membership operators**\n",
        "*   in         Returns True if a sequence with the specified value        is present in the object\n",
        "*   not in     Returns True if a sequence with the specified value        is not present in the object"
      ],
      "metadata": {
        "id": "kMJsTmu9N7pR"
      }
    },
    {
      "cell_type": "markdown",
      "source": [
        "\n",
        "**Data types in python**\n",
        "\n",
        "*  d1 = 10   #int\n",
        "*  d2 = 10.5 #float\n",
        "*  d3 = 5j   #complex\n",
        "*  d4 = [\"IT\", \"FODs\", \"Multimedia\", \"I don't know\"]   #list\n",
        "*  d5 = (\"IT\", \"FODs\", \"Multipedia\", \"I don't know\")   #tuple\n",
        "*  d6 = range(10)\n",
        "*  d7 = frozenset({\"maths\", \"science\", \"geography\"})\n",
        "*  d8 = False #bool\n",
        "*  d9 = b\"Somevalue\"  #bytes\n",
        "*  d10 = bytearray(5)  #byte array\n",
        "*  d11 = memoryview(bytes(5)) #memoryview\n",
        "*  d12 = None   #NoneType\n",
        "\n",
        "\n",
        "\n",
        "\n",
        "\n",
        "\n",
        "\n",
        "\n",
        "\n",
        "\n",
        "\n",
        "\n",
        "\n",
        "\n",
        "\n",
        "\n",
        "\n",
        "\n",
        "\n",
        "\n",
        "\n",
        "\n"
      ],
      "metadata": {
        "id": "VrJ2R9HBPaBq"
      }
    }
  ]
}