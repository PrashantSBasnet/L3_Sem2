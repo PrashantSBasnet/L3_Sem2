{
  "nbformat": 4,
  "nbformat_minor": 0,
  "metadata": {
    "colab": {
      "provenance": [],
      "authorship_tag": "ABX9TyO1mGIt8RFi+IQHzXikhGNc",
      "include_colab_link": true
    },
    "kernelspec": {
      "name": "python3",
      "display_name": "Python 3"
    },
    "language_info": {
      "name": "python"
    }
  },
  "cells": [
    {
      "cell_type": "markdown",
      "metadata": {
        "id": "view-in-github",
        "colab_type": "text"
      },
      "source": [
        "<a href=\"https://colab.research.google.com/github/PrashantSBasnet/L3_Sem2/blob/master/Week3/Functions.ipynb\" target=\"_parent\"><img src=\"https://colab.research.google.com/assets/colab-badge.svg\" alt=\"Open In Colab\"/></a>"
      ]
    },
    {
      "cell_type": "markdown",
      "source": [
        "**Functions**\n",
        "\n",
        "\n",
        "*   Defining Function\n",
        "*   Variable Scope\n",
        "*   Scripts vs Modules\n",
        "*   Lambda Expressions\n",
        "\n",
        "\n",
        "\n"
      ],
      "metadata": {
        "id": "PBfuOKmfaj9h"
      }
    },
    {
      "cell_type": "markdown",
      "source": [
        "You can think about functions as a way to take what you have already learned how to do, and put it in a holder that allows you to use it over and over again in an easy to use container."
      ],
      "metadata": {
        "id": "7dJ7foilbFqM"
      }
    },
    {
      "cell_type": "markdown",
      "source": [
        "**Defining Functions**\n",
        "\n",
        "\n",
        "* A function is a block of code which only runs when it is called.\n",
        "* You can pass data, known as parameters, into a function.\n",
        "* A function can return data as a result.\n",
        "\n",
        "\n",
        "\n",
        "\n",
        "\n",
        "\n",
        "\n"
      ],
      "metadata": {
        "id": "UZ56iPKebRDc"
      }
    },
    {
      "cell_type": "markdown",
      "source": [
        "**Creating a Function**\n",
        "<br>\n",
        "A function is defined using the def keyword\n",
        "\n",
        "\n"
      ],
      "metadata": {
        "id": "wVvNIykdbpa6"
      }
    },
    {
      "cell_type": "code",
      "source": [
        "def my_function():\n",
        "  print(\"Hello from a function\")"
      ],
      "metadata": {
        "id": "FSOMaZT2b24v"
      },
      "execution_count": null,
      "outputs": []
    },
    {
      "cell_type": "markdown",
      "source": [
        "**Calling a function**"
      ],
      "metadata": {
        "id": "FXn3r8SCb-PI"
      }
    },
    {
      "cell_type": "code",
      "source": [
        "my_function()"
      ],
      "metadata": {
        "colab": {
          "base_uri": "https://localhost:8080/"
        },
        "id": "Q_Bibz08b7Pv",
        "outputId": "d56d88ca-33d4-4e21-a0c6-fef66156279e"
      },
      "execution_count": null,
      "outputs": [
        {
          "output_type": "stream",
          "name": "stdout",
          "text": [
            "Hello from a function\n"
          ]
        }
      ]
    },
    {
      "cell_type": "markdown",
      "source": [
        "**Arguments**\n",
        "\n",
        "\n",
        "*  Information can be passed into functions as arguments.\n",
        "*  Arguments are specified after the function name, inside the parentheses. You can add as many arguments as you want, just separate them with a comma.\n",
        "\n",
        "\n",
        "\n"
      ],
      "metadata": {
        "id": "yqcK02elcBkk"
      }
    },
    {
      "cell_type": "code",
      "source": [
        "def give_name(name):\n",
        "  return name"
      ],
      "metadata": {
        "id": "P54kwDjiozGY"
      },
      "execution_count": null,
      "outputs": []
    },
    {
      "cell_type": "code",
      "source": [
        "give_name(\"Kanchana Pasachhe\")"
      ],
      "metadata": {
        "colab": {
          "base_uri": "https://localhost:8080/",
          "height": 36
        },
        "id": "GUj8dzgxo4ZW",
        "outputId": "c8e687ad-83a5-4edb-ca8d-641112cb0d97"
      },
      "execution_count": null,
      "outputs": [
        {
          "output_type": "execute_result",
          "data": {
            "text/plain": [
              "'Kanchana Pasachhe'"
            ],
            "application/vnd.google.colaboratory.intrinsic+json": {
              "type": "string"
            }
          },
          "metadata": {},
          "execution_count": 17
        }
      ]
    },
    {
      "cell_type": "code",
      "source": [
        "def print_something():\n",
        "  print (\"Hello World\")"
      ],
      "metadata": {
        "id": "1BkmymdkqZxc"
      },
      "execution_count": null,
      "outputs": []
    },
    {
      "cell_type": "code",
      "source": [
        "print_something()"
      ],
      "metadata": {
        "colab": {
          "base_uri": "https://localhost:8080/"
        },
        "id": "7SiMU0ADqfNh",
        "outputId": "e145fe13-4a56-4e3b-9310-b845b43fdc4c"
      },
      "execution_count": null,
      "outputs": [
        {
          "output_type": "stream",
          "name": "stdout",
          "text": [
            "Hello World\n"
          ]
        }
      ]
    },
    {
      "cell_type": "markdown",
      "source": [
        "**Print vs. Return in Functions**\n",
        "Here are two valid functions. One returns a value and one simply prints a value, without returning anything. Test run this code and experiment to understand the difference.\n",
        "\n"
      ],
      "metadata": {
        "id": "d8Occvmuq5J-"
      }
    },
    {
      "cell_type": "code",
      "source": [
        "# this prints something, but does not return anything\n",
        "def show_plus_ten(num):\n",
        "    print(num + 10)\n",
        "\n",
        "# this returns something\n",
        "def add_ten(num):\n",
        "    return(num + 10)\n",
        "\n",
        "print('Calling show_plus_ten...')\n",
        "return_value_1 = show_plus_ten(5)\n",
        "print('Done calling')\n",
        "print('This function returned: {}'.format(return_value_1))\n",
        "\n",
        "print('\\nCalling add_ten...')\n",
        "return_value_2 = add_ten(5)\n",
        "print('Done calling')\n",
        "print('This function returned: {}'.format(return_value_2))"
      ],
      "metadata": {
        "colab": {
          "base_uri": "https://localhost:8080/"
        },
        "id": "_pGUqHJhqzXz",
        "outputId": "b28bee9f-6d38-4ce0-be1e-09dd3a705dc8"
      },
      "execution_count": null,
      "outputs": [
        {
          "output_type": "stream",
          "name": "stdout",
          "text": [
            "Calling show_plus_ten...\n",
            "15\n",
            "Done calling\n",
            "This function returned: None\n",
            "\n",
            "Calling add_ten...\n",
            "Done calling\n",
            "This function returned: 15\n"
          ]
        }
      ]
    },
    {
      "cell_type": "markdown",
      "source": [
        "**Default Arguments**\n",
        "We can add default arguments in a function to have default values for parameters that are unspecified in a function call."
      ],
      "metadata": {
        "id": "KUwbCcB0rKxl"
      }
    },
    {
      "cell_type": "code",
      "source": [
        "def cylinder_volume(height, radius=5):\n",
        "    pi = 3.14159\n",
        "    return height * pi * radius ** 2"
      ],
      "metadata": {
        "id": "1DVVzWhzrOOn"
      },
      "execution_count": null,
      "outputs": []
    },
    {
      "cell_type": "markdown",
      "source": [
        "In the example above, radius is set to 5 if that parameter is omitted in a function call. If we call cylinder_volume(10), the function will use 10 as the height and 5 as the radius. However, if we call cylinder_volume(10, 7) the 7 will simply overwrite the default value of 5.\n",
        "\n",
        "Also notice here we are passing values to our arguments by position. It is possible to pass values in two ways - by position and by name. Each of these function calls are evaluated the same way."
      ],
      "metadata": {
        "id": "GNTrLMryrScJ"
      }
    },
    {
      "cell_type": "code",
      "source": [
        "cylinder_volume(10, 7)  # pass in arguments by position"
      ],
      "metadata": {
        "colab": {
          "base_uri": "https://localhost:8080/"
        },
        "id": "A9eDEOsCrR4u",
        "outputId": "5a9d0031-9368-4a6d-d973-c341e042f42d"
      },
      "execution_count": null,
      "outputs": [
        {
          "output_type": "execute_result",
          "data": {
            "text/plain": [
              "1539.3791"
            ]
          },
          "metadata": {},
          "execution_count": 25
        }
      ]
    },
    {
      "cell_type": "code",
      "source": [
        "cylinder_volume(radius=5, height=10)"
      ],
      "metadata": {
        "colab": {
          "base_uri": "https://localhost:8080/"
        },
        "id": "HcyYcaT2sGUE",
        "outputId": "714d4197-c634-41b3-8e87-64373c037c42"
      },
      "execution_count": null,
      "outputs": [
        {
          "output_type": "execute_result",
          "data": {
            "text/plain": [
              "785.3975"
            ]
          },
          "metadata": {},
          "execution_count": 27
        }
      ]
    },
    {
      "cell_type": "code",
      "source": [
        "cylinder_volume(10) #in this case the default radius=5 will be used"
      ],
      "metadata": {
        "colab": {
          "base_uri": "https://localhost:8080/"
        },
        "id": "aFBGJ-flslpM",
        "outputId": "c2eca757-b505-4143-e932-caf7cab67e2a"
      },
      "execution_count": null,
      "outputs": [
        {
          "output_type": "execute_result",
          "data": {
            "text/plain": [
              "785.3975"
            ]
          },
          "metadata": {},
          "execution_count": 29
        }
      ]
    },
    {
      "cell_type": "code",
      "source": [
        "def square_area(length):\n",
        "    area = length **2\n",
        "    return area"
      ],
      "metadata": {
        "id": "PvTAGsBmcS9-"
      },
      "execution_count": null,
      "outputs": []
    },
    {
      "cell_type": "code",
      "source": [
        "square_area(43)"
      ],
      "metadata": {
        "colab": {
          "base_uri": "https://localhost:8080/"
        },
        "id": "zys6aNm6ccOc",
        "outputId": "d6a015f1-58c7-4c16-ad5a-3f722134c47e"
      },
      "execution_count": null,
      "outputs": [
        {
          "output_type": "execute_result",
          "data": {
            "text/plain": [
              "1849"
            ]
          },
          "metadata": {},
          "execution_count": 14
        }
      ]
    },
    {
      "cell_type": "code",
      "source": [
        "def cylinder_volume(height, radius):\n",
        "    pi = 3.14159\n",
        "    return height * pi * radius ** 2"
      ],
      "metadata": {
        "id": "lrCtkfe9cPWm"
      },
      "execution_count": null,
      "outputs": []
    },
    {
      "cell_type": "code",
      "source": [
        "cylinder_volume(10, 3)"
      ],
      "metadata": {
        "colab": {
          "base_uri": "https://localhost:8080/"
        },
        "id": "4FBbkN0YcLdd",
        "outputId": "0ae1f4e3-5e3e-4857-898b-7c34549f09de"
      },
      "execution_count": null,
      "outputs": [
        {
          "output_type": "execute_result",
          "data": {
            "text/plain": [
              "282.7431"
            ]
          },
          "metadata": {},
          "execution_count": 16
        }
      ]
    },
    {
      "cell_type": "markdown",
      "source": [
        "\n",
        "**Function Header**\n",
        "Let's start with the function header, which is the first line of a function definition.\n",
        "\n",
        "\n",
        "1.   The function header always starts with the def keyword, which indicates that this is a function definition.\n",
        "2.   Then comes the function name (here, cylinder_volume), which follows the same naming conventions as variables. You can revisit the naming conventions below.\n",
        "3. Immediately after the name are parentheses that may include arguments separated by commas (here, height and radius). Arguments, or parameters, are values that are passed in as inputs when the function is called, and are used in the function body. If a function doesn't take arguments, these parentheses are left empty.\n",
        "4. The header always end with a colon :\n",
        "\n",
        "**Function Body**\n",
        "The rest of the function is contained in the body, which is where the function does its work.\n",
        "1. The body of a function is the code indented after the header line. Here, it's the two lines that define pi and return the volume.\n",
        "2. Within this body, we can refer to the argument variables and define new variables, which can only be used within these indented lines.\n",
        "3. The body will often include a return statement, which is used to send back an output value from the function to the statement that called the function. A return statement consists of the return keyword followed by an expression that is evaluated to get the output value for the function. If there is no return statement, the function simply returns None.\n",
        "\n",
        "Naming Conventions for Functions\n",
        "Function names follow the same naming conventions as variables.\n",
        "1. Only use ordinary letters, numbers and underscores in your function names. They can’t have spaces, and need to start with a letter or underscore.\n",
        "2. You can’t use reserved words or built-in identifiers that have important purposes in Python, which you’ll learn about throughout this course.\n",
        "3. Try to use descriptive names that can help readers understand what the function does.\n",
        "\n"
      ],
      "metadata": {
        "id": "dHvbwFAdpke1"
      }
    },
    {
      "cell_type": "markdown",
      "source": [
        "**Variables Scope**\n",
        "<br>\n",
        "Variable scope refers to which parts of a program a variable can be referenced, or used, from.\n",
        "\n",
        "It's important to consider scope when using variables in functions. If a variable is created inside a function, it can only be used within that function. Accessing it outside that function is not possible.<br>\n",
        "\n"
      ],
      "metadata": {
        "id": "HFJXju_Wsywd"
      }
    },
    {
      "cell_type": "code",
      "source": [
        "def some_function():\n",
        "    word = \"hello\""
      ],
      "metadata": {
        "id": "-d9FbEh8t0_7"
      },
      "execution_count": 35,
      "outputs": []
    },
    {
      "cell_type": "code",
      "source": [
        "##This will result in an error because we are trying to access the variable outside the function where it is defined\n",
        "print(word)"
      ],
      "metadata": {
        "colab": {
          "base_uri": "https://localhost:8080/",
          "height": 197
        },
        "id": "4gFXsOvyu-bv",
        "outputId": "d3ee50c8-8216-4877-9b19-b6e7ddfbc190"
      },
      "execution_count": 37,
      "outputs": [
        {
          "output_type": "error",
          "ename": "NameError",
          "evalue": "name 'word' is not defined",
          "traceback": [
            "\u001b[0;31m---------------------------------------------------------------------------\u001b[0m",
            "\u001b[0;31mNameError\u001b[0m                                 Traceback (most recent call last)",
            "\u001b[0;32m<ipython-input-37-89d08f960842>\u001b[0m in \u001b[0;36m<cell line: 2>\u001b[0;34m()\u001b[0m\n\u001b[1;32m      1\u001b[0m \u001b[0;31m##This will result in an error\u001b[0m\u001b[0;34m\u001b[0m\u001b[0;34m\u001b[0m\u001b[0m\n\u001b[0;32m----> 2\u001b[0;31m \u001b[0mprint\u001b[0m\u001b[0;34m(\u001b[0m\u001b[0mword\u001b[0m\u001b[0;34m)\u001b[0m\u001b[0;34m\u001b[0m\u001b[0;34m\u001b[0m\u001b[0m\n\u001b[0m",
            "\u001b[0;31mNameError\u001b[0m: name 'word' is not defined"
          ]
        }
      ]
    },
    {
      "cell_type": "markdown",
      "source": [
        "In the example above and the example below, word is said to have scope that is only local to each function. This means you can use the same name for different variables that are used in different functions."
      ],
      "metadata": {
        "id": "MlLtcMbEt4G1"
      }
    },
    {
      "cell_type": "code",
      "source": [
        "# This works fine\n",
        "def some_function():\n",
        "    word = \"hello\"\n",
        "\n",
        "def another_function():\n",
        "    word = \"goodbye\""
      ],
      "metadata": {
        "id": "lBRc28Sst3Po"
      },
      "execution_count": 31,
      "outputs": []
    },
    {
      "cell_type": "markdown",
      "source": [
        "Notice that we can still access the value of the global variable word within this function. However, the value of a global variable can not be modified inside the function. If you want to modify that variable's value inside this function, it should be passed in as an argument.<br>\n",
        "Scope is essential to understanding how information is passed throughout programs in Python and really any programming language.<br><br>\n",
        "\n",
        "**More on Variable Scope**\n",
        "When you program, you'll often find that similar ideas come up again and again. You'll use variables for things like counting, iterating and accumulating values to return. In order to write readable code, you'll find yourself wanting to use similar names for similar ideas. As soon as you put multiple piece of code together (for instance, multiple functions or function calls in a single script) you might find that you want to use the same name for two separate concepts.<br>\n",
        "Fortunately, you don't need to come up with new names endlessly. Reusing names for objects is OK as long as you keep them in separate scope.\n",
        "<br>\n",
        "\n",
        "**Good practice** It is best to define variables in the smallest scope they will be needed in. While functions can refer to variables defined in a larger scope, this is very rarely a good idea since you may not know what variables you have defined if your program has a lot of variables.\n",
        "\n"
      ],
      "metadata": {
        "id": "qSKZkW-_uCEm"
      }
    },
    {
      "cell_type": "code",
      "source": [
        "egg_count = 0\n",
        "\n",
        "def buy_eggs():\n",
        "    egg_count += 12 # purchase a dozen eggs"
      ],
      "metadata": {
        "id": "dKd17Y9Gt9gm"
      },
      "execution_count": 32,
      "outputs": []
    },
    {
      "cell_type": "code",
      "source": [
        "buy_eggs()"
      ],
      "metadata": {
        "colab": {
          "base_uri": "https://localhost:8080/",
          "height": 269
        },
        "id": "3kTPxz4_uYKG",
        "outputId": "4db08ab2-de39-4e57-acc8-5f571423b034"
      },
      "execution_count": 33,
      "outputs": [
        {
          "output_type": "error",
          "ename": "UnboundLocalError",
          "evalue": "local variable 'egg_count' referenced before assignment",
          "traceback": [
            "\u001b[0;31m---------------------------------------------------------------------------\u001b[0m",
            "\u001b[0;31mUnboundLocalError\u001b[0m                         Traceback (most recent call last)",
            "\u001b[0;32m<ipython-input-33-36c748e1ed52>\u001b[0m in \u001b[0;36m<cell line: 1>\u001b[0;34m()\u001b[0m\n\u001b[0;32m----> 1\u001b[0;31m \u001b[0mbuy_eggs\u001b[0m\u001b[0;34m(\u001b[0m\u001b[0;34m)\u001b[0m\u001b[0;34m\u001b[0m\u001b[0;34m\u001b[0m\u001b[0m\n\u001b[0m",
            "\u001b[0;32m<ipython-input-32-8e375cfc99c6>\u001b[0m in \u001b[0;36mbuy_eggs\u001b[0;34m()\u001b[0m\n\u001b[1;32m      2\u001b[0m \u001b[0;34m\u001b[0m\u001b[0m\n\u001b[1;32m      3\u001b[0m \u001b[0;32mdef\u001b[0m \u001b[0mbuy_eggs\u001b[0m\u001b[0;34m(\u001b[0m\u001b[0;34m)\u001b[0m\u001b[0;34m:\u001b[0m\u001b[0;34m\u001b[0m\u001b[0;34m\u001b[0m\u001b[0m\n\u001b[0;32m----> 4\u001b[0;31m     \u001b[0megg_count\u001b[0m \u001b[0;34m+=\u001b[0m \u001b[0;36m12\u001b[0m \u001b[0;31m# purchase a dozen eggs\u001b[0m\u001b[0;34m\u001b[0m\u001b[0;34m\u001b[0m\u001b[0m\n\u001b[0m",
            "\u001b[0;31mUnboundLocalError\u001b[0m: local variable 'egg_count' referenced before assignment"
          ]
        }
      ]
    },
    {
      "cell_type": "markdown",
      "source": [
        "This causes an UnboundLocalError, since Python doesn't allow functions to modify variables that are outside the function's scope. A better way would be to pass the variable as an argument and reassign it outside the function. <br>\n",
        "A better way to write this would be:"
      ],
      "metadata": {
        "id": "orIsGoldui5n"
      }
    },
    {
      "cell_type": "code",
      "source": [
        "egg_count = 0\n",
        "\n",
        "def buy_eggs(count):\n",
        "    return count + 12  # purchase a dozen eggs"
      ],
      "metadata": {
        "id": "VlxPDubLuoxZ"
      },
      "execution_count": 34,
      "outputs": []
    },
    {
      "cell_type": "code",
      "source": [
        "buy_eggs(12)"
      ],
      "metadata": {
        "colab": {
          "base_uri": "https://localhost:8080/"
        },
        "id": "qYrPFK-6ukBx",
        "outputId": "865171ba-1e86-48ae-f164-e892cf64d192"
      },
      "execution_count": 39,
      "outputs": [
        {
          "output_type": "execute_result",
          "data": {
            "text/plain": [
              "24"
            ]
          },
          "metadata": {},
          "execution_count": 39
        }
      ]
    },
    {
      "cell_type": "code",
      "source": [
        "str1 = 'Functions are important programming concepts.'\n",
        "\n",
        "def print_fn():\n",
        "    str1 = 'Variable scope is an important concept.'\n",
        "    print(str1)"
      ],
      "metadata": {
        "id": "Evf1K3pBwEvn"
      },
      "execution_count": 40,
      "outputs": []
    },
    {
      "cell_type": "code",
      "source": [
        "print_fn()"
      ],
      "metadata": {
        "colab": {
          "base_uri": "https://localhost:8080/"
        },
        "id": "W87nYS1NwX7f",
        "outputId": "c9d88110-d68b-4820-b4a1-51ecb8078685"
      },
      "execution_count": 41,
      "outputs": [
        {
          "output_type": "stream",
          "name": "stdout",
          "text": [
            "Variable scope is an important concept.\n"
          ]
        }
      ]
    },
    {
      "cell_type": "code",
      "source": [
        "str1 = 'Functions are important programming concepts.'\n",
        "\n",
        "def print_fn():\n",
        "    str1 = 'Variable scope is an important concept.'\n",
        "    print(str1)"
      ],
      "metadata": {
        "id": "CKXuMd6vwccf"
      },
      "execution_count": 42,
      "outputs": []
    },
    {
      "cell_type": "code",
      "source": [
        "print_fn()"
      ],
      "metadata": {
        "colab": {
          "base_uri": "https://localhost:8080/"
        },
        "id": "Z8WgfA6RwdI7",
        "outputId": "01b027f4-44e2-428f-eaef-b35fbe0fcbc6"
      },
      "execution_count": 43,
      "outputs": [
        {
          "output_type": "stream",
          "name": "stdout",
          "text": [
            "Variable scope is an important concept.\n"
          ]
        }
      ]
    },
    {
      "cell_type": "code",
      "source": [
        "str1 = 'Functions are important programming concepts.'\n",
        "\n",
        "def print_fn():\n",
        "    #str1 = 'Variable scope is an important concept.'\n",
        "    print(str1)"
      ],
      "metadata": {
        "id": "RV-qOxuWwlq9"
      },
      "execution_count": 45,
      "outputs": []
    },
    {
      "cell_type": "code",
      "source": [
        "print_fn()"
      ],
      "metadata": {
        "colab": {
          "base_uri": "https://localhost:8080/"
        },
        "id": "4zv86odKwqFh",
        "outputId": "c6b9e349-471d-4eb4-df1e-dcffd13c8d9f"
      },
      "execution_count": 46,
      "outputs": [
        {
          "output_type": "stream",
          "name": "stdout",
          "text": [
            "Functions are important programming concepts.\n"
          ]
        }
      ]
    },
    {
      "cell_type": "code",
      "source": [
        "def print_fn():\n",
        "    str1 = 'Variable scope is an important concept.'\n",
        "    print(str1)"
      ],
      "metadata": {
        "id": "SSikz68lwuSo"
      },
      "execution_count": 47,
      "outputs": []
    },
    {
      "cell_type": "code",
      "source": [
        "print_fn(str1)\n"
      ],
      "metadata": {
        "colab": {
          "base_uri": "https://localhost:8080/",
          "height": 179
        },
        "id": "DgVQumWJwva6",
        "outputId": "e405d347-e92e-42c2-a3ca-4336303a6bec"
      },
      "execution_count": 48,
      "outputs": [
        {
          "output_type": "error",
          "ename": "TypeError",
          "evalue": "print_fn() takes 0 positional arguments but 1 was given",
          "traceback": [
            "\u001b[0;31m---------------------------------------------------------------------------\u001b[0m",
            "\u001b[0;31mTypeError\u001b[0m                                 Traceback (most recent call last)",
            "\u001b[0;32m<ipython-input-48-e28fac64679b>\u001b[0m in \u001b[0;36m<cell line: 1>\u001b[0;34m()\u001b[0m\n\u001b[0;32m----> 1\u001b[0;31m \u001b[0mprint_fn\u001b[0m\u001b[0;34m(\u001b[0m\u001b[0mstr1\u001b[0m\u001b[0;34m)\u001b[0m\u001b[0;34m\u001b[0m\u001b[0;34m\u001b[0m\u001b[0m\n\u001b[0m",
            "\u001b[0;31mTypeError\u001b[0m: print_fn() takes 0 positional arguments but 1 was given"
          ]
        }
      ]
    },
    {
      "cell_type": "code",
      "source": [
        "str1 = 'Functions are important programming concepts.'\n",
        "\n",
        "def print_fn():\n",
        "    print(str1)\n"
      ],
      "metadata": {
        "id": "Q7OG07Tywz5p"
      },
      "execution_count": 49,
      "outputs": []
    },
    {
      "cell_type": "code",
      "source": [
        "print_fn(str1)\n"
      ],
      "metadata": {
        "colab": {
          "base_uri": "https://localhost:8080/",
          "height": 179
        },
        "id": "owWcXHhYw2Nv",
        "outputId": "c30033b8-c864-4e23-83e9-bd595170ddd2"
      },
      "execution_count": 50,
      "outputs": [
        {
          "output_type": "error",
          "ename": "TypeError",
          "evalue": "print_fn() takes 0 positional arguments but 1 was given",
          "traceback": [
            "\u001b[0;31m---------------------------------------------------------------------------\u001b[0m",
            "\u001b[0;31mTypeError\u001b[0m                                 Traceback (most recent call last)",
            "\u001b[0;32m<ipython-input-50-e28fac64679b>\u001b[0m in \u001b[0;36m<cell line: 1>\u001b[0;34m()\u001b[0m\n\u001b[0;32m----> 1\u001b[0;31m \u001b[0mprint_fn\u001b[0m\u001b[0;34m(\u001b[0m\u001b[0mstr1\u001b[0m\u001b[0;34m)\u001b[0m\u001b[0;34m\u001b[0m\u001b[0;34m\u001b[0m\u001b[0m\n\u001b[0m",
            "\u001b[0;31mTypeError\u001b[0m: print_fn() takes 0 positional arguments but 1 was given"
          ]
        }
      ]
    },
    {
      "cell_type": "markdown",
      "source": [
        "**Global Scope**<br>\n",
        "\n",
        "\n",
        "*   A variable declared outside of any function or class has a global scope.\n",
        "*   It can be accessed from any part of the code, both inside and outside functions or classes.\n",
        "\n"
      ],
      "metadata": {
        "id": "Il6CIYhHyHLg"
      }
    },
    {
      "cell_type": "code",
      "source": [
        "global_variable = 10\n",
        "\n",
        "def my_function():\n",
        "    print(global_variable)\n",
        "\n",
        "my_function()  # Output: 10"
      ],
      "metadata": {
        "colab": {
          "base_uri": "https://localhost:8080/"
        },
        "id": "CFvwJyB9yT40",
        "outputId": "1cb9d01d-d279-4fbd-bc43-4f3d8b90fc76"
      },
      "execution_count": 51,
      "outputs": [
        {
          "output_type": "stream",
          "name": "stdout",
          "text": [
            "10\n"
          ]
        }
      ]
    },
    {
      "cell_type": "markdown",
      "source": [
        "**Local Scope** <br>\n",
        "\n",
        "\n",
        "*   A variable declared within a function or a block of code has local scope.\n",
        "*   It can only be accessed within that specific function or block.\n",
        "\n",
        "\n"
      ],
      "metadata": {
        "id": "JmWshopDyYn6"
      }
    },
    {
      "cell_type": "code",
      "source": [
        "def greet():\n",
        "\n",
        "    # local variable\n",
        "    message = 'Hello'\n",
        "\n",
        "    print('Local', message)\n",
        "\n",
        "greet()\n",
        "\n",
        "# try to access message variable\n",
        "# outside greet() function\n",
        "print(message)"
      ],
      "metadata": {
        "colab": {
          "base_uri": "https://localhost:8080/",
          "height": 233
        },
        "id": "NhdFl-TZyj1p",
        "outputId": "950540eb-cd47-4865-aa27-284e28ea8858"
      },
      "execution_count": 54,
      "outputs": [
        {
          "output_type": "stream",
          "name": "stdout",
          "text": [
            "Local Hello\n"
          ]
        },
        {
          "output_type": "error",
          "ename": "NameError",
          "evalue": "name 'message' is not defined",
          "traceback": [
            "\u001b[0;31m---------------------------------------------------------------------------\u001b[0m",
            "\u001b[0;31mNameError\u001b[0m                                 Traceback (most recent call last)",
            "\u001b[0;32m<ipython-input-54-a0221b32e00b>\u001b[0m in \u001b[0;36m<cell line: 12>\u001b[0;34m()\u001b[0m\n\u001b[1;32m     10\u001b[0m \u001b[0;31m# try to access message variable\u001b[0m\u001b[0;34m\u001b[0m\u001b[0;34m\u001b[0m\u001b[0m\n\u001b[1;32m     11\u001b[0m \u001b[0;31m# outside greet() function\u001b[0m\u001b[0;34m\u001b[0m\u001b[0;34m\u001b[0m\u001b[0m\n\u001b[0;32m---> 12\u001b[0;31m \u001b[0mprint\u001b[0m\u001b[0;34m(\u001b[0m\u001b[0mmessage\u001b[0m\u001b[0;34m)\u001b[0m\u001b[0;34m\u001b[0m\u001b[0;34m\u001b[0m\u001b[0m\n\u001b[0m",
            "\u001b[0;31mNameError\u001b[0m: name 'message' is not defined"
          ]
        }
      ]
    },
    {
      "cell_type": "markdown",
      "source": [
        "Here, the message variable is local to the greet() function, so it can only be accessed within the function.That's why we get an error when we try to access it outside the greet() function."
      ],
      "metadata": {
        "id": "WPDV9Z735DVp"
      }
    },
    {
      "cell_type": "code",
      "source": [],
      "metadata": {
        "id": "onbkxSo45Cwd"
      },
      "execution_count": null,
      "outputs": []
    },
    {
      "cell_type": "code",
      "source": [],
      "metadata": {
        "id": "ARzyl4AayWhX"
      },
      "execution_count": null,
      "outputs": []
    }
  ]
}