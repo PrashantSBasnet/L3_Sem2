{
  "nbformat": 4,
  "nbformat_minor": 0,
  "metadata": {
    "colab": {
      "provenance": [],
      "authorship_tag": "ABX9TyNXSInjlaRJ+WRucRt1l9sN",
      "include_colab_link": true
    },
    "kernelspec": {
      "name": "python3",
      "display_name": "Python 3"
    },
    "language_info": {
      "name": "python"
    }
  },
  "cells": [
    {
      "cell_type": "markdown",
      "metadata": {
        "id": "view-in-github",
        "colab_type": "text"
      },
      "source": [
        "<a href=\"https://colab.research.google.com/github/PrashantSBasnet/L3_Sem2/blob/master/Week3/Lambda.ipynb\" target=\"_parent\"><img src=\"https://colab.research.google.com/assets/colab-badge.svg\" alt=\"Open In Colab\"/></a>"
      ]
    },
    {
      "cell_type": "markdown",
      "source": [
        "**Lambda Expressions** <br>\n",
        "\n",
        "\n",
        "*   A lambda function is a small anonymous function.\n",
        "*   A lambda function can take any number of arguments, but can only have one expression.\n",
        "*   You can use lambda expressions to create anonymous functions. That is, functions that don’t have a name.\n",
        "*   They are helpful for creating quick functions that aren’t needed later in your code. This can be especially useful for higher order functions, or functions that take in other functions as arguments.\n",
        "\n",
        "\n",
        "\n",
        "\n",
        "\n",
        "\n",
        "\n",
        "**Syntax** <br>\n",
        "lambda arguments : expression <br>\n",
        "With a lambda expression, this function:\n"
      ],
      "metadata": {
        "id": "TVm7OsRYIZSZ"
      }
    },
    {
      "cell_type": "code",
      "source": [
        "def multiply(x, y):\n",
        "    return x * y"
      ],
      "metadata": {
        "id": "g9qHKRgaJCGd"
      },
      "execution_count": 4,
      "outputs": []
    },
    {
      "cell_type": "code",
      "source": [
        "multiply(5,6)"
      ],
      "metadata": {
        "colab": {
          "base_uri": "https://localhost:8080/"
        },
        "id": "V7phQNFPJiej",
        "outputId": "8cc12ba1-b4ea-4da0-dccc-61795da2919e"
      },
      "execution_count": 5,
      "outputs": [
        {
          "output_type": "execute_result",
          "data": {
            "text/plain": [
              "30"
            ]
          },
          "metadata": {},
          "execution_count": 5
        }
      ]
    },
    {
      "cell_type": "markdown",
      "source": [
        "can be reduced to:"
      ],
      "metadata": {
        "id": "g7MbJkhoJJpl"
      }
    },
    {
      "cell_type": "code",
      "source": [
        "multiply2 = lambda x, y: x * y"
      ],
      "metadata": {
        "id": "frJwzFxyJKbw"
      },
      "execution_count": 6,
      "outputs": []
    },
    {
      "cell_type": "code",
      "source": [
        "multiply2(5,6)"
      ],
      "metadata": {
        "colab": {
          "base_uri": "https://localhost:8080/"
        },
        "id": "IEylZ1u6JlCT",
        "outputId": "80266005-645a-4413-af98-19f19c84f768"
      },
      "execution_count": 7,
      "outputs": [
        {
          "output_type": "execute_result",
          "data": {
            "text/plain": [
              "30"
            ]
          },
          "metadata": {},
          "execution_count": 7
        }
      ]
    },
    {
      "cell_type": "markdown",
      "source": [
        " **Components of a Lambda**\n",
        "\n",
        "\n",
        "*   The lambda keyword is used to indicate that this is a lambda expression.\n",
        "*   Following lambda are one or more arguments for the anonymous function separated by commas, followed by a colon :. Similar to functions, the way the arguments are named in a lambda expression is arbitrary.\n",
        "*   Last is an expression that is evaluated and returned in this function. This is a lot like an expression you might see as a return statement in a function.\n",
        "\n",
        "\n",
        "\n",
        "\n"
      ],
      "metadata": {
        "id": "3e37fvInJv4A"
      }
    },
    {
      "cell_type": "markdown",
      "source": [
        "**Why Use Lambda Functions?**\n",
        "\n",
        "\n",
        "*   When you use them as an anonymous function inside another function\n",
        "\n",
        "\n"
      ],
      "metadata": {
        "id": "rh5eiZSHKEIS"
      }
    },
    {
      "cell_type": "code",
      "source": [
        "def myfunc(n):\n",
        "  return lambda a : a * n"
      ],
      "metadata": {
        "id": "M7xhTZ8AJvZp"
      },
      "execution_count": 8,
      "outputs": []
    },
    {
      "cell_type": "code",
      "source": [
        "mydoubler = myfunc(2)\n",
        "print (mydoubler(50))"
      ],
      "metadata": {
        "colab": {
          "base_uri": "https://localhost:8080/"
        },
        "id": "C0NzxJ1iK36-",
        "outputId": "d0343f46-cc97-43d1-f535-05884b724da6"
      },
      "execution_count": 11,
      "outputs": [
        {
          "output_type": "stream",
          "name": "stdout",
          "text": [
            "100\n"
          ]
        }
      ]
    },
    {
      "cell_type": "code",
      "source": [
        "def myfunn2(n):\n",
        "  return lambda a : a ** n"
      ],
      "metadata": {
        "id": "BLqGjcaXMrqG"
      },
      "execution_count": 16,
      "outputs": []
    },
    {
      "cell_type": "code",
      "source": [
        "myexponen = myfunn2(3)\n",
        "print (myexponen(2))"
      ],
      "metadata": {
        "colab": {
          "base_uri": "https://localhost:8080/"
        },
        "id": "gSl8B0xmJP4K",
        "outputId": "71a0de86-ca92-4804-d158-b67e3aa437a9"
      },
      "execution_count": 18,
      "outputs": [
        {
          "output_type": "stream",
          "name": "stdout",
          "text": [
            "8\n"
          ]
        }
      ]
    }
  ]
}