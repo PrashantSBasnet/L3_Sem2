{
  "nbformat": 4,
  "nbformat_minor": 0,
  "metadata": {
    "colab": {
      "provenance": [],
      "authorship_tag": "ABX9TyMl/iEL26RW53sS4p6dalH0",
      "include_colab_link": true
    },
    "kernelspec": {
      "name": "python3",
      "display_name": "Python 3"
    },
    "language_info": {
      "name": "python"
    }
  },
  "cells": [
    {
      "cell_type": "markdown",
      "metadata": {
        "id": "view-in-github",
        "colab_type": "text"
      },
      "source": [
        "<a href=\"https://colab.research.google.com/github/PrashantSBasnet/L3_Sem2/blob/master/Week3/Scripts%26Modules.ipynb\" target=\"_parent\"><img src=\"https://colab.research.google.com/assets/colab-badge.svg\" alt=\"Open In Colab\"/></a>"
      ]
    },
    {
      "cell_type": "markdown",
      "source": [
        "**Scripts**\n",
        "<br>\n",
        "Python script is a sequence of Python statements that can be executed in a sequential manner. These scripts are typically saved in files with a .py extension\n",
        "*  A script is generally a standalone program or a sequence of instructions that can be executed from start to finish.\n",
        "*   Scripts are typically used for automation tasks, small programs, or one-time operations.\n",
        "*  Scripts are meant to be executed directly from the command line or an interpreter.\n",
        "*   They often contain a series of statements and logic that are executed in a linear fashion.\n",
        "*   Scripts may include functions, classes, and other code structures, but they are not explicitly designed to be imported elsewhere.\n",
        "\n",
        "\n",
        "\n",
        "\n",
        "\n",
        "\n"
      ],
      "metadata": {
        "id": "nwkMId5oXXmR"
      }
    },
    {
      "cell_type": "markdown",
      "source": [
        "**Write a script of your own**\n",
        "Open up a brand new empty file in your text editor, name it and save it in the place where you're keeping the files for your Python learning. Put the following code into it."
      ],
      "metadata": {
        "id": "qCLZyTUSWhJx"
      }
    },
    {
      "cell_type": "code",
      "source": [
        "how_many_snakes = 1\n",
        "snake_string = \"\"\"\n",
        "Welcome to Python3!\n",
        "\n",
        "             ____\n",
        "            / . .\\\\\n",
        "            \\  ---<\n",
        "             \\  /\n",
        "   __________/ /\n",
        "-=:___________/\n",
        "\n",
        "<3, Juno\n",
        "\"\"\"\n",
        "\n",
        "print(snake_string * how_many_snakes)"
      ],
      "metadata": {
        "colab": {
          "base_uri": "https://localhost:8080/"
        },
        "id": "WZfVw7pDW4Nl",
        "outputId": "9beff809-b2d2-4970-f7c3-324db80185bc"
      },
      "execution_count": 4,
      "outputs": [
        {
          "output_type": "stream",
          "name": "stdout",
          "text": [
            "\n",
            "Welcome to Python3!\n",
            "\n",
            "             ____\n",
            "            / . .\\\n",
            "            \\  ---<\n",
            "             \\  /\n",
            "   __________/ /\n",
            "-=:___________/\n",
            "\n",
            "<3, Juno\n",
            "\n"
          ]
        }
      ]
    },
    {
      "cell_type": "markdown",
      "source": [
        "**Modules**<br>\n",
        "In Python, a module is a file containing Python definitions and statements. The file name is the module name with the suffix .py added. Modules allow you to organize your Python code into reusable units, making your code more modular and maintainable.\n",
        "\n",
        "\n",
        "*  A module is a file containing Python definitions and statements that can be imported and reused in other Python scripts or modules\n",
        "*  Modules are used to organize code into separate units to promote code reuse and maintainability.\n",
        "*  Modules are imported using the import statement, and their functions, classes, or variables can be used in other scripts or modules.\n",
        "*  Module files also have a .py extension.Examples: mymodule.py, utilities_module.py\n",
        "*  Modules are explicitly designed to be imported, so they often contain functions, classes, or variables that are intended to be reused by other parts of the codebase.\n",
        "*  Modules may include an if __name__ == \"__main__\": block to provide executable code when the module is run directly, similar to a script.This allows a module to be used both as an imported module and as a standalone script.\n",
        "\n",
        "\n",
        "\n",
        "\n",
        "\n"
      ],
      "metadata": {
        "id": "Mlxiny8kXh39"
      }
    },
    {
      "cell_type": "markdown",
      "source": [
        "**Creating a Module:**<br>\n",
        "*   Create a new Python file with a .py extension.\n",
        "*   Define functions, variables, and classes within the file.\n",
        " <br> <br>\n",
        "\n",
        "**mymodule.py**<br>\n",
        "def greet(name): <br>\n",
        "    return f\"Hello, {name}!\" <br>\n",
        "\n",
        "def add_numbers(a, b): <br>\n",
        "    return a + b <br>\n",
        "\n"
      ],
      "metadata": {
        "id": "PrBNVv6hXkRL"
      }
    },
    {
      "cell_type": "markdown",
      "source": [
        "**Using a Module:**<br>You can use the import statement to bring functionality from a module into another script or module<br>\n",
        "<br>\n",
        "**main_script.py** <br>\n",
        "**import mymodule** <br>\n",
        "result = mymodule.greet(\"Alice\") <br>\n",
        "print(result)<br><br>\n",
        "<hr>\n",
        "\n",
        "**from mymodule import greet**\n",
        "\n",
        "result = greet(\"Bob\")<br>\n",
        "print(result)\n",
        "\n",
        "<hr>\n",
        "\n",
        "\n"
      ],
      "metadata": {
        "id": "aL-2J8t1YH2h"
      }
    },
    {
      "cell_type": "markdown",
      "source": [
        "**Built in modules**<br>\n",
        "Python comes with a variety of built-in modules that provide additional functionality. Examples include math, random, os, and datetime\n"
      ],
      "metadata": {
        "id": "ZLhkJuZegx_n"
      }
    },
    {
      "cell_type": "code",
      "source": [
        "import math\n",
        "\n",
        "result = math.sqrt(25)\n",
        "print(result)\n"
      ],
      "metadata": {
        "colab": {
          "base_uri": "https://localhost:8080/"
        },
        "id": "gC5Zwz_3g8BB",
        "outputId": "19398c92-0132-4095-83b2-3e888095c28f"
      },
      "execution_count": 7,
      "outputs": [
        {
          "output_type": "stream",
          "name": "stdout",
          "text": [
            "5.0\n"
          ]
        }
      ]
    }
  ]
}