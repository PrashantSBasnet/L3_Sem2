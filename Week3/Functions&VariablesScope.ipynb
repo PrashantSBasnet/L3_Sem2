{
  "nbformat": 4,
  "nbformat_minor": 0,
  "metadata": {
    "colab": {
      "provenance": [],
      "authorship_tag": "ABX9TyOgueVJol5a4c/Io/F90c6w",
      "include_colab_link": true
    },
    "kernelspec": {
      "name": "python3",
      "display_name": "Python 3"
    },
    "language_info": {
      "name": "python"
    }
  },
  "cells": [
    {
      "cell_type": "markdown",
      "metadata": {
        "id": "view-in-github",
        "colab_type": "text"
      },
      "source": [
        "<a href=\"https://colab.research.google.com/github/PrashantSBasnet/L3_Sem2/blob/master/Week3/Functions%26VariablesScope.ipynb\" target=\"_parent\"><img src=\"https://colab.research.google.com/assets/colab-badge.svg\" alt=\"Open In Colab\"/></a>"
      ]
    },
    {
      "cell_type": "markdown",
      "source": [
        "**Functions**\n",
        "\n",
        "\n",
        "*   Defining Function\n",
        "*   Variable Scope\n",
        "*   Scripts vs Modules\n",
        "*   Lambda Expressions\n",
        "\n",
        "\n",
        "\n"
      ],
      "metadata": {
        "id": "PBfuOKmfaj9h"
      }
    },
    {
      "cell_type": "markdown",
      "source": [
        "You can think about functions as a way to take what you have already learned how to do, and put it in a holder that allows you to use it over and over again in an easy to use container."
      ],
      "metadata": {
        "id": "7dJ7foilbFqM"
      }
    },
    {
      "cell_type": "markdown",
      "source": [
        "**Defining Functions**\n",
        "\n",
        "\n",
        "* A function is a block of code which only runs when it is called.\n",
        "* You can pass data, known as parameters, into a function.\n",
        "* A function can return data as a result.\n",
        "\n",
        "\n",
        "\n",
        "\n",
        "\n",
        "\n",
        "\n"
      ],
      "metadata": {
        "id": "UZ56iPKebRDc"
      }
    },
    {
      "cell_type": "markdown",
      "source": [
        "**Creating a Function**\n",
        "<br>\n",
        "A function is defined using the def keyword\n",
        "\n",
        "\n"
      ],
      "metadata": {
        "id": "wVvNIykdbpa6"
      }
    },
    {
      "cell_type": "code",
      "source": [
        "def my_function():\n",
        "  print(\"Hello from a function\")"
      ],
      "metadata": {
        "id": "FSOMaZT2b24v"
      },
      "execution_count": 14,
      "outputs": []
    },
    {
      "cell_type": "markdown",
      "source": [
        "**Calling a function**"
      ],
      "metadata": {
        "id": "FXn3r8SCb-PI"
      }
    },
    {
      "cell_type": "code",
      "source": [
        "my_function()"
      ],
      "metadata": {
        "colab": {
          "base_uri": "https://localhost:8080/"
        },
        "id": "Q_Bibz08b7Pv",
        "outputId": "d63e5522-fe6c-4cd6-e47f-73d25a28f483"
      },
      "execution_count": 15,
      "outputs": [
        {
          "output_type": "stream",
          "name": "stdout",
          "text": [
            "Hello from a function\n"
          ]
        }
      ]
    },
    {
      "cell_type": "markdown",
      "source": [
        "**Arguments**\n",
        "\n",
        "\n",
        "*  Information can be passed into functions as arguments.\n",
        "*  Arguments are specified after the function name, inside the parentheses. You can add as many arguments as you want, just separate them with a comma.\n",
        "\n",
        "\n",
        "\n"
      ],
      "metadata": {
        "id": "yqcK02elcBkk"
      }
    },
    {
      "cell_type": "code",
      "source": [
        "def give_name(name):\n",
        "  return name"
      ],
      "metadata": {
        "id": "P54kwDjiozGY"
      },
      "execution_count": 16,
      "outputs": []
    },
    {
      "cell_type": "code",
      "source": [
        "give_name(\"Kanchana Pasachhe\")"
      ],
      "metadata": {
        "colab": {
          "base_uri": "https://localhost:8080/",
          "height": 36
        },
        "id": "GUj8dzgxo4ZW",
        "outputId": "70bb09e4-935e-48ba-8d26-27d91ffbda92"
      },
      "execution_count": 17,
      "outputs": [
        {
          "output_type": "execute_result",
          "data": {
            "text/plain": [
              "'Kanchana Pasachhe'"
            ],
            "application/vnd.google.colaboratory.intrinsic+json": {
              "type": "string"
            }
          },
          "metadata": {},
          "execution_count": 17
        }
      ]
    },
    {
      "cell_type": "code",
      "source": [
        "def print_something():\n",
        "  print (\"Hello World\")"
      ],
      "metadata": {
        "id": "1BkmymdkqZxc"
      },
      "execution_count": 18,
      "outputs": []
    },
    {
      "cell_type": "code",
      "source": [
        "print_something()"
      ],
      "metadata": {
        "colab": {
          "base_uri": "https://localhost:8080/"
        },
        "id": "7SiMU0ADqfNh",
        "outputId": "5d57d6a5-5e66-4219-d40c-0b85f938458e"
      },
      "execution_count": 19,
      "outputs": [
        {
          "output_type": "stream",
          "name": "stdout",
          "text": [
            "Hello World\n"
          ]
        }
      ]
    },
    {
      "cell_type": "markdown",
      "source": [
        "**Print vs. Return in Functions**\n",
        "Here are two valid functions. One returns a value and one simply prints a value, without returning anything. Test run this code and experiment to understand the difference.\n",
        "\n"
      ],
      "metadata": {
        "id": "d8Occvmuq5J-"
      }
    },
    {
      "cell_type": "code",
      "source": [
        "# this prints something, but does not return anything\n",
        "def show_plus_ten(num):\n",
        "    print(num + 10)\n",
        "\n",
        "# this returns something\n",
        "def add_ten(num):\n",
        "    return(num + 10)\n",
        "\n",
        "print('Calling show_plus_ten...')\n",
        "return_value_1 = show_plus_ten(5)\n",
        "print('Done calling')\n",
        "print('This function returned: {}'.format(return_value_1))\n",
        "\n",
        "print('\\nCalling add_ten...')\n",
        "return_value_2 = add_ten(5)\n",
        "print('Done calling')\n",
        "print('This function returned: {}'.format(return_value_2))"
      ],
      "metadata": {
        "colab": {
          "base_uri": "https://localhost:8080/"
        },
        "id": "_pGUqHJhqzXz",
        "outputId": "0531f5c0-fe01-435a-bd40-902c19d698ba"
      },
      "execution_count": 20,
      "outputs": [
        {
          "output_type": "stream",
          "name": "stdout",
          "text": [
            "Calling show_plus_ten...\n",
            "15\n",
            "Done calling\n",
            "This function returned: None\n",
            "\n",
            "Calling add_ten...\n",
            "Done calling\n",
            "This function returned: 15\n"
          ]
        }
      ]
    },
    {
      "cell_type": "markdown",
      "source": [
        "**Default Arguments**\n",
        "We can add default arguments in a function to have default values for parameters that are unspecified in a function call."
      ],
      "metadata": {
        "id": "KUwbCcB0rKxl"
      }
    },
    {
      "cell_type": "code",
      "source": [
        "def cylinder_volume(height, radius=5):\n",
        "    pi = 3.14159\n",
        "    return height * pi * radius ** 2"
      ],
      "metadata": {
        "id": "1DVVzWhzrOOn"
      },
      "execution_count": 21,
      "outputs": []
    },
    {
      "cell_type": "markdown",
      "source": [
        "In the example above, radius is set to 5 if that parameter is omitted in a function call. If we call cylinder_volume(10), the function will use 10 as the height and 5 as the radius. However, if we call cylinder_volume(10, 7) the 7 will simply overwrite the default value of 5.\n",
        "\n",
        "Also notice here we are passing values to our arguments by position. It is possible to pass values in two ways - by position and by name. Each of these function calls are evaluated the same way."
      ],
      "metadata": {
        "id": "GNTrLMryrScJ"
      }
    },
    {
      "cell_type": "code",
      "source": [
        "cylinder_volume(10, 7)  # pass in arguments by position"
      ],
      "metadata": {
        "colab": {
          "base_uri": "https://localhost:8080/"
        },
        "id": "A9eDEOsCrR4u",
        "outputId": "dfd5eec4-e165-492b-fe1a-1db1377f6a55"
      },
      "execution_count": 22,
      "outputs": [
        {
          "output_type": "execute_result",
          "data": {
            "text/plain": [
              "1539.3791"
            ]
          },
          "metadata": {},
          "execution_count": 22
        }
      ]
    },
    {
      "cell_type": "code",
      "source": [
        "cylinder_volume(radius=5, height=10)"
      ],
      "metadata": {
        "colab": {
          "base_uri": "https://localhost:8080/"
        },
        "id": "HcyYcaT2sGUE",
        "outputId": "98b35ffe-f227-4a75-9ecd-afa7851dae44"
      },
      "execution_count": 23,
      "outputs": [
        {
          "output_type": "execute_result",
          "data": {
            "text/plain": [
              "785.3975"
            ]
          },
          "metadata": {},
          "execution_count": 23
        }
      ]
    },
    {
      "cell_type": "code",
      "source": [
        "cylinder_volume(10) #in this case the default radius=5 will be used"
      ],
      "metadata": {
        "colab": {
          "base_uri": "https://localhost:8080/"
        },
        "id": "aFBGJ-flslpM",
        "outputId": "df58b6e3-20f6-4cf8-bab4-086bec4ef7e5"
      },
      "execution_count": 24,
      "outputs": [
        {
          "output_type": "execute_result",
          "data": {
            "text/plain": [
              "785.3975"
            ]
          },
          "metadata": {},
          "execution_count": 24
        }
      ]
    },
    {
      "cell_type": "code",
      "source": [
        "def square_area(length):\n",
        "    area = length **2\n",
        "    return area"
      ],
      "metadata": {
        "id": "PvTAGsBmcS9-"
      },
      "execution_count": 25,
      "outputs": []
    },
    {
      "cell_type": "code",
      "source": [
        "square_area(43)"
      ],
      "metadata": {
        "colab": {
          "base_uri": "https://localhost:8080/"
        },
        "id": "zys6aNm6ccOc",
        "outputId": "416c86a4-0f0b-4210-a2f6-2e36ae46e087"
      },
      "execution_count": 26,
      "outputs": [
        {
          "output_type": "execute_result",
          "data": {
            "text/plain": [
              "1849"
            ]
          },
          "metadata": {},
          "execution_count": 26
        }
      ]
    },
    {
      "cell_type": "code",
      "source": [
        "def cylinder_volume(height, radius):\n",
        "    pi = 3.14159\n",
        "    return height * pi * radius ** 2"
      ],
      "metadata": {
        "id": "lrCtkfe9cPWm"
      },
      "execution_count": 27,
      "outputs": []
    },
    {
      "cell_type": "code",
      "source": [
        "cylinder_volume(10, 3)"
      ],
      "metadata": {
        "colab": {
          "base_uri": "https://localhost:8080/"
        },
        "id": "4FBbkN0YcLdd",
        "outputId": "3795e085-4c56-4553-9d52-004afca52d59"
      },
      "execution_count": 28,
      "outputs": [
        {
          "output_type": "execute_result",
          "data": {
            "text/plain": [
              "282.7431"
            ]
          },
          "metadata": {},
          "execution_count": 28
        }
      ]
    },
    {
      "cell_type": "markdown",
      "source": [
        "\n",
        "**Function Header**\n",
        "Let's start with the function header, which is the first line of a function definition.\n",
        "\n",
        "\n",
        "1.   The function header always starts with the def keyword, which indicates that this is a function definition.\n",
        "2.   Then comes the function name (here, cylinder_volume), which follows the same naming conventions as variables. You can revisit the naming conventions below.\n",
        "3. Immediately after the name are parentheses that may include arguments separated by commas (here, height and radius). Arguments, or parameters, are values that are passed in as inputs when the function is called, and are used in the function body. If a function doesn't take arguments, these parentheses are left empty.\n",
        "4. The header always end with a colon :\n",
        "\n",
        "**Function Body**\n",
        "The rest of the function is contained in the body, which is where the function does its work.\n",
        "1. The body of a function is the code indented after the header line. Here, it's the two lines that define pi and return the volume.\n",
        "2. Within this body, we can refer to the argument variables and define new variables, which can only be used within these indented lines.\n",
        "3. The body will often include a return statement, which is used to send back an output value from the function to the statement that called the function. A return statement consists of the return keyword followed by an expression that is evaluated to get the output value for the function. If there is no return statement, the function simply returns None.\n",
        "\n",
        "Naming Conventions for Functions\n",
        "Function names follow the same naming conventions as variables.\n",
        "1. Only use ordinary letters, numbers and underscores in your function names. They can’t have spaces, and need to start with a letter or underscore.\n",
        "2. You can’t use reserved words or built-in identifiers that have important purposes in Python, which you’ll learn about throughout this course.\n",
        "3. Try to use descriptive names that can help readers understand what the function does.\n",
        "\n"
      ],
      "metadata": {
        "id": "dHvbwFAdpke1"
      }
    },
    {
      "cell_type": "markdown",
      "source": [
        "**Variables Scope**\n",
        "<br>\n",
        "Variable scope refers to which parts of a program a variable can be referenced, or used, from.\n",
        "\n",
        "It's important to consider scope when using variables in functions. If a variable is created inside a function, it can only be used within that function. Accessing it outside that function is not possible.<br>\n",
        "\n"
      ],
      "metadata": {
        "id": "HFJXju_Wsywd"
      }
    },
    {
      "cell_type": "code",
      "source": [
        "def some_function():\n",
        "    word = \"hello\""
      ],
      "metadata": {
        "id": "-d9FbEh8t0_7"
      },
      "execution_count": 29,
      "outputs": []
    },
    {
      "cell_type": "code",
      "source": [
        "##This will result in an error because we are trying to access the variable outside the function where it is defined\n",
        "print(word)"
      ],
      "metadata": {
        "colab": {
          "base_uri": "https://localhost:8080/",
          "height": 200
        },
        "id": "4gFXsOvyu-bv",
        "outputId": "bf5ad7ae-16f1-4b38-9938-660ccc845fd5"
      },
      "execution_count": 30,
      "outputs": [
        {
          "output_type": "error",
          "ename": "NameError",
          "evalue": "name 'word' is not defined",
          "traceback": [
            "\u001b[0;31m---------------------------------------------------------------------------\u001b[0m",
            "\u001b[0;31mNameError\u001b[0m                                 Traceback (most recent call last)",
            "\u001b[0;32m<ipython-input-30-2cb4362fd194>\u001b[0m in \u001b[0;36m<cell line: 2>\u001b[0;34m()\u001b[0m\n\u001b[1;32m      1\u001b[0m \u001b[0;31m##This will result in an error because we are trying to access the variable outside the function where it is defined\u001b[0m\u001b[0;34m\u001b[0m\u001b[0;34m\u001b[0m\u001b[0m\n\u001b[0;32m----> 2\u001b[0;31m \u001b[0mprint\u001b[0m\u001b[0;34m(\u001b[0m\u001b[0mword\u001b[0m\u001b[0;34m)\u001b[0m\u001b[0;34m\u001b[0m\u001b[0;34m\u001b[0m\u001b[0m\n\u001b[0m",
            "\u001b[0;31mNameError\u001b[0m: name 'word' is not defined"
          ]
        }
      ]
    },
    {
      "cell_type": "markdown",
      "source": [
        "In the example above and the example below, word is said to have scope that is only local to each function. This means you can use the same name for different variables that are used in different functions."
      ],
      "metadata": {
        "id": "MlLtcMbEt4G1"
      }
    },
    {
      "cell_type": "code",
      "source": [
        "# This works fine\n",
        "def some_function():\n",
        "    word = \"hello\"\n",
        "\n",
        "def another_function():\n",
        "    word = \"goodbye\""
      ],
      "metadata": {
        "id": "lBRc28Sst3Po"
      },
      "execution_count": 31,
      "outputs": []
    },
    {
      "cell_type": "markdown",
      "source": [
        "Notice that we can still access the value of the global variable word within this function. However, the value of a global variable can not be modified inside the function. If you want to modify that variable's value inside this function, it should be passed in as an argument.<br>\n",
        "Scope is essential to understanding how information is passed throughout programs in Python and really any programming language.<br><br>\n",
        "\n",
        "**More on Variable Scope**\n",
        "When you program, you'll often find that similar ideas come up again and again. You'll use variables for things like counting, iterating and accumulating values to return. In order to write readable code, you'll find yourself wanting to use similar names for similar ideas. As soon as you put multiple piece of code together (for instance, multiple functions or function calls in a single script) you might find that you want to use the same name for two separate concepts.<br>\n",
        "Fortunately, you don't need to come up with new names endlessly. Reusing names for objects is OK as long as you keep them in separate scope.\n",
        "<br>\n",
        "\n",
        "**Good practice** It is best to define variables in the smallest scope they will be needed in. While functions can refer to variables defined in a larger scope, this is very rarely a good idea since you may not know what variables you have defined if your program has a lot of variables.\n",
        "\n"
      ],
      "metadata": {
        "id": "qSKZkW-_uCEm"
      }
    },
    {
      "cell_type": "code",
      "source": [
        "egg_count = 0\n",
        "\n",
        "def buy_eggs():\n",
        "    egg_count += 12 # purchase a dozen eggs"
      ],
      "metadata": {
        "id": "dKd17Y9Gt9gm"
      },
      "execution_count": 32,
      "outputs": []
    },
    {
      "cell_type": "code",
      "source": [
        "buy_eggs()"
      ],
      "metadata": {
        "colab": {
          "base_uri": "https://localhost:8080/",
          "height": 273
        },
        "id": "3kTPxz4_uYKG",
        "outputId": "f80622fe-8412-445d-f094-08ef2c0175ad"
      },
      "execution_count": 33,
      "outputs": [
        {
          "output_type": "error",
          "ename": "UnboundLocalError",
          "evalue": "local variable 'egg_count' referenced before assignment",
          "traceback": [
            "\u001b[0;31m---------------------------------------------------------------------------\u001b[0m",
            "\u001b[0;31mUnboundLocalError\u001b[0m                         Traceback (most recent call last)",
            "\u001b[0;32m<ipython-input-33-36c748e1ed52>\u001b[0m in \u001b[0;36m<cell line: 1>\u001b[0;34m()\u001b[0m\n\u001b[0;32m----> 1\u001b[0;31m \u001b[0mbuy_eggs\u001b[0m\u001b[0;34m(\u001b[0m\u001b[0;34m)\u001b[0m\u001b[0;34m\u001b[0m\u001b[0;34m\u001b[0m\u001b[0m\n\u001b[0m",
            "\u001b[0;32m<ipython-input-32-8e375cfc99c6>\u001b[0m in \u001b[0;36mbuy_eggs\u001b[0;34m()\u001b[0m\n\u001b[1;32m      2\u001b[0m \u001b[0;34m\u001b[0m\u001b[0m\n\u001b[1;32m      3\u001b[0m \u001b[0;32mdef\u001b[0m \u001b[0mbuy_eggs\u001b[0m\u001b[0;34m(\u001b[0m\u001b[0;34m)\u001b[0m\u001b[0;34m:\u001b[0m\u001b[0;34m\u001b[0m\u001b[0;34m\u001b[0m\u001b[0m\n\u001b[0;32m----> 4\u001b[0;31m     \u001b[0megg_count\u001b[0m \u001b[0;34m+=\u001b[0m \u001b[0;36m12\u001b[0m \u001b[0;31m# purchase a dozen eggs\u001b[0m\u001b[0;34m\u001b[0m\u001b[0;34m\u001b[0m\u001b[0m\n\u001b[0m",
            "\u001b[0;31mUnboundLocalError\u001b[0m: local variable 'egg_count' referenced before assignment"
          ]
        }
      ]
    },
    {
      "cell_type": "markdown",
      "source": [
        "This causes an UnboundLocalError, since Python doesn't allow functions to modify variables that are outside the function's scope. A better way would be to pass the variable as an argument and reassign it outside the function. <br>\n",
        "A better way to write this would be:"
      ],
      "metadata": {
        "id": "orIsGoldui5n"
      }
    },
    {
      "cell_type": "code",
      "source": [
        "egg_count = 0\n",
        "\n",
        "def buy_eggs(count):\n",
        "    return count + 12  # purchase a dozen eggs"
      ],
      "metadata": {
        "id": "VlxPDubLuoxZ"
      },
      "execution_count": 34,
      "outputs": []
    },
    {
      "cell_type": "code",
      "source": [
        "buy_eggs(12)"
      ],
      "metadata": {
        "colab": {
          "base_uri": "https://localhost:8080/"
        },
        "id": "qYrPFK-6ukBx",
        "outputId": "8b4f5cf9-fe2b-42da-a8e8-427c8aa64612"
      },
      "execution_count": 35,
      "outputs": [
        {
          "output_type": "execute_result",
          "data": {
            "text/plain": [
              "24"
            ]
          },
          "metadata": {},
          "execution_count": 35
        }
      ]
    },
    {
      "cell_type": "code",
      "source": [
        "str1 = 'Functions are important programming concepts.'\n",
        "\n",
        "def print_fn():\n",
        "    str1 = 'Variable scope is an important concept.'\n",
        "    print(str1)"
      ],
      "metadata": {
        "id": "Evf1K3pBwEvn"
      },
      "execution_count": 36,
      "outputs": []
    },
    {
      "cell_type": "code",
      "source": [
        "print_fn()"
      ],
      "metadata": {
        "colab": {
          "base_uri": "https://localhost:8080/"
        },
        "id": "W87nYS1NwX7f",
        "outputId": "c6e45275-aa92-4abb-f621-dd29547fc76f"
      },
      "execution_count": 37,
      "outputs": [
        {
          "output_type": "stream",
          "name": "stdout",
          "text": [
            "Variable scope is an important concept.\n"
          ]
        }
      ]
    },
    {
      "cell_type": "code",
      "source": [
        "str1 = 'Functions are important programming concepts.'\n",
        "\n",
        "def print_fn():\n",
        "    str1 = 'Variable scope is an important concept.'\n",
        "    print(str1)"
      ],
      "metadata": {
        "id": "CKXuMd6vwccf"
      },
      "execution_count": 38,
      "outputs": []
    },
    {
      "cell_type": "code",
      "source": [
        "print_fn()"
      ],
      "metadata": {
        "colab": {
          "base_uri": "https://localhost:8080/"
        },
        "id": "Z8WgfA6RwdI7",
        "outputId": "60ca47bd-f2da-43f4-99da-bc5a91fbac9c"
      },
      "execution_count": 39,
      "outputs": [
        {
          "output_type": "stream",
          "name": "stdout",
          "text": [
            "Variable scope is an important concept.\n"
          ]
        }
      ]
    },
    {
      "cell_type": "code",
      "source": [
        "str1 = 'Functions are important programming concepts.'\n",
        "\n",
        "def print_fn():\n",
        "    #str1 = 'Variable scope is an important concept.'\n",
        "    print(str1)"
      ],
      "metadata": {
        "id": "RV-qOxuWwlq9"
      },
      "execution_count": 40,
      "outputs": []
    },
    {
      "cell_type": "code",
      "source": [
        "print_fn()"
      ],
      "metadata": {
        "colab": {
          "base_uri": "https://localhost:8080/"
        },
        "id": "4zv86odKwqFh",
        "outputId": "802e5f46-221f-4414-b051-56693dbe7595"
      },
      "execution_count": 41,
      "outputs": [
        {
          "output_type": "stream",
          "name": "stdout",
          "text": [
            "Functions are important programming concepts.\n"
          ]
        }
      ]
    },
    {
      "cell_type": "code",
      "source": [
        "def print_fn():\n",
        "    str1 = 'Variable scope is an important concept.'\n",
        "    print(str1)"
      ],
      "metadata": {
        "id": "SSikz68lwuSo"
      },
      "execution_count": 42,
      "outputs": []
    },
    {
      "cell_type": "code",
      "source": [
        "print_fn(str1)\n"
      ],
      "metadata": {
        "colab": {
          "base_uri": "https://localhost:8080/",
          "height": 181
        },
        "id": "DgVQumWJwva6",
        "outputId": "63dbd068-55f6-42ea-aaf0-33fd1f15cd8e"
      },
      "execution_count": 43,
      "outputs": [
        {
          "output_type": "error",
          "ename": "TypeError",
          "evalue": "print_fn() takes 0 positional arguments but 1 was given",
          "traceback": [
            "\u001b[0;31m---------------------------------------------------------------------------\u001b[0m",
            "\u001b[0;31mTypeError\u001b[0m                                 Traceback (most recent call last)",
            "\u001b[0;32m<ipython-input-43-e28fac64679b>\u001b[0m in \u001b[0;36m<cell line: 1>\u001b[0;34m()\u001b[0m\n\u001b[0;32m----> 1\u001b[0;31m \u001b[0mprint_fn\u001b[0m\u001b[0;34m(\u001b[0m\u001b[0mstr1\u001b[0m\u001b[0;34m)\u001b[0m\u001b[0;34m\u001b[0m\u001b[0;34m\u001b[0m\u001b[0m\n\u001b[0m",
            "\u001b[0;31mTypeError\u001b[0m: print_fn() takes 0 positional arguments but 1 was given"
          ]
        }
      ]
    },
    {
      "cell_type": "code",
      "source": [
        "str1 = 'Functions are important programming concepts.'\n",
        "\n",
        "def print_fn():\n",
        "    print(str1)\n"
      ],
      "metadata": {
        "id": "Q7OG07Tywz5p"
      },
      "execution_count": 44,
      "outputs": []
    },
    {
      "cell_type": "code",
      "source": [
        "print_fn(str1)\n"
      ],
      "metadata": {
        "colab": {
          "base_uri": "https://localhost:8080/",
          "height": 181
        },
        "id": "owWcXHhYw2Nv",
        "outputId": "32d94ae0-5cf1-4fd9-ac90-2db6707b9d1e"
      },
      "execution_count": 45,
      "outputs": [
        {
          "output_type": "error",
          "ename": "TypeError",
          "evalue": "print_fn() takes 0 positional arguments but 1 was given",
          "traceback": [
            "\u001b[0;31m---------------------------------------------------------------------------\u001b[0m",
            "\u001b[0;31mTypeError\u001b[0m                                 Traceback (most recent call last)",
            "\u001b[0;32m<ipython-input-45-e28fac64679b>\u001b[0m in \u001b[0;36m<cell line: 1>\u001b[0;34m()\u001b[0m\n\u001b[0;32m----> 1\u001b[0;31m \u001b[0mprint_fn\u001b[0m\u001b[0;34m(\u001b[0m\u001b[0mstr1\u001b[0m\u001b[0;34m)\u001b[0m\u001b[0;34m\u001b[0m\u001b[0;34m\u001b[0m\u001b[0m\n\u001b[0m",
            "\u001b[0;31mTypeError\u001b[0m: print_fn() takes 0 positional arguments but 1 was given"
          ]
        }
      ]
    },
    {
      "cell_type": "markdown",
      "source": [
        "**Global Scope**<br>\n",
        "\n",
        "\n",
        "*   A variable declared outside of any function or class has a global scope.\n",
        "*   It can be accessed from any part of the code, both inside and outside functions or classes.\n",
        "\n"
      ],
      "metadata": {
        "id": "Il6CIYhHyHLg"
      }
    },
    {
      "cell_type": "code",
      "source": [
        "global_variable = 10\n",
        "\n",
        "def my_function():\n",
        "    print(global_variable)\n",
        "\n",
        "my_function()  # Output: 10"
      ],
      "metadata": {
        "colab": {
          "base_uri": "https://localhost:8080/"
        },
        "id": "CFvwJyB9yT40",
        "outputId": "56c1ef41-ce45-4268-83bb-048cfcfde28b"
      },
      "execution_count": 46,
      "outputs": [
        {
          "output_type": "stream",
          "name": "stdout",
          "text": [
            "10\n"
          ]
        }
      ]
    },
    {
      "cell_type": "code",
      "source": [
        "print (global_variable) #global variables are accessible anywhere"
      ],
      "metadata": {
        "id": "gyum8d9ADMp4",
        "outputId": "3b868a61-1fac-4164-9d70-a463ea83aead",
        "colab": {
          "base_uri": "https://localhost:8080/"
        }
      },
      "execution_count": 47,
      "outputs": [
        {
          "output_type": "stream",
          "name": "stdout",
          "text": [
            "10\n"
          ]
        }
      ]
    },
    {
      "cell_type": "markdown",
      "source": [
        "**Local Scope** <br>\n",
        "\n",
        "\n",
        "*   A variable declared within a function or a block of code has local scope.\n",
        "*   It can only be accessed within that specific function or block.\n",
        "\n",
        "\n"
      ],
      "metadata": {
        "id": "JmWshopDyYn6"
      }
    },
    {
      "cell_type": "code",
      "source": [
        "def greet():\n",
        "  #local variable\n",
        "  message = \"Hello\""
      ],
      "metadata": {
        "id": "NhdFl-TZyj1p"
      },
      "execution_count": 48,
      "outputs": []
    },
    {
      "cell_type": "code",
      "source": [
        "greet() #calling the function"
      ],
      "metadata": {
        "id": "lhhTpGaMCm6p"
      },
      "execution_count": 49,
      "outputs": []
    },
    {
      "cell_type": "code",
      "source": [
        "print (message) #this will give error because local variable cannot be accessed from outside the function"
      ],
      "metadata": {
        "id": "LmwnAanKCqfP",
        "outputId": "2b56db31-ea57-480d-c699-5b16b7b5de6c",
        "colab": {
          "base_uri": "https://localhost:8080/",
          "height": 181
        }
      },
      "execution_count": 50,
      "outputs": [
        {
          "output_type": "error",
          "ename": "NameError",
          "evalue": "name 'message' is not defined",
          "traceback": [
            "\u001b[0;31m---------------------------------------------------------------------------\u001b[0m",
            "\u001b[0;31mNameError\u001b[0m                                 Traceback (most recent call last)",
            "\u001b[0;32m<ipython-input-50-76b22c669027>\u001b[0m in \u001b[0;36m<cell line: 1>\u001b[0;34m()\u001b[0m\n\u001b[0;32m----> 1\u001b[0;31m \u001b[0mprint\u001b[0m \u001b[0;34m(\u001b[0m\u001b[0mmessage\u001b[0m\u001b[0;34m)\u001b[0m \u001b[0;31m#this will give error because local variable cannot be accessed from outside the function\u001b[0m\u001b[0;34m\u001b[0m\u001b[0;34m\u001b[0m\u001b[0m\n\u001b[0m",
            "\u001b[0;31mNameError\u001b[0m: name 'message' is not defined"
          ]
        }
      ]
    },
    {
      "cell_type": "markdown",
      "source": [
        "Here, the message variable is local to the greet() function, so it can only be accessed within the function.That's why we get an error when we try to access it outside the greet() function."
      ],
      "metadata": {
        "id": "WPDV9Z735DVp"
      }
    },
    {
      "cell_type": "markdown",
      "source": [
        "**Function Inside Function** <br>\n",
        "As explained in the example above, the variable x is not available outside the function, but it is available for any function inside the function: <br>\n",
        "The local variable can be accessed from a function within the function:"
      ],
      "metadata": {
        "id": "cUrPzg4PC2vX"
      }
    },
    {
      "cell_type": "code",
      "source": [
        "def myfunc():\n",
        "  x = 300\n",
        "  def myinnerfunc():\n",
        "    print(x) #local variable is accessible to inner function\n",
        "  myinnerfunc()\n",
        "\n",
        "myfunc()"
      ],
      "metadata": {
        "id": "psvPH7ByDEZR",
        "outputId": "f5edcb95-1a79-441a-8050-136830ffd52d",
        "colab": {
          "base_uri": "https://localhost:8080/"
        }
      },
      "execution_count": 51,
      "outputs": [
        {
          "output_type": "stream",
          "name": "stdout",
          "text": [
            "300\n"
          ]
        }
      ]
    },
    {
      "cell_type": "markdown",
      "source": [
        "**Global Keyword** <br>\n",
        "If you need to create a global variable, but are stuck in the local scope, you can use the global keyword.\n",
        "\n",
        "The global keyword makes the variable global."
      ],
      "metadata": {
        "id": "xtt2ZVPYDuLl"
      }
    },
    {
      "cell_type": "code",
      "source": [
        "def myfunc():\n",
        "  global x\n",
        "  x = 300\n",
        "\n",
        "myfunc()\n",
        "\n",
        "print(x)"
      ],
      "metadata": {
        "id": "onbkxSo45Cwd",
        "outputId": "0b2e6089-48e4-4a04-be42-34e072b92d06",
        "colab": {
          "base_uri": "https://localhost:8080/"
        }
      },
      "execution_count": 52,
      "outputs": [
        {
          "output_type": "stream",
          "name": "stdout",
          "text": [
            "300\n"
          ]
        }
      ]
    },
    {
      "cell_type": "markdown",
      "source": [
        "To change the value of a global variable inside a function, refer to the variable by using the global keyword:\n",
        "\n"
      ],
      "metadata": {
        "id": "JvyZURh5D8dR"
      }
    },
    {
      "cell_type": "code",
      "source": [
        "x = 300\n",
        "\n",
        "def myfunc():\n",
        "  global x\n",
        "  x=200\n",
        "\n",
        "myfunc()\n",
        "\n",
        "print(x)"
      ],
      "metadata": {
        "id": "ARzyl4AayWhX",
        "outputId": "e67a05cc-7adc-4682-f50b-ec4bf70a4c73",
        "colab": {
          "base_uri": "https://localhost:8080/"
        }
      },
      "execution_count": 53,
      "outputs": [
        {
          "output_type": "stream",
          "name": "stdout",
          "text": [
            "200\n"
          ]
        }
      ]
    }
  ]
}