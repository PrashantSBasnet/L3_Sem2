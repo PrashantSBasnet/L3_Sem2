{
  "nbformat": 4,
  "nbformat_minor": 0,
  "metadata": {
    "colab": {
      "provenance": [],
      "authorship_tag": "ABX9TyOWN4grnUZYoh8c3ixwqQYS",
      "include_colab_link": true
    },
    "kernelspec": {
      "name": "python3",
      "display_name": "Python 3"
    },
    "language_info": {
      "name": "python"
    }
  },
  "cells": [
    {
      "cell_type": "markdown",
      "metadata": {
        "id": "view-in-github",
        "colab_type": "text"
      },
      "source": [
        "<a href=\"https://colab.research.google.com/github/PrashantSBasnet/L3_Sem2/blob/master/Week6/Inheritance.ipynb\" target=\"_parent\"><img src=\"https://colab.research.google.com/assets/colab-badge.svg\" alt=\"Open In Colab\"/></a>"
      ]
    },
    {
      "cell_type": "markdown",
      "source": [
        "**Inheritance**\n",
        "\n",
        "*   Parent child relation\n",
        "*   Inheritance allows us to define a class that inherits all the methods and properties from another class.\n",
        "*   Parent class is the class being inherited from, also called base class. (Super class)\n",
        "*   Child class is the class that inherits from another class, also called derived class. (Sub class)\n",
        "*   The ability to create a new class by extending an existing class. When extending a class, we call the original class the parent class and the new class the child class.\n",
        "\n",
        "\n"
      ],
      "metadata": {
        "id": "mZ4irDumzTyJ"
      }
    },
    {
      "cell_type": "markdown",
      "source": [
        "**Single Inheritance**\n",
        "\n",
        "\n",
        "*   In single inheritance, a class can inherit attributes and methods from only one parent class.\n",
        "*   This is the simplest form of inheritance.\n",
        "\n"
      ],
      "metadata": {
        "id": "zcmzaSgIw9O_"
      }
    },
    {
      "cell_type": "code",
      "source": [
        "class Animal:\n",
        "  def eat(self):\n",
        "    print (\"Animal is eating\")\n",
        "\n",
        "  def move(self):\n",
        "    print (\"Animal is moving\")\n",
        "\n",
        "obj1 = Animal()\n",
        "obj1.eat()\n",
        "obj1.move()\n",
        ""
      ],
      "metadata": {
        "colab": {
          "base_uri": "https://localhost:8080/"
        },
        "id": "2RdmZ_2e0Vk6",
        "outputId": "ecce9aba-85b0-48f1-e3ad-be0a6a957802"
      },
      "execution_count": 5,
      "outputs": [
        {
          "output_type": "stream",
          "name": "stdout",
          "text": [
            "Animal is eating\n",
            "Animal is moving\n"
          ]
        }
      ]
    },
    {
      "cell_type": "code",
      "source": [
        "class Dog:\n",
        "  def bark(self):\n",
        "    print (\"Dog is barking\")\n",
        "\n",
        "  def bite(self):\n",
        "    print (\"Dog may bite you!!\")\n",
        "\n",
        "obj2 = Dog()\n",
        "obj2.bark()\n",
        "obj2.bite()"
      ],
      "metadata": {
        "colab": {
          "base_uri": "https://localhost:8080/"
        },
        "id": "yAEctwv41Mgb",
        "outputId": "0cae77f7-18e0-4265-ab19-5d30324bfd9d"
      },
      "execution_count": 2,
      "outputs": [
        {
          "output_type": "stream",
          "name": "stdout",
          "text": [
            "Dog is barking\n",
            "Dog may bite you!!\n"
          ]
        }
      ]
    },
    {
      "cell_type": "markdown",
      "source": [
        "What if we want to get methods of Animal in Dog?\n",
        "\n",
        "\n",
        "*   The class has to inherit the property is the Child Class (Derived Class). **Dog** Class in our case!!\n",
        "*  The class that is being inherited is the Parent Class (Base Class). **Animal** Class in our case!!\n",
        "\n",
        "\n"
      ],
      "metadata": {
        "id": "0TYZy8761jlZ"
      }
    },
    {
      "cell_type": "code",
      "source": [
        "class Dog(Animal): #Dog is inheriting Animal\n",
        "  def bark(self):\n",
        "    print (\"Dog is barking\")\n",
        "\n",
        "  def bite(self):\n",
        "    print (\"Dog may bite you!!\")\n",
        "\n",
        "obj2 = Dog()\n"
      ],
      "metadata": {
        "id": "JuDze2Ty1bhk"
      },
      "execution_count": 3,
      "outputs": []
    },
    {
      "cell_type": "code",
      "source": [
        "obj2.eat() #This method was defined in Animal class\n",
        "obj2.move() #This method was defined in Animal class"
      ],
      "metadata": {
        "colab": {
          "base_uri": "https://localhost:8080/"
        },
        "id": "L3g0C9jh12Yu",
        "outputId": "c25fd7f2-b415-41ce-dbba-4cd5569928f0"
      },
      "execution_count": 4,
      "outputs": [
        {
          "output_type": "stream",
          "name": "stdout",
          "text": [
            "Animal is eating\n",
            "Animal is moving\n"
          ]
        }
      ]
    },
    {
      "cell_type": "code",
      "source": [
        "obj2.bark()\n",
        "obj2.bite()"
      ],
      "metadata": {
        "colab": {
          "base_uri": "https://localhost:8080/"
        },
        "id": "CBPl6fuH2ZSx",
        "outputId": "80fc1e51-8142-4357-bf0f-95249aee1e66"
      },
      "execution_count": 5,
      "outputs": [
        {
          "output_type": "stream",
          "name": "stdout",
          "text": [
            "Dog is barking\n",
            "Dog may bite you!!\n"
          ]
        }
      ]
    },
    {
      "cell_type": "markdown",
      "source": [
        "**Multilevel Inheritance**\n",
        "\n",
        "\n",
        "*   In multilevel inheritance, a class can inherit from another class, and then a third class can inherit from the second class.\n",
        "*  It creates a chain of inheritance.\n",
        "\n"
      ],
      "metadata": {
        "id": "oolyqQ9i2v5B"
      }
    },
    {
      "cell_type": "code",
      "source": [
        "class Puppy(Dog):\n",
        "  def yelps(self):\n",
        "    print (\"puppy yelps!!\")"
      ],
      "metadata": {
        "id": "BqRRWP7320xr"
      },
      "execution_count": 7,
      "outputs": []
    },
    {
      "cell_type": "code",
      "source": [
        "objPuppy = Puppy()\n",
        "#we can access all the methods of the parent class(Dog) and also that of Animal class\n",
        "objPuppy.bark()\n",
        "objPuppy.bite()\n",
        "objPuppy.move()\n",
        "objPuppy.eat()\n",
        "objPuppy.yelps()\n"
      ],
      "metadata": {
        "colab": {
          "base_uri": "https://localhost:8080/"
        },
        "id": "xMMMOROt3-Zo",
        "outputId": "7de2577a-8c57-4f12-f4d4-328c6bbb98a0"
      },
      "execution_count": 8,
      "outputs": [
        {
          "output_type": "stream",
          "name": "stdout",
          "text": [
            "Dog is barking\n",
            "Dog may bite you!!\n",
            "Animal is moving\n",
            "Animal is eating\n",
            "puppy yelps!!\n"
          ]
        }
      ]
    },
    {
      "cell_type": "markdown",
      "source": [
        "**Multiple Inheritance**\n",
        "\n",
        "\n",
        "*   Multiple inheritance allows a class to inherit from more than one parent class.\n",
        "*   This can lead to complex class hierarchies and the diamond problem (ambiguity when two classes in the hierarchy have a common ancestor).\n",
        "\n"
      ],
      "metadata": {
        "id": "nxRP-zOR8LpG"
      }
    },
    {
      "cell_type": "code",
      "source": [
        "class A:\n",
        "  def feature1(self):\n",
        "    print (\"Feature1\")\n",
        "\n",
        "  def feature2(self):\n",
        "    print (\"Feature2\")\n",
        "\n",
        "class B:\n",
        "   def feature3(self):\n",
        "    print (\"Feature3\")\n",
        "\n",
        "   def feature4(self):\n",
        "    print (\"Feature4\")\n",
        "\n",
        "class C(A,B):\n",
        "  def feature5(self):\n",
        "    print (\"Feature5\")\n",
        "\n",
        "  def feature6(self):\n",
        "    print (\"Feature6\")"
      ],
      "metadata": {
        "id": "h0CY5HRi8Nzi"
      },
      "execution_count": 3,
      "outputs": []
    },
    {
      "cell_type": "code",
      "source": [
        "objC = C()\n",
        "objC.feature1() #from Class A\n",
        "objC.feature3() #from Class B"
      ],
      "metadata": {
        "colab": {
          "base_uri": "https://localhost:8080/"
        },
        "id": "uADql_ajwuNP",
        "outputId": "578f9a3d-e573-4c57-8005-f085920a7c24"
      },
      "execution_count": 4,
      "outputs": [
        {
          "output_type": "stream",
          "name": "stdout",
          "text": [
            "Feature1\n",
            "Feature3\n"
          ]
        }
      ]
    }
  ]
}