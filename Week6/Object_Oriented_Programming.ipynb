{
  "nbformat": 4,
  "nbformat_minor": 0,
  "metadata": {
    "colab": {
      "provenance": [],
      "authorship_tag": "ABX9TyPKK4m05C+HZ2RTUCi3mVqR",
      "include_colab_link": true
    },
    "kernelspec": {
      "name": "python3",
      "display_name": "Python 3"
    },
    "language_info": {
      "name": "python"
    }
  },
  "cells": [
    {
      "cell_type": "markdown",
      "metadata": {
        "id": "view-in-github",
        "colab_type": "text"
      },
      "source": [
        "<a href=\"https://colab.research.google.com/github/PrashantSBasnet/L3_Sem2/blob/master/Week6/Object_Oriented_Programming.ipynb\" target=\"_parent\"><img src=\"https://colab.research.google.com/assets/colab-badge.svg\" alt=\"Open In Colab\"/></a>"
      ]
    },
    {
      "cell_type": "markdown",
      "source": [
        "**Overview...**<br>\n",
        "\n",
        "What are **Objects?** <br><br>\n",
        "In simple terms, think of an object as a real-world thing or entity that has both characteristics (attributes) and actions (behaviors).\n",
        "\n",
        "For example, consider a \"Car\" as an object. This car object would have attributes like its color, model, and year (characteristics). It can also perform actions like starting the engine, moving, and stopping (behaviors).\n",
        " <hr>\n",
        "\n",
        "What are **Classes**? <br><br>\n",
        "In simple terms, think of a class as a blueprint or a template for creating objects.\n",
        "\n",
        "Imagine you want to describe a car. You could create a \"Car\" class that defines what a car is, including its characteristics (attributes like color, model, year) and behaviors (methods like starting the engine, driving, stopping). This class is like a blueprint that tells you what a car should have and what it can do.\n",
        "\n",
        "Now, when you want to have a specific car, you use the blueprint to create an \"instance\" or an \"object\" of that class. This object is a real, tangible representation of the car with its unique color, model, and year. It can also perform actions like starting the engine and driving, just like the blueprint described.\n",
        "\n",
        "So, in summary, a class is like a blueprint that defines the properties and behaviors, and an object is an instance created from that blueprint, representing a specific example of what the class describes."
      ],
      "metadata": {
        "id": "j2FzN-M1jiq_"
      }
    },
    {
      "cell_type": "markdown",
      "source": [
        "**Python Classes**<br>\n",
        "A class is a structure in object-oriented programming that allows functions and related data to be grouped together. It is a like an object constructor, or a \"blueprint\" for creating objects. Creating a new class creates a new type of object, allowing new instances of that type to be made. Each class instance can have attributes attached to it for maintaining its state. Class instances can also have methods (defined by its class) for modifying its state.<br>\n",
        "\n",
        "Python classes provide all the standard features of Object Oriented Programming Multiple Inheritence: the class inheritance mechanism allows multiple base classes, a derived class can override any methods of its base class or classes, and a method can call the method of a base class with the same name\n",
        "\n",
        "\n",
        "\n",
        "\n",
        "\n"
      ],
      "metadata": {
        "id": "XyrAubU0kYOL"
      }
    },
    {
      "cell_type": "code",
      "source": [
        "class MyClass:\n",
        "  standard = 8"
      ],
      "metadata": {
        "id": "JTbwh9dumak1"
      },
      "execution_count": null,
      "outputs": []
    },
    {
      "cell_type": "markdown",
      "source": [
        "**Important Concepts**\n",
        "\n",
        "**self**\n",
        "*   To reference a class instance's own variables and functions from within the class definition\n",
        "*    For example, if we had a class called Person and we wanted the class instances to have a variable called age, we could store this information by using self.age\n"
      ],
      "metadata": {
        "id": "IUCl76oQmvfw"
      }
    },
    {
      "cell_type": "code",
      "source": [
        "class Computer:\n",
        "  def config(self): #method\n",
        "    print(\"Silicon M2, 16gb, 512gb\")\n"
      ],
      "metadata": {
        "id": "k9tUZlyasClG"
      },
      "execution_count": null,
      "outputs": []
    },
    {
      "cell_type": "code",
      "source": [
        "comp1 = Computer() #it gives me the object of computer of type comp"
      ],
      "metadata": {
        "id": "qCjgEMgWn-qh"
      },
      "execution_count": null,
      "outputs": []
    },
    {
      "cell_type": "code",
      "source": [
        "print (type(comp1))"
      ],
      "metadata": {
        "colab": {
          "base_uri": "https://localhost:8080/"
        },
        "id": "Rp4mRDacsZu4",
        "outputId": "02f9d978-8485-4103-b0fa-4657d1d38434"
      },
      "execution_count": null,
      "outputs": [
        {
          "output_type": "stream",
          "name": "stdout",
          "text": [
            "<class '__main__.Computer'>\n"
          ]
        }
      ]
    },
    {
      "cell_type": "code",
      "source": [
        "val = \"StringValue\"\n",
        "x = 9\n",
        "print (type(val))  #object of String -- in built object\n",
        "print (type(x))    #object of Integer -- in built object"
      ],
      "metadata": {
        "colab": {
          "base_uri": "https://localhost:8080/"
        },
        "id": "xjKqX3jzshGk",
        "outputId": "08e07608-46d2-4596-eb62-0618805146fd"
      },
      "execution_count": null,
      "outputs": [
        {
          "output_type": "stream",
          "name": "stdout",
          "text": [
            "<class 'str'>\n",
            "<class 'int'>\n"
          ]
        }
      ]
    },
    {
      "cell_type": "markdown",
      "source": [
        "In the following code, we are calling config() method of Computer Class by passing comp1 as the argument. This means that we want the config() method of comp1 object"
      ],
      "metadata": {
        "id": "j4_AsG5fvCPe"
      }
    },
    {
      "cell_type": "code",
      "source": [
        "Computer.config(comp1)"
      ],
      "metadata": {
        "colab": {
          "base_uri": "https://localhost:8080/"
        },
        "id": "pOltEE9Os55g",
        "outputId": "819f414c-13e9-4dd5-edc8-d65e3048c0a1"
      },
      "execution_count": null,
      "outputs": [
        {
          "output_type": "stream",
          "name": "stdout",
          "text": [
            "Silicon M2, 16gb, 512gb\n"
          ]
        }
      ]
    },
    {
      "cell_type": "markdown",
      "source": [
        "In the following code, .config() takes comp1 as the argument and pass it as **self**. self is the object that we are passing"
      ],
      "metadata": {
        "id": "CNlu857NuGuW"
      }
    },
    {
      "cell_type": "code",
      "source": [
        "Computer.config(comp1)"
      ],
      "metadata": {
        "colab": {
          "base_uri": "https://localhost:8080/"
        },
        "id": "8bLWnbQRvZD6",
        "outputId": "ccb8672a-e45e-4c6b-c6c9-9a9d61b1ba81"
      },
      "execution_count": null,
      "outputs": [
        {
          "output_type": "stream",
          "name": "stdout",
          "text": [
            "Silicon M2, 16gb, 512gb\n"
          ]
        }
      ]
    },
    {
      "cell_type": "code",
      "source": [
        "comp2 = Computer()\n",
        "comp3 = Computer()\n",
        "\n",
        "Computer.config(comp2)\n",
        "Computer.config(comp3)"
      ],
      "metadata": {
        "colab": {
          "base_uri": "https://localhost:8080/"
        },
        "id": "W9F7mRh9vcdk",
        "outputId": "855f2733-d10c-458a-f43d-5bcb80bb3a3a"
      },
      "execution_count": null,
      "outputs": [
        {
          "output_type": "stream",
          "name": "stdout",
          "text": [
            "Silicon M2, 16gb, 512gb\n",
            "Silicon M2, 16gb, 512gb\n"
          ]
        }
      ]
    },
    {
      "cell_type": "markdown",
      "source": [
        "Another way to achieve the same. This is the widely followed practise. Under the hood, config() takes comp1 as an argument and passes on self"
      ],
      "metadata": {
        "id": "q_D7mUpewSlI"
      }
    },
    {
      "cell_type": "code",
      "source": [
        "comp1.config()\n",
        "comp2.config()"
      ],
      "metadata": {
        "colab": {
          "base_uri": "https://localhost:8080/"
        },
        "id": "aMs9n6qHwQwc",
        "outputId": "23ec1cf1-1055-45e4-e160-f5f0eee78cd6"
      },
      "execution_count": null,
      "outputs": [
        {
          "output_type": "stream",
          "name": "stdout",
          "text": [
            "Silicon M2, 16gb, 512gb\n",
            "Silicon M2, 16gb, 512gb\n"
          ]
        }
      ]
    },
    {
      "cell_type": "markdown",
      "source": [
        "**_init_()** method\n",
        "\n",
        "\n",
        "*   Built-in method\n",
        "*   All classes have a method called __init__()\n",
        "The __init__ method in Python is a special method used for initializing newly created objects. It is also known as a constructor method because it gets called (or \"constructed\") automatically when a new instance of the class is created.\n",
        "*   _Name: The method is named __init__. The name __init__ is special in Python, and when you define it within a class, Python knows to call it automatically when a new instance of the class is created.\n",
        "*   Parameters: The __init__ method typically takes at least one parameter, conventionally named self. This parameter refers to the current instance of the class and is used to access attributes and methods of that instance within the method. Apart from self, you can define other parameters as needed to initialize the object with initial values.\n",
        "*   Initialization: Inside the __init__ method, you initialize the object's attributes. This could involve setting default values, assigning values based on parameters passed to the constructor, or performing any other necessary initialization tasks.\n",
        "\n",
        "Another important and commonly used function definition is the class initializer, def **init(self)**. The body of the initializer is where instance variable definitions should be added, and the initializer initializes all the variables once an instance of the class is created. Also, any input variables that a class needs to have, such as a name for the person can be passed into initializer function.\n"
      ],
      "metadata": {
        "id": "kzLoP9XrDsn6"
      }
    },
    {
      "cell_type": "code",
      "source": [
        "class Computer:\n",
        "\n",
        "  def __init__(self): #gets called automatically\n",
        "    print(\"in init\")\n",
        "\n",
        "  def config(self): #method\n",
        "    print(\"Silicon M2, 16gb, 512gb\")"
      ],
      "metadata": {
        "id": "K3srblBzwEkk"
      },
      "execution_count": null,
      "outputs": []
    },
    {
      "cell_type": "code",
      "source": [
        "obj1 = Computer() #creating object\n",
        "obj1.config()  #the output will execute the lines of codes inside __init__ as it gets executed automatically"
      ],
      "metadata": {
        "id": "yPeIecW1Lmzc",
        "colab": {
          "base_uri": "https://localhost:8080/"
        },
        "outputId": "17472eee-776d-4e51-d330-2a4fc72f0a59"
      },
      "execution_count": null,
      "outputs": [
        {
          "output_type": "stream",
          "name": "stdout",
          "text": [
            "in init\n",
            "Silicon M2, 16gb, 512gb\n"
          ]
        }
      ]
    },
    {
      "cell_type": "code",
      "source": [
        "class Computer:\n",
        "  def __init__(self,cpu,ram):\n",
        "    self.cpu = cpu  #self.anyOtherName = cpu        you can do this, too!!\n",
        "    self.ram = ram\n",
        "\n",
        "  def config(self):\n",
        "    print(self.cpu,self.ram) #cpu and ram are local variables. we need to use self. to access their values"
      ],
      "metadata": {
        "id": "-bh4WIDdN5YS"
      },
      "execution_count": null,
      "outputs": []
    },
    {
      "cell_type": "markdown",
      "source": [
        "**Passing values as arguments**<br>\n",
        "***Note:*** **self** gets automatically passed, *therefore the number of arguments = no.of arguments you defined +1*"
      ],
      "metadata": {
        "id": "7P7InSyYOSGn"
      }
    },
    {
      "cell_type": "code",
      "source": [
        "obj1 = Computer('i5', 8 )\n",
        "obj2 = Computer('i7', 9)\n",
        "\n",
        "obj1.config()\n",
        "obj2.config()"
      ],
      "metadata": {
        "colab": {
          "base_uri": "https://localhost:8080/"
        },
        "id": "937TJcStOWJ2",
        "outputId": "8a7ac6e2-af97-458c-ab0a-25c47a61c479"
      },
      "execution_count": null,
      "outputs": [
        {
          "output_type": "stream",
          "name": "stdout",
          "text": [
            "i5 8\n",
            "i7 9\n"
          ]
        }
      ]
    },
    {
      "cell_type": "markdown",
      "source": [
        "**Some more examples**<br>\n",
        "Below is an example of a basic Person class. The class has two variables for name and age, along with three functions for initializing the class, incrementing the person’s age, and getting the person’s name."
      ],
      "metadata": {
        "id": "UXRCFH42PzkK"
      }
    },
    {
      "cell_type": "code",
      "source": [
        "class Person:\n",
        "    def __init__(self, name, age):\n",
        "        self.person_name = name\n",
        "        self.person_age = age\n",
        "\n",
        "    def birthday(self):\n",
        "        self.person_age += 1\n",
        "\n",
        "    def getName(self):\n",
        "        return self.person_name"
      ],
      "metadata": {
        "id": "-5uC6ZL4P6hA"
      },
      "execution_count": null,
      "outputs": []
    },
    {
      "cell_type": "markdown",
      "source": [
        "Let’s look at an example for how to create an instance of the Person class using the class template above. We can then access that Person’s name:"
      ],
      "metadata": {
        "id": "U1bEbpanQB8S"
      }
    },
    {
      "cell_type": "code",
      "source": [
        "bob = Person('Bob', 32)\n",
        "print(bob.getName())"
      ],
      "metadata": {
        "colab": {
          "base_uri": "https://localhost:8080/"
        },
        "id": "riHqVmueQCtx",
        "outputId": "a20dcdbe-9344-4ac7-bdb9-6d3d08e3ce5e"
      },
      "execution_count": null,
      "outputs": [
        {
          "output_type": "stream",
          "name": "stdout",
          "text": [
            "Bob\n"
          ]
        }
      ]
    },
    {
      "cell_type": "markdown",
      "source": [
        "Currently, we have one function for getting the class’s variable. This is called an **Accessor**. The other function that the class has is actually modifying one of the class’ variables, and that is called a **Mutator**. We can make our Person older by calling birthday()"
      ],
      "metadata": {
        "id": "5bTEfH8-QH5K"
      }
    },
    {
      "cell_type": "code",
      "source": [
        "bob.birthday()\n",
        "print(bob.person_age)"
      ],
      "metadata": {
        "colab": {
          "base_uri": "https://localhost:8080/"
        },
        "id": "SwjSp-sQQIvJ",
        "outputId": "1b9ffa19-6d21-4676-f85d-3b9a3ce93c8a"
      },
      "execution_count": null,
      "outputs": [
        {
          "output_type": "stream",
          "name": "stdout",
          "text": [
            "33\n"
          ]
        }
      ]
    },
    {
      "cell_type": "code",
      "source": [
        "bob.person_age #because the variables are public"
      ],
      "metadata": {
        "colab": {
          "base_uri": "https://localhost:8080/"
        },
        "id": "Hg-NqjPzSPh6",
        "outputId": "c378b44f-18b8-41d6-d705-b8d23be486b7"
      },
      "execution_count": null,
      "outputs": [
        {
          "output_type": "execute_result",
          "data": {
            "text/plain": [
              "33"
            ]
          },
          "metadata": {},
          "execution_count": 56
        }
      ]
    },
    {
      "cell_type": "markdown",
      "source": [
        "The birthday function call successfully increments the age of our **Person**. Also note that we can directly get the age of bob without using a function call. This is because the **Person** class variables are defined as public, so we can directly access them without a function call. If instead we wanted the **Person**’s age variable to be private to the class, in Python 3 we could put double underscores in front of the variable: **__person_age**. Then we would have to use a function call in order to retrieve it."
      ],
      "metadata": {
        "id": "Ru_Q7cAOQLRJ"
      }
    },
    {
      "cell_type": "code",
      "source": [
        "class Student:\n",
        "    def __init__(self, name, age):\n",
        "        self.__person_name = name\n",
        "        self.__person_age = age\n",
        "\n",
        "    def birthday(self):\n",
        "        self.__person_age += 1\n",
        "\n",
        "    def getName(self):\n",
        "        return self.__person_name"
      ],
      "metadata": {
        "id": "lN-bThxNRcRS"
      },
      "execution_count": null,
      "outputs": []
    },
    {
      "cell_type": "code",
      "source": [
        "fresher = Student('Sameer', 19)\n",
        "x = fresher.getName()\n",
        "print (x)\n",
        "\n",
        "\n",
        "#fresher.     I cannot access the variables because they are private. __variableName"
      ],
      "metadata": {
        "colab": {
          "base_uri": "https://localhost:8080/"
        },
        "id": "Vl5_nuYCRgk5",
        "outputId": "d304cf68-0c03-47fa-ce2d-e9384672952b"
      },
      "execution_count": null,
      "outputs": [
        {
          "output_type": "stream",
          "name": "stdout",
          "text": [
            "Sameer\n"
          ]
        }
      ]
    },
    {
      "cell_type": "code",
      "source": [],
      "metadata": {
        "id": "8vf_FH9OXkhb"
      },
      "execution_count": null,
      "outputs": []
    },
    {
      "cell_type": "markdown",
      "source": [
        "**More details on Objects**\n",
        "\n",
        "**Memory**\n",
        "*   There are two different types of memory: Stack and Heap\n",
        "*   Objects and their data are stored in Heap Memory\n",
        "*   Object references (pointers) are indeed stored in the stack memory.\n",
        "\n",
        "Summing up, when you create a variable and assign an object to it, the reference to that object is stored in the stack memory, while the actual object's data is stored in the heap.\n",
        "\n",
        "\n",
        "\n",
        "\n",
        "\n"
      ],
      "metadata": {
        "id": "P1WWCeqzToGX"
      }
    },
    {
      "cell_type": "code",
      "source": [
        "class SampleClass:\n",
        "  pass    #you cannot leave a class blank. However, you can use pass keyword if the class has no contents"
      ],
      "metadata": {
        "id": "1AluKIq2UxaG"
      },
      "execution_count": null,
      "outputs": []
    },
    {
      "cell_type": "code",
      "source": [
        "o1 = SampleClass()\n",
        "o2 = SampleClass()\n",
        "#two objects are created in unique memory locations in heap\n",
        "print (id(o1))  #memory address in heap\n",
        "print (id(o2))  #memory address in heap"
      ],
      "metadata": {
        "colab": {
          "base_uri": "https://localhost:8080/"
        },
        "id": "cCV29d0VSYVz",
        "outputId": "61d611eb-e28b-451e-c5c1-649dbbbaf82b"
      },
      "execution_count": null,
      "outputs": [
        {
          "output_type": "stream",
          "name": "stdout",
          "text": [
            "137865067983344\n",
            "137865067974272\n"
          ]
        }
      ]
    },
    {
      "cell_type": "markdown",
      "source": [
        "**Size of an object?** <br>\n",
        "Depends on the no. of variables and size of each variable\n",
        "\n",
        "\n",
        "**Who allocates size of an object?**<br>\n",
        "Constructor  e.g Computer()   SampleClass()    [i.e Class name with ()]\n",
        "\n"
      ],
      "metadata": {
        "id": "Ly8wCIsYVfyh"
      }
    },
    {
      "cell_type": "markdown",
      "source": [
        "<hr>"
      ],
      "metadata": {
        "id": "81gfP89UbUU4"
      }
    },
    {
      "cell_type": "markdown",
      "source": [
        "\n",
        "**Variables**\n",
        "*   Instance Variables\n",
        "*   Class Variables (Static Variables)\n",
        "\n"
      ],
      "metadata": {
        "id": "nU8VO0nSaDeS"
      }
    },
    {
      "cell_type": "code",
      "source": [
        "class Car:\n",
        "   type= 'Sedan' #class variables/static variables. they belong to Class namespace\n",
        "   def __init__(self):\n",
        "      self.mileage = 10   #instance variable. they belong to Instance namespace\n",
        "      self.company = 'Mercedez'   #instance variable."
      ],
      "metadata": {
        "id": "XjzaBcfaZdxL"
      },
      "execution_count": null,
      "outputs": []
    },
    {
      "cell_type": "code",
      "source": [
        "carObj1 = Car()\n",
        "carObj2 = Car()"
      ],
      "metadata": {
        "id": "AE7KW-q4Ztvu"
      },
      "execution_count": null,
      "outputs": []
    },
    {
      "cell_type": "code",
      "source": [
        "print(carObj1.mileage, carObj1.company)\n",
        "print(carObj2.mileage, carObj2.company)"
      ],
      "metadata": {
        "colab": {
          "base_uri": "https://localhost:8080/"
        },
        "id": "y_go1C41Z0O2",
        "outputId": "3893692c-4997-4fad-f79a-e1092a081ebb"
      },
      "execution_count": null,
      "outputs": [
        {
          "output_type": "stream",
          "name": "stdout",
          "text": [
            "10 Mercedez\n",
            "10 Mercedez\n"
          ]
        }
      ]
    },
    {
      "cell_type": "code",
      "source": [
        "carObj1.company='BMW'\n",
        "print(carObj1.mileage, carObj1.company) #change only reflected to carObj1\n",
        "print(carObj2.mileage, carObj2.company)"
      ],
      "metadata": {
        "colab": {
          "base_uri": "https://localhost:8080/"
        },
        "id": "aTffOkfRaJXl",
        "outputId": "63de8a30-70d9-4cd2-a2db-a8d5bb340e30"
      },
      "execution_count": null,
      "outputs": [
        {
          "output_type": "stream",
          "name": "stdout",
          "text": [
            "10 BMW\n",
            "10 Mercedez\n"
          ]
        }
      ]
    },
    {
      "cell_type": "code",
      "source": [
        "Car.type='SUV'   #change reflected to all the objects\n",
        "print (carObj1.type)\n",
        "print (carObj2.type)"
      ],
      "metadata": {
        "colab": {
          "base_uri": "https://localhost:8080/"
        },
        "id": "o6unrxT8azUr",
        "outputId": "356c7a7f-9c34-4f03-8574-2e742cc10072"
      },
      "execution_count": null,
      "outputs": [
        {
          "output_type": "stream",
          "name": "stdout",
          "text": [
            "SUV\n",
            "SUV\n"
          ]
        }
      ]
    }
  ]
}