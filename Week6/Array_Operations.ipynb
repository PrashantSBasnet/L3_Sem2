{
  "nbformat": 4,
  "nbformat_minor": 0,
  "metadata": {
    "colab": {
      "provenance": [],
      "authorship_tag": "ABX9TyOEvnx3QRTBDRfQofYdPweo",
      "include_colab_link": true
    },
    "kernelspec": {
      "name": "python3",
      "display_name": "Python 3"
    },
    "language_info": {
      "name": "python"
    }
  },
  "cells": [
    {
      "cell_type": "markdown",
      "metadata": {
        "id": "view-in-github",
        "colab_type": "text"
      },
      "source": [
        "<a href=\"https://colab.research.google.com/github/PrashantSBasnet/L3_Sem2/blob/master/Week6/Array_Operations.ipynb\" target=\"_parent\"><img src=\"https://colab.research.google.com/assets/colab-badge.svg\" alt=\"Open In Colab\"/></a>"
      ]
    },
    {
      "cell_type": "code",
      "execution_count": 12,
      "metadata": {
        "id": "Pdx0Yw64z9An"
      },
      "outputs": [],
      "source": [
        "import numpy as np\n"
      ]
    },
    {
      "cell_type": "code",
      "source": [
        "arr = np.array([1,2,4,5,6,7])\n",
        "arr = arr + 5\n",
        "print (arr)\n"
      ],
      "metadata": {
        "colab": {
          "base_uri": "https://localhost:8080/"
        },
        "id": "2U6aNu9z5EHW",
        "outputId": "efe84edd-c407-40c7-c696-3ecb6db12eef"
      },
      "execution_count": 13,
      "outputs": [
        {
          "output_type": "stream",
          "name": "stdout",
          "text": [
            "[ 6  7  9 10 11 12]\n"
          ]
        }
      ]
    },
    {
      "cell_type": "code",
      "source": [
        "arr1= np.array([1,2,4,5,6,7])\n",
        "arr2= np.array([3,4,5,6,7,8])\n",
        "sum = arr1+arr2\n",
        "print (sum)"
      ],
      "metadata": {
        "colab": {
          "base_uri": "https://localhost:8080/"
        },
        "id": "Fxvg9GDL5L8X",
        "outputId": "dcdcc2b9-e59f-40a6-a141-21105f8c02b1"
      },
      "execution_count": 14,
      "outputs": [
        {
          "output_type": "stream",
          "name": "stdout",
          "text": [
            "[ 4  6  9 11 13 15]\n"
          ]
        }
      ]
    },
    {
      "cell_type": "code",
      "source": [
        "product = arr1 * arr2\n",
        "print (product)"
      ],
      "metadata": {
        "colab": {
          "base_uri": "https://localhost:8080/"
        },
        "id": "VAIcEt-C5VfQ",
        "outputId": "b8b88184-69ee-45fa-9f90-88da662f3552"
      },
      "execution_count": 15,
      "outputs": [
        {
          "output_type": "stream",
          "name": "stdout",
          "text": [
            "[ 3  8 20 30 42 56]\n"
          ]
        }
      ]
    },
    {
      "cell_type": "code",
      "source": [
        "arr = np.array([7, 3, 2, 5, 8, 1])\n",
        "arr3 = np.array([3,4,5,6,6,2])\n",
        "#print(np.sum(arr))\n",
        "#print(np.min(arr))\n",
        "#print(np.sin(arr))\n",
        "#print(np.sqrt(arr))\n",
        "#print(np.sort(arr))\n",
        "#print(np.concatenate([arr,arr3]))"
      ],
      "metadata": {
        "colab": {
          "base_uri": "https://localhost:8080/"
        },
        "id": "COOnkhkS5q6E",
        "outputId": "80202c36-4875-42cf-8ae2-229bb56adc3a"
      },
      "execution_count": 23,
      "outputs": [
        {
          "output_type": "stream",
          "name": "stdout",
          "text": [
            "[7 3 2 5 8 1 3 4 5 6 6 2]\n"
          ]
        }
      ]
    },
    {
      "cell_type": "markdown",
      "source": [
        "**Aliasing**\n",
        "\n",
        "\n",
        "*   Creating a new reference to an existing array, rather than copying its contents.\n",
        "*   The changes made to the alias will affect the original array as well.\n",
        "\n"
      ],
      "metadata": {
        "id": "8y1_UYxY9pbc"
      }
    },
    {
      "cell_type": "code",
      "source": [
        "sampleArr1 = np.array([3,5,6,8,3])\n",
        "sampleArr2 = sampleArr1\n",
        "print (sampleArr1)\n",
        "print (sampleArr2)\n",
        "\n",
        "#making some changes\n",
        "sampleArr2[0]= 99\n",
        "\n",
        "print (sampleArr1)\n",
        "print (sampleArr2)"
      ],
      "metadata": {
        "colab": {
          "base_uri": "https://localhost:8080/"
        },
        "id": "w3aZ59qQ6k-N",
        "outputId": "c630fe75-4ef6-4769-f7c8-3744816a2c22"
      },
      "execution_count": 59,
      "outputs": [
        {
          "output_type": "stream",
          "name": "stdout",
          "text": [
            "[3 5 6 8 3]\n",
            "[3 5 6 8 3]\n",
            "[99  5  6  8  3]\n",
            "[99  5  6  8  3]\n"
          ]
        }
      ]
    },
    {
      "cell_type": "code",
      "source": [
        "#printing memory address\n",
        "#both arrays point to the same address\n",
        "print (\"Memory location of sampleArr1:\", id(sampleArr1))\n",
        "print (\"Memory location of sampleArr2:\", id(sampleArr2))"
      ],
      "metadata": {
        "colab": {
          "base_uri": "https://localhost:8080/"
        },
        "id": "ngJibAeK7beN",
        "outputId": "d4e8f23a-375b-4a4e-a2fa-28a39e980095"
      },
      "execution_count": 73,
      "outputs": [
        {
          "output_type": "stream",
          "name": "stdout",
          "text": [
            "Memory location of sampleArr1: 139377482999312\n",
            "Memory location of sampleArr2: 139377482999312\n"
          ]
        }
      ]
    },
    {
      "cell_type": "markdown",
      "source": [
        "**View**\n",
        "\n",
        "\n",
        "\n",
        "*   View is just a view of the original array.\n",
        "*   A new way of looking at the data by changing certain metadata and these new arrays are called views\n",
        "\n"
      ],
      "metadata": {
        "id": "M7Vn22anBIlA"
      }
    },
    {
      "cell_type": "code",
      "source": [
        "sampArr = np.array([1,2,3,4,5,6])\n",
        "copyArr = sampArr.view()\n",
        "sampArr[0] = 32\n",
        "\n",
        "#modifying samArr doesn't affect copyArr\n",
        "print (\"samArr:\", sampArr)\n",
        "print (\"copyArr:\", copyArr)\n",
        "\n",
        "#different memory location\n",
        "print (\"Memory location of sampArr:\", id(sampArr))\n",
        "print (\"Memory location of copyArr:\", id(copyArr))"
      ],
      "metadata": {
        "colab": {
          "base_uri": "https://localhost:8080/"
        },
        "outputId": "0ad06628-6903-4c5c-d111-6dd985c7e72d",
        "id": "mD50s_GGBA3Y"
      },
      "execution_count": 68,
      "outputs": [
        {
          "output_type": "stream",
          "name": "stdout",
          "text": [
            "samArr: [32  2  3  4  5  6]\n",
            "copyArr: [32  2  3  4  5  6]\n",
            "Memory location of sampArr: 139377481345392\n",
            "Memory location of copyArr: 139377481649776\n"
          ]
        }
      ]
    },
    {
      "cell_type": "markdown",
      "source": [
        "**Copy**\n",
        "\n",
        "\n",
        "*   When a new array is created by duplicating the data buffer as well as the metadata, it is called a copy.\n",
        "*   Changes made to the copy do not reflect on the original array.\n",
        "*   Making a copy is slower and memory-consuming but sometimes necessary.\n",
        "\n"
      ],
      "metadata": {
        "id": "CJIid7n59QRn"
      }
    },
    {
      "cell_type": "code",
      "source": [
        "sampArr = np.array([1,2,3,4,5,6])\n",
        "copyArr = sampArr.copy()\n",
        "sampArr[0] = 32\n",
        "\n",
        "print (\"sampArr:\" , sampArr)\n",
        "print (\"copyArr:\", copyArr)\n",
        "\n",
        "print (\"sampArr:\", sampArr)\n",
        "\n",
        "#creates in different memory location\n",
        "print (\"Memory location of sampArr:\", id(sampArr))\n",
        "print (\"Memory location of copyArr:\",id(copyArr))"
      ],
      "metadata": {
        "colab": {
          "base_uri": "https://localhost:8080/"
        },
        "id": "YTI8pQto9Rop",
        "outputId": "d579ff57-96b9-40b8-c2aa-577346164d01"
      },
      "execution_count": 71,
      "outputs": [
        {
          "output_type": "stream",
          "name": "stdout",
          "text": [
            "sampArr: [32  2  3  4  5  6]\n",
            "copyArr: [1 2 3 4 5 6]\n",
            "sampArr: [32  2  3  4  5  6]\n",
            "Memory location of sampArr: 139377481500592\n",
            "Memory location of copyArr: 139377483327184\n"
          ]
        }
      ]
    },
    {
      "cell_type": "markdown",
      "source": [
        "**Array Slicing**\n",
        "*   Access the portion of an array using the slicing operator :\n",
        "\n",
        "\n",
        "\n",
        "\n"
      ],
      "metadata": {
        "id": "PO0P1LNQEUEQ"
      }
    },
    {
      "cell_type": "code",
      "source": [
        "# create a 1D array\n",
        "array1 = np.array([1, 3, 5, 7, 8, 9, 2, 4, 6])\n",
        "\n",
        "# slice array1 from index 2 to index 6 (exclusive)\n",
        "print(array1[2:6])  # [5 7 8 9]\n",
        "\n",
        "# slice array1 from index 0 to index 8 (exclusive) with a step size of 2\n",
        "print(array1[0:8:2])  # [1 5 8 2]\n",
        "\n",
        "# slice array1 from index 3 up to the last element\n",
        "print(array1[3:])  # [7 8 9 2 4 6]\n",
        "\n",
        "# items from start to end\n",
        "print(array1[:])   # [1 3 5 7 8 9 2 4 6]"
      ],
      "metadata": {
        "colab": {
          "base_uri": "https://localhost:8080/"
        },
        "id": "GUiKs5BAEax3",
        "outputId": "44efaf87-1f3e-4ba7-af87-c8a98311c91c"
      },
      "execution_count": 74,
      "outputs": [
        {
          "output_type": "stream",
          "name": "stdout",
          "text": [
            "[5 7 8 9]\n",
            "[1 5 8 2]\n",
            "[7 8 9 2 4 6]\n",
            "[1 3 5 7 8 9 2 4 6]\n"
          ]
        }
      ]
    },
    {
      "cell_type": "code",
      "source": [
        "# 1. Using start Parameter\n",
        "# create a numpy array\n",
        "numbers = np.array([2, 4, 6, 8, 10, 12])\n",
        "\n",
        "# modify elements from index 3 onwards\n",
        "numbers[3:] = 20\n",
        "print(numbers)"
      ],
      "metadata": {
        "colab": {
          "base_uri": "https://localhost:8080/"
        },
        "id": "d09srn5KEndw",
        "outputId": "a55a4b01-a1c6-45f0-aa3a-954579a9f2dd"
      },
      "execution_count": 80,
      "outputs": [
        {
          "output_type": "stream",
          "name": "stdout",
          "text": [
            "[ 2  4  6 20 20 20]\n"
          ]
        }
      ]
    },
    {
      "cell_type": "code",
      "source": [
        "#2. Using stop Parameter\n",
        "# create a numpy array\n",
        "numbers = np.array([2, 4, 6, 8, 10, 12])\n",
        "\n",
        "# modify the first 3 elements\n",
        "numbers[:3] = 40\n",
        "print(numbers)"
      ],
      "metadata": {
        "colab": {
          "base_uri": "https://localhost:8080/"
        },
        "id": "fYwze9IbEuE2",
        "outputId": "9832ba21-370b-49b6-cfbc-f7a0b22a5bce"
      },
      "execution_count": 79,
      "outputs": [
        {
          "output_type": "stream",
          "name": "stdout",
          "text": [
            "[40 40 40  8 10 12]\n"
          ]
        }
      ]
    },
    {
      "cell_type": "code",
      "source": [
        "#3. Using start and stop parameter\n",
        "# create a numpy array\n",
        "numbers = np.array([2, 4, 6, 8, 10, 12])\n",
        "\n",
        "# modify elements from indices 2 to 5\n",
        "numbers[2:5] = 22\n",
        "print(numbers)\n",
        "\n",
        "# Output: [2 4 22 22 22 12]"
      ],
      "metadata": {
        "colab": {
          "base_uri": "https://localhost:8080/"
        },
        "id": "WFVi4BT7E86O",
        "outputId": "ad3738c7-2305-4e19-8cbc-079922a059e7"
      },
      "execution_count": 78,
      "outputs": [
        {
          "output_type": "stream",
          "name": "stdout",
          "text": [
            "[ 2  4 22 22 22 12]\n"
          ]
        }
      ]
    },
    {
      "cell_type": "code",
      "source": [
        "#4. Using start, stop, and step parameter\n",
        "# create a numpy array\n",
        "numbers = np.array([2, 4, 6, 8, 10, 12])\n",
        "\n",
        "# modify every second element from indices 1 to 5\n",
        "numbers[1:5:2] = 16\n",
        "print(numbers)"
      ],
      "metadata": {
        "colab": {
          "base_uri": "https://localhost:8080/"
        },
        "id": "ASthaufQE_S6",
        "outputId": "ae051d90-5db8-4e11-f38a-8cd86ff48248"
      },
      "execution_count": 77,
      "outputs": [
        {
          "output_type": "stream",
          "name": "stdout",
          "text": [
            "[ 2 16  6 16 10 12]\n"
          ]
        }
      ]
    },
    {
      "cell_type": "code",
      "source": [
        "#NumPy Array Negative Slicing\n",
        "import numpy as np\n",
        "\n",
        "# create a numpy array\n",
        "numbers = np.array([2, 4, 6, 8, 10, 12])\n",
        "\n",
        "# slice the last 3 elements of the array\n",
        "# using the start parameter\n",
        "print(numbers[-3:])    # [8 10 12]\n",
        "\n",
        "# slice elements from 2nd-to-last to 4th-to-last element\n",
        "# using the start and stop parameters\n",
        "print(numbers[-5:-2])    # [4 6 8]\n",
        "\n",
        "# slice every other element of the array from the end\n",
        "# using the start, stop, and step parameters\n",
        "print(numbers[-1::-2])   # [12 8 4]"
      ],
      "metadata": {
        "colab": {
          "base_uri": "https://localhost:8080/"
        },
        "id": "NVe0tZDyFHjP",
        "outputId": "6b556930-d465-4c0b-9cb4-21be89e9243b"
      },
      "execution_count": 81,
      "outputs": [
        {
          "output_type": "stream",
          "name": "stdout",
          "text": [
            "[ 8 10 12]\n",
            "[4 6 8]\n",
            "[12  8  4]\n"
          ]
        }
      ]
    },
    {
      "cell_type": "code",
      "source": [
        "#Reverse NumPy Array Using Negative Slicing\n",
        "import numpy as np\n",
        "\n",
        "# create a numpy array\n",
        "numbers = np.array([2, 4, 6, 8, 10, 12])\n",
        "\n",
        "# generate reversed array\n",
        "reversed_numbers = numbers[::-1] #Here, the slice numbers[::-1] selects all the elements of the array with a step size of -1, which reverses the order of the elements.\n",
        "print(reversed_numbers)"
      ],
      "metadata": {
        "colab": {
          "base_uri": "https://localhost:8080/"
        },
        "id": "bNzopCbpFMb7",
        "outputId": "2f7d9250-0a46-41a2-c345-9e676a0e7db6"
      },
      "execution_count": 82,
      "outputs": [
        {
          "output_type": "stream",
          "name": "stdout",
          "text": [
            "[12 10  8  6  4  2]\n"
          ]
        }
      ]
    },
    {
      "cell_type": "markdown",
      "source": [
        "**2D NumPy Array Slicing**\n",
        "\n",
        "Syntax: array[row_start:row_stop:row_step, col_start:col_stop:col_step]"
      ],
      "metadata": {
        "id": "Gv43ny6ZFc7U"
      }
    },
    {
      "cell_type": "code",
      "source": [
        "# create a 2D array\n",
        "array1 = np.array([[1, 3, 5, 7],\n",
        "                   [9, 11, 13, 15]])\n",
        "\n",
        "print(array1[:2, :2])"
      ],
      "metadata": {
        "colab": {
          "base_uri": "https://localhost:8080/"
        },
        "id": "RMBY1leUFiYU",
        "outputId": "d2718436-ebe1-4ba8-ec03-bb917e531691"
      },
      "execution_count": 83,
      "outputs": [
        {
          "output_type": "stream",
          "name": "stdout",
          "text": [
            "[[ 1  3]\n",
            " [ 9 11]]\n"
          ]
        }
      ]
    },
    {
      "cell_type": "code",
      "source": [
        "# create a 2D array\n",
        "array1 = np.array([[1, 3, 5, 7],\n",
        "                      [9, 11, 13, 15],\n",
        "                      [2, 4, 6, 8]])\n",
        "\n",
        "\n",
        "# slice the array to get the first two rows and columns\n",
        "subarray1 = array1[:2, :2]\n",
        "\n",
        "# slice the array to get the last two rows and columns\n",
        "subarray2 = array1[1:3, 2:4]\n",
        "\n",
        "# print the subarrays\n",
        "print(\"First Two Rows and Columns: \\n\",subarray1)\n",
        "print(\"Last two Rows and Columns: \\n\",subarray2)"
      ],
      "metadata": {
        "colab": {
          "base_uri": "https://localhost:8080/"
        },
        "id": "C_y0A5G7FsKA",
        "outputId": "8510c47c-f3d2-4d6b-f77a-f6a6fe305c6c"
      },
      "execution_count": 84,
      "outputs": [
        {
          "output_type": "stream",
          "name": "stdout",
          "text": [
            "First Two Rows and Columns: \n",
            " [[ 1  3]\n",
            " [ 9 11]]\n",
            "Last two Rows and Columns: \n",
            " [[13 15]\n",
            " [ 6  8]]\n"
          ]
        }
      ]
    },
    {
      "cell_type": "markdown",
      "source": [
        "\n",
        "\n",
        "*   array1[:2, :2] - slices array1 that starts at the first row and first column (default values), and ends at the second row and second column (exclusive)\n",
        "*   array1[1:3, 2:4] - slices array1 that starts at the second row and third column (index 1 and 2), and ends at the third row and fourth column (index 2 and 3)\n",
        "\n"
      ],
      "metadata": {
        "id": "ofYW0jSbF2-5"
      }
    },
    {
      "cell_type": "markdown",
      "source": [
        "\n",
        "\n",
        "1.   We slice array1 to get the first two rows and first two columns. We use slicing notation [:2, :2] where :2 selects the first two rows and :2 selects the first two columns:\n",
        "2.   We slice array1 to get the last two rows and last two columns. We use slicing notation [1:3, 2:4] where 1:3 selects rows 1 and 2, and 2:4 selects columns 2 and 3:\n",
        "\n"
      ],
      "metadata": {
        "id": "hNRJraLdbGfT"
      }
    },
    {
      "cell_type": "markdown",
      "source": [
        "**Indexing** can be done in numpy by using an array as an index. In case of slice, a view or shallow copy of the array is returned but in index array a copy of the original array is returned. Numpy arrays can be indexed with other arrays or any other sequence with the exception of tuples. The last element is indexed by -1 second last by -2 and so on."
      ],
      "metadata": {
        "id": "uYEPlv1YccOv"
      }
    },
    {
      "cell_type": "code",
      "source": [
        "# Python program to demonstrate\n",
        "# the use of index arrays.\n",
        "import numpy as np\n",
        "\n",
        "# Create a sequence of integers from\n",
        "# 10 to 1 with a step of -2\n",
        "a = np.arange(10, 1, -2)\n",
        "print(\"\\n A sequential array with a negative step: \\n\",a)\n",
        "\n",
        "# Indexes are specified inside the np.array method.\n",
        "newarr = a[np.array([3, 1, 2 ])]\n",
        "print(\"\\n Elements at these indices are:\\n\",newarr)"
      ],
      "metadata": {
        "colab": {
          "base_uri": "https://localhost:8080/"
        },
        "id": "MTvdN-dTF-cZ",
        "outputId": "f68e908b-7513-4cdd-8203-41270d09e2d0"
      },
      "execution_count": 85,
      "outputs": [
        {
          "output_type": "stream",
          "name": "stdout",
          "text": [
            "\n",
            " A sequential array with a negative step: \n",
            " [10  8  6  4  2]\n",
            "\n",
            " Elements at these indices are:\n",
            " [4 8 6]\n"
          ]
        }
      ]
    }
  ]
}