{
  "cells": [
    {
      "cell_type": "markdown",
      "metadata": {
        "id": "view-in-github",
        "colab_type": "text"
      },
      "source": [
        "<a href=\"https://colab.research.google.com/github/PrashantSBasnet/L3_Sem2/blob/master/Week6/SubClasses.ipynb\" target=\"_parent\"><img src=\"https://colab.research.google.com/assets/colab-badge.svg\" alt=\"Open In Colab\"/></a>"
      ]
    },
    {
      "cell_type": "code",
      "execution_count": 21,
      "metadata": {
        "colab": {
          "base_uri": "https://localhost:8080/"
        },
        "id": "Ltd8LVUulYzV",
        "outputId": "e120edf4-4df4-4655-b859-f73245172435"
      },
      "outputs": [
        {
          "output_type": "stream",
          "name": "stdout",
          "text": [
            "1 Pratyush 3\n",
            "2 Shubham 3\n"
          ]
        }
      ],
      "source": [
        "class Student:\n",
        "  def __init__(self, id, name, level):\n",
        "    self.id = id\n",
        "    self.name = name\n",
        "    self.level = level\n",
        "\n",
        "  def show(self):\n",
        "    print (self.id, self.name,self.level)\n",
        "\n",
        "s1 = Student(1, 'Pratyush', 3)\n",
        "s2 = Student(2, 'Shubham', 3)\n",
        "\n",
        "s1.show()\n",
        "s2.show()"
      ]
    },
    {
      "cell_type": "code",
      "execution_count": 22,
      "metadata": {
        "id": "Q5NQRVDymNgP"
      },
      "outputs": [],
      "source": [
        "class Student:\n",
        "  def __init__(self, id, name, level):\n",
        "    self.id = id\n",
        "    self.name = name\n",
        "    self.level = level\n",
        "    self.objAdd = self.Address() #creating object of inner class inside the outer class\n",
        "\n",
        "  def show(self):\n",
        "    print (self.id, self.name,self.level)\n",
        "\n",
        "  class Address:\n",
        "      def __init__(self):\n",
        "        self.country = 'Nepal'\n",
        "        self.city = 'Kathmandu'\n",
        "\n"
      ]
    },
    {
      "cell_type": "code",
      "execution_count": 23,
      "metadata": {
        "id": "EQRQTQjamzn_"
      },
      "outputs": [],
      "source": [
        "objStd = Student(3, 'Grishma',3)\n"
      ]
    },
    {
      "cell_type": "code",
      "execution_count": 24,
      "metadata": {
        "id": "Lt99rIMvnbPD"
      },
      "outputs": [],
      "source": [
        "inObj = Student.Address()  #creating object of inner class outside the outer class provided you use outer class name to call it"
      ]
    },
    {
      "cell_type": "code",
      "execution_count": 25,
      "metadata": {
        "id": "bTAAXEqUn-pi"
      },
      "outputs": [],
      "source": [
        "class StudentEg:\n",
        "  def __init__(self, id, name, level):\n",
        "    self.id = id\n",
        "    self.name = name\n",
        "    self.level = level\n",
        "    self.objAdd = self.Address() #creating object of inner class in the outer class\n",
        "\n",
        "  def show(self):\n",
        "    print (self.id, self.name,self.level)\n",
        "    self.objAdd.show() #inner class method\n",
        "\n",
        "  class Address:\n",
        "      def __init__(self):\n",
        "        self.country = 'Nepal'\n",
        "        self.city = 'Kathmandu'\n",
        "\n",
        "      def show(self):\n",
        "        print (self.country, self.city)\n",
        "\n"
      ]
    },
    {
      "cell_type": "code",
      "execution_count": null,
      "metadata": {
        "colab": {
          "base_uri": "https://localhost:8080/"
        },
        "id": "ij_JFPz7oM-P",
        "outputId": "af85e4c9-f33c-4382-ecbb-d6baae1a08ba"
      },
      "outputs": [
        {
          "name": "stdout",
          "output_type": "stream",
          "text": [
            "4 Grishma 3\n",
            "Nepal Kathmandu\n"
          ]
        }
      ],
      "source": [
        "obj1 = StudentEg(4, 'Grishma', 3)\n",
        "obj1.show()\n"
      ]
    }
  ],
  "metadata": {
    "colab": {
      "provenance": [],
      "authorship_tag": "ABX9TyNKgRYkboHZ1nz7+FXy6+La",
      "include_colab_link": true
    },
    "kernelspec": {
      "display_name": "Python 3",
      "name": "python3"
    },
    "language_info": {
      "name": "python"
    }
  },
  "nbformat": 4,
  "nbformat_minor": 0
}