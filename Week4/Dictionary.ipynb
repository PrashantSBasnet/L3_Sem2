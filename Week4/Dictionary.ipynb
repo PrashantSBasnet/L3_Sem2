{
  "nbformat": 4,
  "nbformat_minor": 0,
  "metadata": {
    "colab": {
      "provenance": [],
      "authorship_tag": "ABX9TyPb67yIBhWl2zVDO68CXmCn",
      "include_colab_link": true
    },
    "kernelspec": {
      "name": "python3",
      "display_name": "Python 3"
    },
    "language_info": {
      "name": "python"
    }
  },
  "cells": [
    {
      "cell_type": "markdown",
      "metadata": {
        "id": "view-in-github",
        "colab_type": "text"
      },
      "source": [
        "<a href=\"https://colab.research.google.com/github/PrashantSBasnet/L3_Sem2/blob/master/Week4/Dictionary.ipynb\" target=\"_parent\"><img src=\"https://colab.research.google.com/assets/colab-badge.svg\" alt=\"Open In Colab\"/></a>"
      ]
    },
    {
      "cell_type": "markdown",
      "source": [
        "**Dictionaries**\n",
        "\n",
        "\n",
        "\n",
        "*   A dictionary is a mutable data type that stores mappings of unique keys to values.\n",
        "*   Items are preserved in key:value pairs\n",
        "{key,value} ---> {1, \"Name1\"}, {2, \"Name2\"}, {3, \"Name3\"}\n",
        "* Dictionaries can have keys of any immutable type, like integers or tuples, not just strings. It's not even necessary for every key to have the same type!\n",
        "*  Dictionaries cannot have two items with the same key. Duplicates are not allowed in the key. Values can be duplicate.\n",
        "   {1, \"Ram\"}, {2, \"Ram\"}, {3, \"Shyam\"}  ---> Allowed\n",
        "   {1, \"Ram\"}, {1, \"Ram\"} ---> Not Allowed\n",
        "*   Dictionary items are ordered (from 3.7 version onwards), changeable and do not allow duplicates\n",
        "\n",
        "Ordered - when you iterate through a dictionary, the order of items will be the same as they were added to the dictionary\n",
        "\n",
        "Unordered - The elements can be arranged in any order, and there is no guarantee that the order will be maintained\n",
        "           - does not involve using indices because there is no predetermined position for each item.\n",
        "\n",
        "\n",
        "\n",
        "\n",
        "\n",
        "\n",
        "\n",
        "\n",
        "\n"
      ],
      "metadata": {
        "id": "YDjYI8Q8xY26"
      }
    },
    {
      "cell_type": "code",
      "source": [
        "thisdict ={ \"id\": 1, \"name\": \"ShivNath\"}"
      ],
      "metadata": {
        "id": "WN7IwpLrzCYH"
      },
      "execution_count": 1,
      "outputs": []
    },
    {
      "cell_type": "code",
      "source": [
        "print (thisdict)"
      ],
      "metadata": {
        "colab": {
          "base_uri": "https://localhost:8080/"
        },
        "id": "SEXtXWrI1R73",
        "outputId": "0a85be08-509d-4284-87ad-8782e474d8bd"
      },
      "execution_count": 2,
      "outputs": [
        {
          "output_type": "stream",
          "name": "stdout",
          "text": [
            "{'id': 1, 'name': 'ShivNath'}\n"
          ]
        }
      ]
    },
    {
      "cell_type": "code",
      "source": [
        "#attempting to insert a key that already exists, the new value will simply overwrite the existing one\n",
        "thisdict ={ \"id\": 1, \"name\": \"RamNath\"}\n",
        "print (thisdict)"
      ],
      "metadata": {
        "colab": {
          "base_uri": "https://localhost:8080/"
        },
        "id": "ZVzsDWn-1WnB",
        "outputId": "2b682744-3eee-4721-d193-afedb429e75c"
      },
      "execution_count": 3,
      "outputs": [
        {
          "output_type": "stream",
          "name": "stdout",
          "text": [
            "{'id': 1, 'name': 'RamNath'}\n"
          ]
        }
      ]
    },
    {
      "cell_type": "code",
      "source": [
        "thisdict = {\n",
        "    \"id\":1,\n",
        "    \"name\":\"Ram\"\n",
        "}"
      ],
      "metadata": {
        "id": "aDdt9eUG1ZbG"
      },
      "execution_count": 4,
      "outputs": []
    },
    {
      "cell_type": "code",
      "source": [
        "print (thisdict[\"name\"])  #accessing via key"
      ],
      "metadata": {
        "colab": {
          "base_uri": "https://localhost:8080/"
        },
        "id": "iwMBclbG1b5h",
        "outputId": "05e56d18-63ed-4fc4-ff1d-cbc42d9462c8"
      },
      "execution_count": 5,
      "outputs": [
        {
          "output_type": "stream",
          "name": "stdout",
          "text": [
            "Ram\n"
          ]
        }
      ]
    },
    {
      "cell_type": "code",
      "source": [
        "#order is maintained\n",
        "dict1= {1:\"One\", 2:\"Two\", 3:\"Three\"}\n",
        "print(dict1)  #is printed in the same order as it was inserted\n"
      ],
      "metadata": {
        "colab": {
          "base_uri": "https://localhost:8080/"
        },
        "id": "HlpXJi4g1dtB",
        "outputId": "4bdfcfb2-4f4b-4933-d660-37190bab91d8"
      },
      "execution_count": 6,
      "outputs": [
        {
          "output_type": "stream",
          "name": "stdout",
          "text": [
            "{1: 'One', 2: 'Two', 3: 'Three'}\n"
          ]
        }
      ]
    },
    {
      "cell_type": "code",
      "source": [
        "#using dict() constructor to\n",
        "dict3 = dict(id=1, name=\"Using Constructor\")\n",
        "print(dict3)"
      ],
      "metadata": {
        "colab": {
          "base_uri": "https://localhost:8080/"
        },
        "id": "RssDSmHn1fg7",
        "outputId": "32f6b733-f6f9-4084-9359-06e3819b398b"
      },
      "execution_count": 7,
      "outputs": [
        {
          "output_type": "stream",
          "name": "stdout",
          "text": [
            "{'id': 1, 'name': 'Using Constructor'}\n"
          ]
        }
      ]
    },
    {
      "cell_type": "code",
      "source": [
        "#values can be duplicates\n",
        "dict2 ={1:\"Apple\", 2:\"Ball\", 3:\"Cat\", 4:\"Apple\"}\n",
        "print(dict2)"
      ],
      "metadata": {
        "colab": {
          "base_uri": "https://localhost:8080/"
        },
        "id": "37YbOwqe1hpE",
        "outputId": "2839d1a7-8a40-477c-d637-3bd95e3ca46b"
      },
      "execution_count": 8,
      "outputs": [
        {
          "output_type": "stream",
          "name": "stdout",
          "text": [
            "{1: 'Apple', 2: 'Ball', 3: 'Cat', 4: 'Apple'}\n"
          ]
        }
      ]
    },
    {
      "cell_type": "code",
      "source": [
        "#length\n",
        "print(len(dict2))"
      ],
      "metadata": {
        "colab": {
          "base_uri": "https://localhost:8080/"
        },
        "id": "w1v28tg11jpZ",
        "outputId": "00b4d944-4994-453a-82c3-c7e3eaded9f1"
      },
      "execution_count": 9,
      "outputs": [
        {
          "output_type": "stream",
          "name": "stdout",
          "text": [
            "4\n"
          ]
        }
      ]
    },
    {
      "cell_type": "code",
      "source": [
        "#values in dictionary can be of any data types\n",
        "thisdict = {\n",
        "  \"brand\": \"Ford\",\n",
        "  \"electric\": False,\n",
        "  \"year\": 1964,\n",
        "  \"mileage\": 12.34,\n",
        "  \"colors\": [\"red\", \"white\", \"blue\"]\n",
        "}\n"
      ],
      "metadata": {
        "id": "vPpjjgRR1mAa"
      },
      "execution_count": 10,
      "outputs": []
    },
    {
      "cell_type": "code",
      "source": [
        "#data type of dictionary?\n",
        "#Python defines dictionaries as objects with the data type 'dict'\n",
        "print(type(thisdict))"
      ],
      "metadata": {
        "colab": {
          "base_uri": "https://localhost:8080/"
        },
        "id": "k4vldbSC1w2p",
        "outputId": "e9a23269-524d-404c-ebfc-b2242cc5306a"
      },
      "execution_count": 11,
      "outputs": [
        {
          "output_type": "stream",
          "name": "stdout",
          "text": [
            "<class 'dict'>\n"
          ]
        }
      ]
    },
    {
      "cell_type": "code",
      "source": [
        "#accessing the dictionary\n",
        "sampleDict = {'country': 'Nepal', 'continent': 'Asia', 'HDI': 0.62}\n",
        "print (sampleDict)"
      ],
      "metadata": {
        "colab": {
          "base_uri": "https://localhost:8080/"
        },
        "id": "EIa4WTyV1wu0",
        "outputId": "f3d830f2-104e-49e6-9546-8c162d709444"
      },
      "execution_count": 12,
      "outputs": [
        {
          "output_type": "stream",
          "name": "stdout",
          "text": [
            "{'country': 'Nepal', 'continent': 'Asia', 'HDI': 0.62}\n"
          ]
        }
      ]
    },
    {
      "cell_type": "code",
      "source": [
        "#via key\n",
        "print(sampleDict['continent'])"
      ],
      "metadata": {
        "colab": {
          "base_uri": "https://localhost:8080/"
        },
        "id": "BWSrs6Tk10WM",
        "outputId": "6f76d40b-ef90-435c-da44-64e4d0d08249"
      },
      "execution_count": 13,
      "outputs": [
        {
          "output_type": "stream",
          "name": "stdout",
          "text": [
            "Asia\n"
          ]
        }
      ]
    },
    {
      "cell_type": "code",
      "source": [
        "#changing values via key\n",
        "sampleDict[\"HDI\"]=0.64\n",
        "print (sampleDict)"
      ],
      "metadata": {
        "colab": {
          "base_uri": "https://localhost:8080/"
        },
        "id": "nC9VXJRb1kmG",
        "outputId": "76e0c119-f572-4eef-d06b-1687c5d00a0e"
      },
      "execution_count": 14,
      "outputs": [
        {
          "output_type": "stream",
          "name": "stdout",
          "text": [
            "{'country': 'Nepal', 'continent': 'Asia', 'HDI': 0.64}\n"
          ]
        }
      ]
    },
    {
      "cell_type": "code",
      "source": [
        "#adding items\n",
        "sampleDict[\"GDP\"] = 36.29\n",
        "print (sampleDict)"
      ],
      "metadata": {
        "colab": {
          "base_uri": "https://localhost:8080/"
        },
        "id": "QKshU-Yx19Di",
        "outputId": "10eb734a-284c-4e52-c276-7436e87d8650"
      },
      "execution_count": 15,
      "outputs": [
        {
          "output_type": "stream",
          "name": "stdout",
          "text": [
            "{'country': 'Nepal', 'continent': 'Asia', 'HDI': 0.64, 'GDP': 36.29}\n"
          ]
        }
      ]
    },
    {
      "cell_type": "code",
      "source": [
        "#removing\n",
        "#pop() method is used\n",
        "sampleDict.pop(\"GDP\")\n",
        "print (sampleDict)"
      ],
      "metadata": {
        "colab": {
          "base_uri": "https://localhost:8080/"
        },
        "id": "sZuewj0H2CTj",
        "outputId": "6428dd9a-dbea-4f2f-a956-e38d58c82369"
      },
      "execution_count": 16,
      "outputs": [
        {
          "output_type": "stream",
          "name": "stdout",
          "text": [
            "{'country': 'Nepal', 'continent': 'Asia', 'HDI': 0.64}\n"
          ]
        }
      ]
    },
    {
      "cell_type": "code",
      "source": [
        "#popitem() removes the last inserted items\n",
        "sampleDict.popitem()\n",
        "print(sampleDict)"
      ],
      "metadata": {
        "colab": {
          "base_uri": "https://localhost:8080/"
        },
        "id": "3CBu5vKE2D1i",
        "outputId": "a1efd061-f94f-4ad9-eb44-f5ccd46ee77a"
      },
      "execution_count": 17,
      "outputs": [
        {
          "output_type": "stream",
          "name": "stdout",
          "text": [
            "{'country': 'Nepal', 'continent': 'Asia'}\n"
          ]
        }
      ]
    },
    {
      "cell_type": "code",
      "source": [
        "#del keyword removes the item with the specified key name\n",
        "del sampleDict[\"continent\"]\n",
        "print(sampleDict)"
      ],
      "metadata": {
        "colab": {
          "base_uri": "https://localhost:8080/"
        },
        "id": "qK4EDiht2FY6",
        "outputId": "4b2627f3-bee0-4a57-f3c9-ca6c77b2946b"
      },
      "execution_count": 18,
      "outputs": [
        {
          "output_type": "stream",
          "name": "stdout",
          "text": [
            "{'country': 'Nepal'}\n"
          ]
        }
      ]
    },
    {
      "cell_type": "markdown",
      "source": [
        "del(sampleDict)  this will delete the dictionary itself"
      ],
      "metadata": {
        "id": "2H1DtIiz2HdV"
      }
    },
    {
      "cell_type": "code",
      "source": [
        "#to clear the dictionary\n",
        "sampleDict.clear()\n",
        "print(sampleDict)"
      ],
      "metadata": {
        "colab": {
          "base_uri": "https://localhost:8080/"
        },
        "id": "qJTcI7SC2JPd",
        "outputId": "4e480083-1a07-4021-ab14-b1b5f3042eed"
      },
      "execution_count": 19,
      "outputs": [
        {
          "output_type": "stream",
          "name": "stdout",
          "text": [
            "{}\n"
          ]
        }
      ]
    }
  ]
}