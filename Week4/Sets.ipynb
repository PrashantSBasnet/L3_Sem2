{
  "nbformat": 4,
  "nbformat_minor": 0,
  "metadata": {
    "colab": {
      "provenance": [],
      "authorship_tag": "ABX9TyMQJE77czkw/MHYXcwgwIbX",
      "include_colab_link": true
    },
    "kernelspec": {
      "name": "python3",
      "display_name": "Python 3"
    },
    "language_info": {
      "name": "python"
    }
  },
  "cells": [
    {
      "cell_type": "markdown",
      "metadata": {
        "id": "view-in-github",
        "colab_type": "text"
      },
      "source": [
        "<a href=\"https://colab.research.google.com/github/PrashantSBasnet/L3_Sem2/blob/master/Week4/Sets.ipynb\" target=\"_parent\"><img src=\"https://colab.research.google.com/assets/colab-badge.svg\" alt=\"Open In Colab\"/></a>"
      ]
    },
    {
      "cell_type": "markdown",
      "source": [
        "**Sets**\n",
        "\n",
        "*   stores multiple items in a single variable\n",
        "*   Unordered - can appear in a different order every time you use them, and cannot be referred to by index or key\n",
        "*   Unchangeable but items can be removed and new items can be added\n",
        "*   Unindexed\n",
        "\n",
        "\n",
        "\n"
      ],
      "metadata": {
        "id": "D_P77ons4Lps"
      }
    },
    {
      "cell_type": "code",
      "execution_count": 2,
      "metadata": {
        "colab": {
          "base_uri": "https://localhost:8080/"
        },
        "id": "RP7fVrwp4HVa",
        "outputId": "7a0a1d31-a2f1-4aa8-98bd-283cb559684c"
      },
      "outputs": [
        {
          "output_type": "stream",
          "name": "stdout",
          "text": [
            "{'apple', 'cherry', 'banana'}\n"
          ]
        }
      ],
      "source": [
        "thisset = {\"apple\", \"banana\", \"cherry\"}\n",
        "print(thisset)"
      ]
    },
    {
      "cell_type": "code",
      "source": [
        "#duplicates not allowed\n",
        "thisset = {\"apple\", \"banana\", \"cherry\", \"apple\"}\n",
        "print(thisset)"
      ],
      "metadata": {
        "colab": {
          "base_uri": "https://localhost:8080/"
        },
        "id": "togtLsa14t2e",
        "outputId": "6f5a463e-5f38-4cf1-c2a5-f258f36c8b48"
      },
      "execution_count": 3,
      "outputs": [
        {
          "output_type": "stream",
          "name": "stdout",
          "text": [
            "{'apple', 'cherry', 'banana'}\n"
          ]
        }
      ]
    },
    {
      "cell_type": "code",
      "source": [
        "#True and 1   False and 0  considered the same value\n",
        "thisset = {\"apple\", \"banana\", \"cherry\", True, 1, 2}\n",
        "print(thisset)\n"
      ],
      "metadata": {
        "colab": {
          "base_uri": "https://localhost:8080/"
        },
        "id": "DR80F1Fq4wOA",
        "outputId": "6f149a24-e902-45c3-edc5-6a495835ec17"
      },
      "execution_count": 4,
      "outputs": [
        {
          "output_type": "stream",
          "name": "stdout",
          "text": [
            "{True, 2, 'cherry', 'apple', 'banana'}\n"
          ]
        }
      ]
    },
    {
      "cell_type": "code",
      "source": [
        "print(len(thisset))"
      ],
      "metadata": {
        "colab": {
          "base_uri": "https://localhost:8080/"
        },
        "id": "i-CJTLuC4y5z",
        "outputId": "689cb0ca-d641-4dd5-83f7-25d8bd50aa5f"
      },
      "execution_count": 5,
      "outputs": [
        {
          "output_type": "stream",
          "name": "stdout",
          "text": [
            "5\n"
          ]
        }
      ]
    },
    {
      "cell_type": "code",
      "source": [
        "#adding item\n",
        "thisset.add(\"banana\")"
      ],
      "metadata": {
        "id": "RYTnpl8X40xI"
      },
      "execution_count": 6,
      "outputs": []
    },
    {
      "cell_type": "code",
      "source": [
        "#adding another set into the current set\n",
        "theSet1 = {\"A\", \"B\", \"C\", \"Cat\"}\n",
        "theSet2 = {\"Horse\", \"Crocodile\", \"Elephant\"}"
      ],
      "metadata": {
        "id": "5kQQ5IOJ42Sl"
      },
      "execution_count": 7,
      "outputs": []
    },
    {
      "cell_type": "code",
      "source": [
        "theSet1.update(theSet2)\n",
        "print(theSet1)\n",
        "print(\"\")"
      ],
      "metadata": {
        "colab": {
          "base_uri": "https://localhost:8080/"
        },
        "id": "okHH5KIM45BP",
        "outputId": "66fdf960-7a2c-4cbb-fec5-1dd17de03768"
      },
      "execution_count": 8,
      "outputs": [
        {
          "output_type": "stream",
          "name": "stdout",
          "text": [
            "{'Horse', 'Crocodile', 'Cat', 'C', 'A', 'Elephant', 'B'}\n",
            "\n"
          ]
        }
      ]
    },
    {
      "cell_type": "code",
      "source": [
        "#removing\n",
        "theSet1.remove(\"A\")\n",
        "print(theSet1)"
      ],
      "metadata": {
        "colab": {
          "base_uri": "https://localhost:8080/"
        },
        "id": "M-Cf8OCT46Sf",
        "outputId": "2cdff13d-7fb2-4a68-c24d-22f385dcc00f"
      },
      "execution_count": 9,
      "outputs": [
        {
          "output_type": "stream",
          "name": "stdout",
          "text": [
            "{'Horse', 'Crocodile', 'Cat', 'C', 'Elephant', 'B'}\n"
          ]
        }
      ]
    },
    {
      "cell_type": "code",
      "source": [
        "#looping\n",
        "for x in thisset:\n",
        "    print(x)"
      ],
      "metadata": {
        "colab": {
          "base_uri": "https://localhost:8080/"
        },
        "id": "gIAHXo4447je",
        "outputId": "f21262b9-1b03-4f70-a645-60c525d1deba"
      },
      "execution_count": 10,
      "outputs": [
        {
          "output_type": "stream",
          "name": "stdout",
          "text": [
            "True\n",
            "2\n",
            "cherry\n",
            "apple\n",
            "banana\n"
          ]
        }
      ]
    }
  ]
}