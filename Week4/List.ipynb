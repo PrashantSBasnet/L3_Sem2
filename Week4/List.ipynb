{
  "nbformat": 4,
  "nbformat_minor": 0,
  "metadata": {
    "colab": {
      "provenance": [],
      "authorship_tag": "ABX9TyMI4IpRweE+P85psOFISntl",
      "include_colab_link": true
    },
    "kernelspec": {
      "name": "python3",
      "display_name": "Python 3"
    },
    "language_info": {
      "name": "python"
    }
  },
  "cells": [
    {
      "cell_type": "markdown",
      "metadata": {
        "id": "view-in-github",
        "colab_type": "text"
      },
      "source": [
        "<a href=\"https://colab.research.google.com/github/PrashantSBasnet/L3_Sem2/blob/master/Week4/List.ipynb\" target=\"_parent\"><img src=\"https://colab.research.google.com/assets/colab-badge.svg\" alt=\"Open In Colab\"/></a>"
      ]
    },
    {
      "cell_type": "markdown",
      "source": [
        "List\n",
        "\n",
        "*   A mutable ordered sequences of elements. A list is one of the most common and basic data structure in Python\n",
        "*   Order of the elements is maintained\n",
        "*   Mutable (their elements can be modified using various methods like append(), remove())\n",
        "*   Supports heterogenous elements\n",
        "*   Dynamic (grows and shrinks in size)\n",
        "*   Supports indexing and slicing\n",
        "\n",
        "\n",
        "\n",
        "\n",
        "\n",
        "\n",
        "\n",
        "\n"
      ],
      "metadata": {
        "id": "1aTMt_8r3B5x"
      }
    },
    {
      "cell_type": "code",
      "source": [
        "theList = [\"cat\", \"dog\", \"elephant\"]\n",
        "print (theList)"
      ],
      "metadata": {
        "colab": {
          "base_uri": "https://localhost:8080/"
        },
        "id": "odziBH4F3b1u",
        "outputId": "376da47d-f220-457b-fb08-b54a04cb1da6"
      },
      "execution_count": 1,
      "outputs": [
        {
          "output_type": "stream",
          "name": "stdout",
          "text": [
            "['cat', 'dog', 'elephant']\n"
          ]
        }
      ]
    },
    {
      "cell_type": "code",
      "source": [
        "theList2 = [\"apple\", \"apple\", None, 13, 53.55]\n",
        "print (theList2)"
      ],
      "metadata": {
        "colab": {
          "base_uri": "https://localhost:8080/"
        },
        "id": "wGP7g72a3fkb",
        "outputId": "b49406fc-7d2e-4d89-d0b4-a5fb316676db"
      },
      "execution_count": 2,
      "outputs": [
        {
          "output_type": "stream",
          "name": "stdout",
          "text": [
            "['apple', 'apple', None, 13, 53.55]\n"
          ]
        }
      ]
    },
    {
      "cell_type": "code",
      "source": [
        "#insert\n",
        "theList2.insert(13, \"Thirteen\")\n",
        "print (theList2)"
      ],
      "metadata": {
        "colab": {
          "base_uri": "https://localhost:8080/"
        },
        "id": "co5YDumj3ghs",
        "outputId": "7cb5d3df-8f4c-48f1-a63c-c2409cddc8d7"
      },
      "execution_count": 3,
      "outputs": [
        {
          "output_type": "stream",
          "name": "stdout",
          "text": [
            "['apple', 'apple', None, 13, 53.55, 'Thirteen']\n"
          ]
        }
      ]
    },
    {
      "cell_type": "code",
      "source": [
        "#append\n",
        "theList2.append(\"moreValues\")\n",
        "print(theList2)"
      ],
      "metadata": {
        "colab": {
          "base_uri": "https://localhost:8080/"
        },
        "id": "pPmfJFZj3i5s",
        "outputId": "3ac3c510-518a-47a4-98db-c98d607839a3"
      },
      "execution_count": 11,
      "outputs": [
        {
          "output_type": "stream",
          "name": "stdout",
          "text": [
            "['apple', 'apple', None, 13, 53.55, 'Thirteen', 'moreValues']\n"
          ]
        }
      ]
    },
    {
      "cell_type": "code",
      "source": [
        "#remove\n",
        "theList2.remove('moreValues')\n",
        "print(theList2)"
      ],
      "metadata": {
        "colab": {
          "base_uri": "https://localhost:8080/"
        },
        "id": "YpOg5-tT3lR4",
        "outputId": "c2cac672-88df-4db6-8fbf-a8c61aa665a3"
      },
      "execution_count": 12,
      "outputs": [
        {
          "output_type": "stream",
          "name": "stdout",
          "text": [
            "['apple', 'apple', None, 13, 53.55, 'Thirteen']\n"
          ]
        }
      ]
    },
    {
      "cell_type": "code",
      "source": [
        "#length\n",
        "print (len(theList2))"
      ],
      "metadata": {
        "colab": {
          "base_uri": "https://localhost:8080/"
        },
        "id": "wVtohVn73muW",
        "outputId": "562fd6a2-6a99-43a4-8fe7-c31ce0d5834a"
      },
      "execution_count": 6,
      "outputs": [
        {
          "output_type": "stream",
          "name": "stdout",
          "text": [
            "7\n"
          ]
        }
      ]
    },
    {
      "cell_type": "code",
      "source": [
        "#concatenation\n",
        "print(theList+theList2)"
      ],
      "metadata": {
        "colab": {
          "base_uri": "https://localhost:8080/"
        },
        "id": "w8rV9-yY3upl",
        "outputId": "15a70b51-b3eb-4656-e0e0-8e3dd6ad2e10"
      },
      "execution_count": 10,
      "outputs": [
        {
          "output_type": "stream",
          "name": "stdout",
          "text": [
            "['cat', 'dog', 'elephant', 'apple', 'apple', None, 13, 53.55, 'Thirteen']\n"
          ]
        }
      ]
    }
  ]
}