{
  "nbformat": 4,
  "nbformat_minor": 0,
  "metadata": {
    "colab": {
      "provenance": [],
      "authorship_tag": "ABX9TyNGp0Nbb6xdfHoGDa4pGdhJ",
      "include_colab_link": true
    },
    "kernelspec": {
      "name": "python3",
      "display_name": "Python 3"
    },
    "language_info": {
      "name": "python"
    }
  },
  "cells": [
    {
      "cell_type": "markdown",
      "metadata": {
        "id": "view-in-github",
        "colab_type": "text"
      },
      "source": [
        "<a href=\"https://colab.research.google.com/github/PrashantSBasnet/L3_Sem2/blob/master/Week4/Tuples.ipynb\" target=\"_parent\"><img src=\"https://colab.research.google.com/assets/colab-badge.svg\" alt=\"Open In Colab\"/></a>"
      ]
    },
    {
      "cell_type": "markdown",
      "source": [
        "**Tuples**\n",
        "\n",
        "\n",
        "*   Stores multiple items in a single variable\n",
        "*   Ordered - defined order and it will not change\n",
        "*   Unchangeable - the items cannot be changed, added or removed after the tuple has been created\n",
        "*   Allows Duplicates\n",
        "*   It can contain different datatypes\n",
        "*   It's a data type for immutable ordered sequences of elements\n",
        "*   They are often used to store related pieces of information\n",
        "*   Tuples are similar to lists in that they store an ordered collection of objects which can be accessed by their indices.Unlike lists, however, tuples are immutable - you can't add and remove items from tuples, or sort them in placewhich can be accessed by their indices\n",
        "\n",
        "\n",
        "\n",
        "\n",
        "\n",
        "\n",
        "\n",
        "\n",
        "\n",
        "\n"
      ],
      "metadata": {
        "id": "ja1NT1sp5jVr"
      }
    },
    {
      "cell_type": "code",
      "source": [],
      "metadata": {
        "id": "A4qXmIgp9SnY"
      },
      "execution_count": null,
      "outputs": []
    },
    {
      "cell_type": "code",
      "execution_count": 1,
      "metadata": {
        "id": "mV2zE7ch5dAL"
      },
      "outputs": [],
      "source": [
        "theTuple = (\"Kathmandu\", \"Lalipur\", \"Bhaktapur\")"
      ]
    },
    {
      "cell_type": "code",
      "source": [
        "sampleTuple = (\"Banepa\")\n",
        "theTuple2 = (\"abc\", 32, True, 32)"
      ],
      "metadata": {
        "id": "Wu2LpITo9EcY"
      },
      "execution_count": 2,
      "outputs": []
    },
    {
      "cell_type": "code",
      "source": [
        "print (theTuple)"
      ],
      "metadata": {
        "colab": {
          "base_uri": "https://localhost:8080/"
        },
        "id": "ayzP117D9E6W",
        "outputId": "430c0f48-f664-4d0a-e515-f325529cfdbe"
      },
      "execution_count": 3,
      "outputs": [
        {
          "output_type": "stream",
          "name": "stdout",
          "text": [
            "('Kathmandu', 'Lalipur', 'Bhaktapur')\n"
          ]
        }
      ]
    },
    {
      "cell_type": "code",
      "source": [
        "#length\n",
        "print(len(theTuple))"
      ],
      "metadata": {
        "colab": {
          "base_uri": "https://localhost:8080/"
        },
        "id": "sfaOLkBx9GjV",
        "outputId": "a36d3d00-7d28-4a05-82f8-302431764b1a"
      },
      "execution_count": 4,
      "outputs": [
        {
          "output_type": "stream",
          "name": "stdout",
          "text": [
            "3\n"
          ]
        }
      ]
    }
  ]
}