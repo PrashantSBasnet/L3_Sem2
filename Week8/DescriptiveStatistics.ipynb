{
  "nbformat": 4,
  "nbformat_minor": 0,
  "metadata": {
    "colab": {
      "provenance": [],
      "authorship_tag": "ABX9TyOzDP7I0j0j7KfEVAuDr9I0",
      "include_colab_link": true
    },
    "kernelspec": {
      "name": "python3",
      "display_name": "Python 3"
    },
    "language_info": {
      "name": "python"
    }
  },
  "cells": [
    {
      "cell_type": "markdown",
      "metadata": {
        "id": "view-in-github",
        "colab_type": "text"
      },
      "source": [
        "<a href=\"https://colab.research.google.com/github/PrashantSBasnet/L3_Sem2/blob/master/DescriptiveStatistics.ipynb\" target=\"_parent\"><img src=\"https://colab.research.google.com/assets/colab-badge.svg\" alt=\"Open In Colab\"/></a>"
      ]
    },
    {
      "cell_type": "markdown",
      "source": [
        "**Descriptive Statistics**\n",
        "\n",
        "The measures that summarize important features of data, often with a single number.It is a branch of statistics that deals with summarizing and describing the main features of a dataset.It provides tools and techniques to organize, visualize, and analyze data in order to gain insights into its characteristics.\n",
        "\n",
        "In Pandas, you can compute various descriptive statistics using built-in methods available for DataFrame and Series objects. Here are some common descriptive statistics methods in Pandas:"
      ],
      "metadata": {
        "id": "QhNCd_ZGQm05"
      }
    },
    {
      "cell_type": "code",
      "execution_count": null,
      "metadata": {
        "id": "31yQDmaVQjgI"
      },
      "outputs": [],
      "source": [
        "import pandas as pd"
      ]
    },
    {
      "cell_type": "markdown",
      "source": [
        "**describe()**: This method generates descriptive statistics that summarize the central tendency, dispersion, and shape of a dataset's distribution. It provides statistics such as count, mean, standard deviation, minimum, maximum, and quartiles for each numerical column in the DataFrame."
      ],
      "metadata": {
        "id": "7tVrHKPOTTte"
      }
    },
    {
      "cell_type": "code",
      "source": [
        "# Create a DataFrame\n",
        "data = {'A': [1, 2, 3, 4, 5],\n",
        "        'B': [6, 7, 8, 9, 10]}\n",
        "df = pd.DataFrame(data)\n",
        "\n",
        "# Generate descriptive statistics\n",
        "print(df.describe())"
      ],
      "metadata": {
        "colab": {
          "base_uri": "https://localhost:8080/"
        },
        "id": "JcfXfMKPTOqm",
        "outputId": "e7f2c640-0047-4c13-ae42-6ef9b12c36e7"
      },
      "execution_count": null,
      "outputs": [
        {
          "output_type": "stream",
          "name": "stdout",
          "text": [
            "              A          B\n",
            "count  5.000000   5.000000\n",
            "mean   3.000000   8.000000\n",
            "std    1.581139   1.581139\n",
            "min    1.000000   6.000000\n",
            "25%    2.000000   7.000000\n",
            "50%    3.000000   8.000000\n",
            "75%    4.000000   9.000000\n",
            "max    5.000000  10.000000\n"
          ]
        }
      ]
    },
    {
      "cell_type": "code",
      "source": [
        "#Create a Dictionary of series\n",
        "d = {'Name':pd.Series(['Abhinav','Aman','Ankit','Anoushka','Anushka','Aryan','Bardan',\n",
        "   'Dikshya','Dilasha','Enyous','Evenjellyna','Garima', 'Grishma']),\n",
        "   'Points':pd.Series([44,36,45,43,35,39,33,44,40,45,50,]),\n",
        "   'Rating':pd.Series([4.23,3.24,3.98,2.56,3.20,4.6,3.8,3.78,2.98,4.80,4.10,3.65])\n",
        "}"
      ],
      "metadata": {
        "id": "t4NxrkjjTtQZ"
      },
      "execution_count": null,
      "outputs": []
    },
    {
      "cell_type": "code",
      "source": [
        "#Create a DataFrame\n",
        "df = pd.DataFrame(d)\n",
        "print (df.sum())"
      ],
      "metadata": {
        "colab": {
          "base_uri": "https://localhost:8080/"
        },
        "id": "H0ECr2NcURGz",
        "outputId": "503237a8-ec89-4a80-e59d-776528e160fd"
      },
      "execution_count": null,
      "outputs": [
        {
          "output_type": "stream",
          "name": "stdout",
          "text": [
            "Name      AbhinavAmanAnkitAnoushkaAnushkaAryanBardanDiks...\n",
            "Points                                                454.0\n",
            "Rating                                                44.92\n",
            "dtype: object\n"
          ]
        }
      ]
    },
    {
      "cell_type": "markdown",
      "source": [
        "**mean()**\n",
        "\n",
        "Average Value"
      ],
      "metadata": {
        "id": "gh9Ys6OVUoI5"
      }
    },
    {
      "cell_type": "code",
      "source": [
        "print (df.mean())"
      ],
      "metadata": {
        "colab": {
          "base_uri": "https://localhost:8080/"
        },
        "id": "iCRrRG92Unrb",
        "outputId": "9380b6ad-a0a7-4f0a-e635-4508ccc45a24"
      },
      "execution_count": null,
      "outputs": [
        {
          "output_type": "stream",
          "name": "stdout",
          "text": [
            "Points    41.272727\n",
            "Rating     3.743333\n",
            "dtype: float64\n"
          ]
        },
        {
          "output_type": "stream",
          "name": "stderr",
          "text": [
            "<ipython-input-6-6577edf46a8e>:1: FutureWarning: The default value of numeric_only in DataFrame.mean is deprecated. In a future version, it will default to False. In addition, specifying 'numeric_only=None' is deprecated. Select only valid columns or specify the value of numeric_only to silence this warning.\n",
            "  print (df.mean())\n"
          ]
        }
      ]
    },
    {
      "cell_type": "code",
      "source": [
        "df['Points'].mean()"
      ],
      "metadata": {
        "colab": {
          "base_uri": "https://localhost:8080/"
        },
        "id": "3Rjb5rOJU5GM",
        "outputId": "3e78d159-74e1-4169-8a8b-7af83fcce0f9"
      },
      "execution_count": null,
      "outputs": [
        {
          "output_type": "execute_result",
          "data": {
            "text/plain": [
              "41.27272727272727"
            ]
          },
          "metadata": {},
          "execution_count": 7
        }
      ]
    },
    {
      "cell_type": "markdown",
      "source": [
        "**std()**\n",
        "\n",
        "Returns the Bressel standard deviation of the numerical columns."
      ],
      "metadata": {
        "id": "vnltRLJKVFIc"
      }
    },
    {
      "cell_type": "code",
      "source": [
        "print (df.std())"
      ],
      "metadata": {
        "colab": {
          "base_uri": "https://localhost:8080/"
        },
        "id": "QKnQGGDmVI3a",
        "outputId": "f80ab3fe-a2db-4cb2-cf66-92a479481765"
      },
      "execution_count": null,
      "outputs": [
        {
          "output_type": "stream",
          "name": "stdout",
          "text": [
            "Points    5.139862\n",
            "Rating    0.661628\n",
            "dtype: float64\n"
          ]
        },
        {
          "output_type": "stream",
          "name": "stderr",
          "text": [
            "<ipython-input-8-9d91f8c9ff12>:1: FutureWarning: The default value of numeric_only in DataFrame.std is deprecated. In a future version, it will default to False. In addition, specifying 'numeric_only=None' is deprecated. Select only valid columns or specify the value of numeric_only to silence this warning.\n",
            "  print (df.std())\n"
          ]
        }
      ]
    },
    {
      "cell_type": "markdown",
      "source": [
        "**Functions & Description**\n",
        "\n",
        "1. \tcount()\tNumber of non-null observations\n",
        "2. \tsum()\tSum of values\n",
        "3. \tmean()\tMean of Values\n",
        "4. \tmedian()\tMedian of Values\n",
        "5. \tmode()\tMode of values\n",
        "6. \tstd()\tStandard Deviation of the Values\n",
        "7. \tmin()\tMinimum Value\n",
        "8. \tmax()\tMaximum Value\n",
        "9. \tabs()\tAbsolute Value\n",
        "10.\tprod()\tProduct of Values\n",
        "11.\tcumsum()\tCumulative Sum\n",
        "12.\tcumprod()\tCumulative Product"
      ],
      "metadata": {
        "id": "viRquR_YVO_U"
      }
    },
    {
      "cell_type": "code",
      "source": [
        "cars = pd.read_csv('ford_escort.csv')"
      ],
      "metadata": {
        "id": "KzqyTl0jWnjm"
      },
      "execution_count": 20,
      "outputs": []
    },
    {
      "cell_type": "code",
      "source": [
        "print (cars.head(10))"
      ],
      "metadata": {
        "id": "YSplIEyQ7p1w",
        "outputId": "36d05573-10d6-458d-e788-79a87772401d",
        "colab": {
          "base_uri": "https://localhost:8080/"
        }
      },
      "execution_count": 21,
      "outputs": [
        {
          "output_type": "stream",
          "name": "stdout",
          "text": [
            "   Year   Mileage (thousands)    Price  Displacement  Km/Ltr\n",
            "0  1998                    27     9991          1200      12\n",
            "1  1997                    17     9925          1400      11\n",
            "2  1998                    28    10491          1600       8\n",
            "3  1998                     5    10990          1800       9\n",
            "4  1997                    38     9493          1600       8\n",
            "5  1997                    36     9991          1400       9\n",
            "6  1997                    24    10490          1200      10\n",
            "7  1997                    37     9491          1200      11\n",
            "8  1997                    38     9491          1400      12\n",
            "9  1997                    30     9990          1600       6\n"
          ]
        }
      ]
    },
    {
      "cell_type": "code",
      "source": [
        "cars.median()"
      ],
      "metadata": {
        "colab": {
          "base_uri": "https://localhost:8080/"
        },
        "id": "d3P29Zhn9n5v",
        "outputId": "7ba8a2c2-2c1d-4e97-c836-f295e0966cbd"
      },
      "execution_count": 22,
      "outputs": [
        {
          "output_type": "execute_result",
          "data": {
            "text/plain": [
              "Year                    1997.0\n",
              " Mileage (thousands)      30.0\n",
              "  Price                 9990.0\n",
              "Displacement            1400.0\n",
              "Km/Ltr                    10.0\n",
              "dtype: float64"
            ]
          },
          "metadata": {},
          "execution_count": 22
        }
      ]
    },
    {
      "cell_type": "code",
      "source": [
        "cars.mode()"
      ],
      "metadata": {
        "colab": {
          "base_uri": "https://localhost:8080/",
          "height": 143
        },
        "id": "IbiQZnpRASqg",
        "outputId": "08afbca6-62d3-4440-cd9c-e06e8c2debb2"
      },
      "execution_count": 24,
      "outputs": [
        {
          "output_type": "execute_result",
          "data": {
            "text/plain": [
              "     Year   Mileage (thousands)    Price  Displacement  Km/Ltr\n",
              "0  1997.0                  38.0   9990.0          1200    12.0\n",
              "1     NaN                   NaN      NaN          1400     NaN\n",
              "2     NaN                   NaN      NaN          1600     NaN"
            ],
            "text/html": [
              "\n",
              "  <div id=\"df-1deb041d-8773-4fd6-a461-21f1e16abb5a\" class=\"colab-df-container\">\n",
              "    <div>\n",
              "<style scoped>\n",
              "    .dataframe tbody tr th:only-of-type {\n",
              "        vertical-align: middle;\n",
              "    }\n",
              "\n",
              "    .dataframe tbody tr th {\n",
              "        vertical-align: top;\n",
              "    }\n",
              "\n",
              "    .dataframe thead th {\n",
              "        text-align: right;\n",
              "    }\n",
              "</style>\n",
              "<table border=\"1\" class=\"dataframe\">\n",
              "  <thead>\n",
              "    <tr style=\"text-align: right;\">\n",
              "      <th></th>\n",
              "      <th>Year</th>\n",
              "      <th>Mileage (thousands)</th>\n",
              "      <th>Price</th>\n",
              "      <th>Displacement</th>\n",
              "      <th>Km/Ltr</th>\n",
              "    </tr>\n",
              "  </thead>\n",
              "  <tbody>\n",
              "    <tr>\n",
              "      <th>0</th>\n",
              "      <td>1997.0</td>\n",
              "      <td>38.0</td>\n",
              "      <td>9990.0</td>\n",
              "      <td>1200</td>\n",
              "      <td>12.0</td>\n",
              "    </tr>\n",
              "    <tr>\n",
              "      <th>1</th>\n",
              "      <td>NaN</td>\n",
              "      <td>NaN</td>\n",
              "      <td>NaN</td>\n",
              "      <td>1400</td>\n",
              "      <td>NaN</td>\n",
              "    </tr>\n",
              "    <tr>\n",
              "      <th>2</th>\n",
              "      <td>NaN</td>\n",
              "      <td>NaN</td>\n",
              "      <td>NaN</td>\n",
              "      <td>1600</td>\n",
              "      <td>NaN</td>\n",
              "    </tr>\n",
              "  </tbody>\n",
              "</table>\n",
              "</div>\n",
              "    <div class=\"colab-df-buttons\">\n",
              "\n",
              "  <div class=\"colab-df-container\">\n",
              "    <button class=\"colab-df-convert\" onclick=\"convertToInteractive('df-1deb041d-8773-4fd6-a461-21f1e16abb5a')\"\n",
              "            title=\"Convert this dataframe to an interactive table.\"\n",
              "            style=\"display:none;\">\n",
              "\n",
              "  <svg xmlns=\"http://www.w3.org/2000/svg\" height=\"24px\" viewBox=\"0 -960 960 960\">\n",
              "    <path d=\"M120-120v-720h720v720H120Zm60-500h600v-160H180v160Zm220 220h160v-160H400v160Zm0 220h160v-160H400v160ZM180-400h160v-160H180v160Zm440 0h160v-160H620v160ZM180-180h160v-160H180v160Zm440 0h160v-160H620v160Z\"/>\n",
              "  </svg>\n",
              "    </button>\n",
              "\n",
              "  <style>\n",
              "    .colab-df-container {\n",
              "      display:flex;\n",
              "      gap: 12px;\n",
              "    }\n",
              "\n",
              "    .colab-df-convert {\n",
              "      background-color: #E8F0FE;\n",
              "      border: none;\n",
              "      border-radius: 50%;\n",
              "      cursor: pointer;\n",
              "      display: none;\n",
              "      fill: #1967D2;\n",
              "      height: 32px;\n",
              "      padding: 0 0 0 0;\n",
              "      width: 32px;\n",
              "    }\n",
              "\n",
              "    .colab-df-convert:hover {\n",
              "      background-color: #E2EBFA;\n",
              "      box-shadow: 0px 1px 2px rgba(60, 64, 67, 0.3), 0px 1px 3px 1px rgba(60, 64, 67, 0.15);\n",
              "      fill: #174EA6;\n",
              "    }\n",
              "\n",
              "    .colab-df-buttons div {\n",
              "      margin-bottom: 4px;\n",
              "    }\n",
              "\n",
              "    [theme=dark] .colab-df-convert {\n",
              "      background-color: #3B4455;\n",
              "      fill: #D2E3FC;\n",
              "    }\n",
              "\n",
              "    [theme=dark] .colab-df-convert:hover {\n",
              "      background-color: #434B5C;\n",
              "      box-shadow: 0px 1px 3px 1px rgba(0, 0, 0, 0.15);\n",
              "      filter: drop-shadow(0px 1px 2px rgba(0, 0, 0, 0.3));\n",
              "      fill: #FFFFFF;\n",
              "    }\n",
              "  </style>\n",
              "\n",
              "    <script>\n",
              "      const buttonEl =\n",
              "        document.querySelector('#df-1deb041d-8773-4fd6-a461-21f1e16abb5a button.colab-df-convert');\n",
              "      buttonEl.style.display =\n",
              "        google.colab.kernel.accessAllowed ? 'block' : 'none';\n",
              "\n",
              "      async function convertToInteractive(key) {\n",
              "        const element = document.querySelector('#df-1deb041d-8773-4fd6-a461-21f1e16abb5a');\n",
              "        const dataTable =\n",
              "          await google.colab.kernel.invokeFunction('convertToInteractive',\n",
              "                                                    [key], {});\n",
              "        if (!dataTable) return;\n",
              "\n",
              "        const docLinkHtml = 'Like what you see? Visit the ' +\n",
              "          '<a target=\"_blank\" href=https://colab.research.google.com/notebooks/data_table.ipynb>data table notebook</a>'\n",
              "          + ' to learn more about interactive tables.';\n",
              "        element.innerHTML = '';\n",
              "        dataTable['output_type'] = 'display_data';\n",
              "        await google.colab.output.renderOutput(dataTable, element);\n",
              "        const docLink = document.createElement('div');\n",
              "        docLink.innerHTML = docLinkHtml;\n",
              "        element.appendChild(docLink);\n",
              "      }\n",
              "    </script>\n",
              "  </div>\n",
              "\n",
              "\n",
              "<div id=\"df-03dd27c5-725d-45c6-bb53-f79d65b7524f\">\n",
              "  <button class=\"colab-df-quickchart\" onclick=\"quickchart('df-03dd27c5-725d-45c6-bb53-f79d65b7524f')\"\n",
              "            title=\"Suggest charts\"\n",
              "            style=\"display:none;\">\n",
              "\n",
              "<svg xmlns=\"http://www.w3.org/2000/svg\" height=\"24px\"viewBox=\"0 0 24 24\"\n",
              "     width=\"24px\">\n",
              "    <g>\n",
              "        <path d=\"M19 3H5c-1.1 0-2 .9-2 2v14c0 1.1.9 2 2 2h14c1.1 0 2-.9 2-2V5c0-1.1-.9-2-2-2zM9 17H7v-7h2v7zm4 0h-2V7h2v10zm4 0h-2v-4h2v4z\"/>\n",
              "    </g>\n",
              "</svg>\n",
              "  </button>\n",
              "\n",
              "<style>\n",
              "  .colab-df-quickchart {\n",
              "      --bg-color: #E8F0FE;\n",
              "      --fill-color: #1967D2;\n",
              "      --hover-bg-color: #E2EBFA;\n",
              "      --hover-fill-color: #174EA6;\n",
              "      --disabled-fill-color: #AAA;\n",
              "      --disabled-bg-color: #DDD;\n",
              "  }\n",
              "\n",
              "  [theme=dark] .colab-df-quickchart {\n",
              "      --bg-color: #3B4455;\n",
              "      --fill-color: #D2E3FC;\n",
              "      --hover-bg-color: #434B5C;\n",
              "      --hover-fill-color: #FFFFFF;\n",
              "      --disabled-bg-color: #3B4455;\n",
              "      --disabled-fill-color: #666;\n",
              "  }\n",
              "\n",
              "  .colab-df-quickchart {\n",
              "    background-color: var(--bg-color);\n",
              "    border: none;\n",
              "    border-radius: 50%;\n",
              "    cursor: pointer;\n",
              "    display: none;\n",
              "    fill: var(--fill-color);\n",
              "    height: 32px;\n",
              "    padding: 0;\n",
              "    width: 32px;\n",
              "  }\n",
              "\n",
              "  .colab-df-quickchart:hover {\n",
              "    background-color: var(--hover-bg-color);\n",
              "    box-shadow: 0 1px 2px rgba(60, 64, 67, 0.3), 0 1px 3px 1px rgba(60, 64, 67, 0.15);\n",
              "    fill: var(--button-hover-fill-color);\n",
              "  }\n",
              "\n",
              "  .colab-df-quickchart-complete:disabled,\n",
              "  .colab-df-quickchart-complete:disabled:hover {\n",
              "    background-color: var(--disabled-bg-color);\n",
              "    fill: var(--disabled-fill-color);\n",
              "    box-shadow: none;\n",
              "  }\n",
              "\n",
              "  .colab-df-spinner {\n",
              "    border: 2px solid var(--fill-color);\n",
              "    border-color: transparent;\n",
              "    border-bottom-color: var(--fill-color);\n",
              "    animation:\n",
              "      spin 1s steps(1) infinite;\n",
              "  }\n",
              "\n",
              "  @keyframes spin {\n",
              "    0% {\n",
              "      border-color: transparent;\n",
              "      border-bottom-color: var(--fill-color);\n",
              "      border-left-color: var(--fill-color);\n",
              "    }\n",
              "    20% {\n",
              "      border-color: transparent;\n",
              "      border-left-color: var(--fill-color);\n",
              "      border-top-color: var(--fill-color);\n",
              "    }\n",
              "    30% {\n",
              "      border-color: transparent;\n",
              "      border-left-color: var(--fill-color);\n",
              "      border-top-color: var(--fill-color);\n",
              "      border-right-color: var(--fill-color);\n",
              "    }\n",
              "    40% {\n",
              "      border-color: transparent;\n",
              "      border-right-color: var(--fill-color);\n",
              "      border-top-color: var(--fill-color);\n",
              "    }\n",
              "    60% {\n",
              "      border-color: transparent;\n",
              "      border-right-color: var(--fill-color);\n",
              "    }\n",
              "    80% {\n",
              "      border-color: transparent;\n",
              "      border-right-color: var(--fill-color);\n",
              "      border-bottom-color: var(--fill-color);\n",
              "    }\n",
              "    90% {\n",
              "      border-color: transparent;\n",
              "      border-bottom-color: var(--fill-color);\n",
              "    }\n",
              "  }\n",
              "</style>\n",
              "\n",
              "  <script>\n",
              "    async function quickchart(key) {\n",
              "      const quickchartButtonEl =\n",
              "        document.querySelector('#' + key + ' button');\n",
              "      quickchartButtonEl.disabled = true;  // To prevent multiple clicks.\n",
              "      quickchartButtonEl.classList.add('colab-df-spinner');\n",
              "      try {\n",
              "        const charts = await google.colab.kernel.invokeFunction(\n",
              "            'suggestCharts', [key], {});\n",
              "      } catch (error) {\n",
              "        console.error('Error during call to suggestCharts:', error);\n",
              "      }\n",
              "      quickchartButtonEl.classList.remove('colab-df-spinner');\n",
              "      quickchartButtonEl.classList.add('colab-df-quickchart-complete');\n",
              "    }\n",
              "    (() => {\n",
              "      let quickchartButtonEl =\n",
              "        document.querySelector('#df-03dd27c5-725d-45c6-bb53-f79d65b7524f button');\n",
              "      quickchartButtonEl.style.display =\n",
              "        google.colab.kernel.accessAllowed ? 'block' : 'none';\n",
              "    })();\n",
              "  </script>\n",
              "</div>\n",
              "\n",
              "    </div>\n",
              "  </div>\n"
            ]
          },
          "metadata": {},
          "execution_count": 24
        }
      ]
    },
    {
      "cell_type": "markdown",
      "source": [
        "**Extra Information**"
      ],
      "metadata": {
        "id": "VYioE1U8Cytk"
      }
    },
    {
      "cell_type": "markdown",
      "source": [
        "**Measures of Spread**\n",
        "\n",
        "Measures of spread (dispersion) are statistics that describe how data varies. While measures of center give us an idea of the typical value, measures of spread give us a sense of how much the data tends to diverge from the typical value.\n",
        "\n",
        "One of the simplest measures of spread is the range. Range is the distance between the maximum and minimum observations:\n"
      ],
      "metadata": {
        "id": "qNdthiN1BweL"
      }
    },
    {
      "cell_type": "code",
      "source": [
        "max(cars[\"Km/Ltr\"]) - min(cars[\"Km/Ltr\"])"
      ],
      "metadata": {
        "colab": {
          "base_uri": "https://localhost:8080/"
        },
        "id": "t93RI88vB21l",
        "outputId": "900b045b-1529-4969-d61e-974064310c01"
      },
      "execution_count": 25,
      "outputs": [
        {
          "output_type": "execute_result",
          "data": {
            "text/plain": [
              "7"
            ]
          },
          "metadata": {},
          "execution_count": 25
        }
      ]
    },
    {
      "cell_type": "markdown",
      "source": [
        "As noted earlier, the median represents the 50th percentile of a data set. A summary of several percentiles can be used to describe a variable's spread. We can extract the minimum value (0th percentile), first quartile (25th percentile), median, third quartile(75th percentile) and maximum value (100th percentile) using the quantile() function:"
      ],
      "metadata": {
        "id": "5b81HVOqB_eT"
      }
    },
    {
      "cell_type": "code",
      "source": [
        "five_num = [cars[\"Km/Ltr\"].quantile(0),\n",
        "            cars[\"Km/Ltr\"].quantile(0.25),\n",
        "            cars[\"Km/Ltr\"].quantile(0.50),\n",
        "            cars[\"Km/Ltr\"].quantile(0.75),\n",
        "            cars[\"Km/Ltr\"].quantile(1)]\n",
        "\n",
        "five_num"
      ],
      "metadata": {
        "colab": {
          "base_uri": "https://localhost:8080/"
        },
        "id": "RVOQ6613CAQA",
        "outputId": "60db5a74-02c6-4abb-c783-95c59e6dc36a"
      },
      "execution_count": 26,
      "outputs": [
        {
          "output_type": "execute_result",
          "data": {
            "text/plain": [
              "[6.0, 8.5, 10.0, 12.0, 13.0]"
            ]
          },
          "metadata": {},
          "execution_count": 26
        }
      ]
    },
    {
      "cell_type": "markdown",
      "source": [
        "Since these values are so commonly used to describe data, they are known as the \"five number summary\". They are the same percentile values returned by df.describe():"
      ],
      "metadata": {
        "id": "V6lD6UI9CJ1x"
      }
    },
    {
      "cell_type": "code",
      "source": [
        "cars[\"Km/Ltr\"].describe()"
      ],
      "metadata": {
        "colab": {
          "base_uri": "https://localhost:8080/"
        },
        "id": "BWXsObFOCLOD",
        "outputId": "94a646df-d055-4c1a-c520-2a7b05714f66"
      },
      "execution_count": 28,
      "outputs": [
        {
          "output_type": "execute_result",
          "data": {
            "text/plain": [
              "count    23.000000\n",
              "mean     10.000000\n",
              "std       1.930615\n",
              "min       6.000000\n",
              "25%       8.500000\n",
              "50%      10.000000\n",
              "75%      12.000000\n",
              "max      13.000000\n",
              "Name: Km/Ltr, dtype: float64"
            ]
          },
          "metadata": {},
          "execution_count": 28
        }
      ]
    },
    {
      "cell_type": "markdown",
      "source": [
        "Interquartile (IQR) range is another common measure of spread. IQR is the distance between the 3rd quartile and the 1st quartile:"
      ],
      "metadata": {
        "id": "w5wbLejxCUGD"
      }
    },
    {
      "cell_type": "code",
      "source": [
        "cars[\"Km/Ltr\"].quantile(0.75) - cars[\"Km/Ltr\"].quantile(0.25)"
      ],
      "metadata": {
        "colab": {
          "base_uri": "https://localhost:8080/"
        },
        "id": "i1L4VJgICVa1",
        "outputId": "d9e644bd-9ae9-42ee-e56c-7dd5022875a5"
      },
      "execution_count": 29,
      "outputs": [
        {
          "output_type": "execute_result",
          "data": {
            "text/plain": [
              "3.5"
            ]
          },
          "metadata": {},
          "execution_count": 29
        }
      ]
    },
    {
      "cell_type": "markdown",
      "source": [
        "**Variance** and **standard deviation** are two other common measures of spread. The variance of a distribution is the average of the squared deviations (differences) from the mean. Use df.var() to check variance:"
      ],
      "metadata": {
        "id": "4YJiiDYXCdMP"
      }
    },
    {
      "cell_type": "code",
      "source": [
        "cars[\"Km/Ltr\"].var()"
      ],
      "metadata": {
        "colab": {
          "base_uri": "https://localhost:8080/"
        },
        "id": "2eiBhB1QCfaN",
        "outputId": "09afbd03-3d67-410a-c0d8-daaec7407b26"
      },
      "execution_count": 30,
      "outputs": [
        {
          "output_type": "execute_result",
          "data": {
            "text/plain": [
              "3.727272727272727"
            ]
          },
          "metadata": {},
          "execution_count": 30
        }
      ]
    },
    {
      "cell_type": "markdown",
      "source": [
        "The **standard deviation** is the square root of the variance. Standard deviation can be more interpretable than variance, since the standard deviation is expressed in terms of the same units as the variable in question while variance is expressed in terms of units squared. Use df.std() to check the standard deviation:"
      ],
      "metadata": {
        "id": "y5iaTANoCisu"
      }
    },
    {
      "cell_type": "code",
      "source": [
        "cars[\"Km/Ltr\"].std()"
      ],
      "metadata": {
        "colab": {
          "base_uri": "https://localhost:8080/"
        },
        "id": "TGh01dn9Cj2s",
        "outputId": "192c6839-5e3c-49a0-82d6-13410c775829"
      },
      "execution_count": 31,
      "outputs": [
        {
          "output_type": "execute_result",
          "data": {
            "text/plain": [
              "1.9306145983268455"
            ]
          },
          "metadata": {},
          "execution_count": 31
        }
      ]
    }
  ]
}