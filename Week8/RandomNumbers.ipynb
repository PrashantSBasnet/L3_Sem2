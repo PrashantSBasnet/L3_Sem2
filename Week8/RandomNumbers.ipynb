{
  "nbformat": 4,
  "nbformat_minor": 0,
  "metadata": {
    "colab": {
      "provenance": [],
      "authorship_tag": "ABX9TyMd3iBbDV8v5AmEzGLTNQjd",
      "include_colab_link": true
    },
    "kernelspec": {
      "name": "python3",
      "display_name": "Python 3"
    },
    "language_info": {
      "name": "python"
    }
  },
  "cells": [
    {
      "cell_type": "markdown",
      "metadata": {
        "id": "view-in-github",
        "colab_type": "text"
      },
      "source": [
        "<a href=\"https://colab.research.google.com/github/PrashantSBasnet/L3_Sem2/blob/master/Week8/RandomNumbers.ipynb\" target=\"_parent\"><img src=\"https://colab.research.google.com/assets/colab-badge.svg\" alt=\"Open In Colab\"/></a>"
      ]
    },
    {
      "cell_type": "markdown",
      "source": [
        "**Random Number Generators**\n",
        "*   Valuable in tasks like data simulation, algorithm testing, and generating synthetic datasets\n",
        "\n"
      ],
      "metadata": {
        "id": "VoT0-EB9EKEr"
      }
    },
    {
      "cell_type": "code",
      "source": [
        "import pandas as pd\n",
        "import numpy as np\n",
        "\n",
        "# Set seed for reproducibility\n",
        "np.random.seed(42)\n",
        "\n",
        "# Generate a Pandas Series with random numbers\n",
        "series_length = 10  # Length of the series\n",
        "random_series = pd.Series(np.random.rand(series_length))  # Generates random numbers between 0 and 1\n",
        "\n",
        "print(random_series)"
      ],
      "metadata": {
        "colab": {
          "base_uri": "https://localhost:8080/"
        },
        "id": "LvbfMTZVGP5H",
        "outputId": "ca28901f-18a1-412a-cd86-095cc216ea97"
      },
      "execution_count": 15,
      "outputs": [
        {
          "output_type": "stream",
          "name": "stdout",
          "text": [
            "0    0.374540\n",
            "1    0.950714\n",
            "2    0.731994\n",
            "3    0.598658\n",
            "4    0.156019\n",
            "5    0.155995\n",
            "6    0.058084\n",
            "7    0.866176\n",
            "8    0.601115\n",
            "9    0.708073\n",
            "dtype: float64\n"
          ]
        }
      ]
    },
    {
      "cell_type": "markdown",
      "source": [
        "**1. Using the randint() function from NumPy**\n",
        "\n"
      ],
      "metadata": {
        "id": "1muMmea7EiOM"
      }
    },
    {
      "cell_type": "code",
      "execution_count": 1,
      "metadata": {
        "id": "9PO2ddJfD5Yw"
      },
      "outputs": [],
      "source": [
        "import pandas as pd\n",
        "import numpy as np"
      ]
    },
    {
      "cell_type": "code",
      "source": [
        "# creating variables \"row and cols\" to set row and columns for Dataframe\n",
        "\n",
        "row = 5\n",
        "cols = 5"
      ],
      "metadata": {
        "id": "m1LFgNDhEq1v"
      },
      "execution_count": 2,
      "outputs": []
    },
    {
      "cell_type": "code",
      "source": [
        "#create random integers in a certain range, use the numpy.random.randint() function\n",
        "Random = np.random.randint(low=0, high=100, size=(row, cols))\n"
      ],
      "metadata": {
        "id": "bRFfefSfEuIt"
      },
      "execution_count": 7,
      "outputs": []
    },
    {
      "cell_type": "code",
      "source": [
        "#Create dataframe \"df\" using random integer from variable \"data\".\n",
        "df = pd.DataFrame(Random)\n",
        "print (df)"
      ],
      "metadata": {
        "colab": {
          "base_uri": "https://localhost:8080/"
        },
        "id": "iXz3dUb-E0Rn",
        "outputId": "47fb6d46-8ade-4b5b-b3c7-2d4d1b80ab03"
      },
      "execution_count": 8,
      "outputs": [
        {
          "output_type": "stream",
          "name": "stdout",
          "text": [
            "    0   1   2   3   4\n",
            "0  70  82  37  80  98\n",
            "1   9  99  24  50  28\n",
            "2  20  16  80  57  23\n",
            "3  24  86  21  88  38\n",
            "4  36  12  39  14  82\n"
          ]
        }
      ]
    },
    {
      "cell_type": "markdown",
      "source": [
        "**2.Using the pandas.DataFrame.sample() method**"
      ],
      "metadata": {
        "id": "b-xgsWUdFHdy"
      }
    },
    {
      "cell_type": "code",
      "source": [
        "# Set the seed for reproducibility (optional)\n",
        "np.random.seed(42)\n",
        "\n",
        "# declare a variable with rows and columns size & name\n",
        "df = pd.DataFrame(np.random.randint(0, 10, size=(5, 3)), columns=['A', 'B', 'C'])\n",
        "\n",
        "# Generating random number using sample()\n",
        "df['A'] = df['A'].sample(n=5, replace=True, random_state=42).values\n",
        "df['B'] = df['B'].sample(n=5, replace=True, random_state=42).values\n",
        "df['C'] = df['C'].sample(n=5, replace=True, random_state=42).values\n",
        "\n",
        "print(df)"
      ],
      "metadata": {
        "colab": {
          "base_uri": "https://localhost:8080/"
        },
        "id": "EiSzT246FK2w",
        "outputId": "2514dcc9-562d-4e07-e159-ceffc9cd0e65"
      },
      "execution_count": 11,
      "outputs": [
        {
          "output_type": "stream",
          "name": "stdout",
          "text": [
            "   A  B  C\n",
            "0  4  3  7\n",
            "1  7  2  5\n",
            "2  2  6  7\n",
            "3  7  2  5\n",
            "4  7  2  5\n"
          ]
        }
      ]
    },
    {
      "cell_type": "markdown",
      "source": [
        "In the above code,\n",
        "1.   DataFrame called 'df' is built with 5 rows and 3 columns ('A' 'B' 'C')\n",
        "2.   The sample() method is subsequently implemented to choose and assign new values to the 'A randomly.'B'. And 'C' columns based on their respective samples with replacement.\n",
        "3.   The sample size is set at 5 replace=True allows for sampling with replacement and random_state=42 establishes the random seed for reproducibility purposes.\n",
        "4.   The updated DataFrame is displayed.\n",
        "\n",
        "\n",
        "\n"
      ],
      "metadata": {
        "id": "oE9y3FyVFkpI"
      }
    },
    {
      "cell_type": "markdown",
      "source": [
        "**3. Using the pandas.DataFrame.apply() method with a lambda function.**"
      ],
      "metadata": {
        "id": "CO3GZe3kF_ZR"
      }
    },
    {
      "cell_type": "code",
      "source": [
        "import random\n",
        "\n",
        "# Set the seed for reproducibility (optional)\n",
        "random.seed(42)\n",
        "\n",
        "# Create a data frame with 5 rows and 3 columns containing random integers between 0 and 9\n",
        "df = pd.DataFrame(index=range(5), columns=['RandomA', 'RandomB', 'RandomC'])\n",
        "\n",
        "# Generate random integers using apply() and a lambda function\n",
        "df['RandomA'] = df.apply(lambda _: random.randint(0, 9), axis=1)\n",
        "df['RandomB'] = df.apply(lambda _: random.randint(0, 9), axis=1)\n",
        "df['RandomC'] = df.apply(lambda _: random.randint(0, 9), axis=1)\n",
        "\n",
        "print(df)"
      ],
      "metadata": {
        "colab": {
          "base_uri": "https://localhost:8080/"
        },
        "id": "kZtJzu5AGBR1",
        "outputId": "273e28b4-9a69-4290-d645-4fe0fa3dfe5d"
      },
      "execution_count": 13,
      "outputs": [
        {
          "output_type": "stream",
          "name": "stdout",
          "text": [
            "   RandomA  RandomB  RandomC\n",
            "0        1        2        6\n",
            "1        0        1        0\n",
            "2        4        8        0\n",
            "3        3        1        1\n",
            "4        3        9        3\n"
          ]
        }
      ]
    },
    {
      "cell_type": "markdown",
      "source": [
        "**4. Using the pandas.Series.apply() function**"
      ],
      "metadata": {
        "id": "aJ6QaqypGK4K"
      }
    },
    {
      "cell_type": "code",
      "source": [
        "import random\n",
        "#setting the number of rows and columns for data frame\n",
        "num_rows = 10\n",
        "num_cols = 5\n",
        "#defining the function for generating random numbers\n",
        "def generate_random_int():\n",
        "   return random.randint(0, 100)\n",
        "#creating a variable to store a random number in data frame\n",
        "df = pd.DataFrame([[generate_random_int() for _ in range(num_cols)] for _ in range(num_rows)])\n",
        "\n",
        "print(df)"
      ],
      "metadata": {
        "colab": {
          "base_uri": "https://localhost:8080/"
        },
        "id": "5RK9KeFpGOru",
        "outputId": "3519e4dd-b8be-4843-d1b4-ca5d947e3e5f"
      },
      "execution_count": 14,
      "outputs": [
        {
          "output_type": "stream",
          "name": "stdout",
          "text": [
            "    0   1   2   3   4\n",
            "0  29  64  77   3  71\n",
            "1  25  91  83  89  69\n",
            "2  53  28  57  75  35\n",
            "3   0  97  20  89  54\n",
            "4  43  35  19  27  97\n",
            "5  43  13  11  48  12\n",
            "6  45  44  77  33   5\n",
            "7  93  58  68  15  48\n",
            "8  10  70  37  80  79\n",
            "9  46  73  24  90   8\n"
          ]
        }
      ]
    }
  ]
}